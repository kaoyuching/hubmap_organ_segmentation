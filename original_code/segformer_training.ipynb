{
 "cells": [
  {
   "cell_type": "code",
   "execution_count": 11,
   "id": "aee08b0c",
   "metadata": {},
   "outputs": [],
   "source": [
    "import os\n",
    "import glob\n",
    "import random\n",
    "import numpy as np\n",
    "import pandas as pd\n",
    "import cv2\n",
    "from tqdm.notebook import tqdm\n",
    "from typing import List, Optional, Union\n",
    "# import nibabel as nib\n",
    "\n",
    "from imblearn.under_sampling import RandomUnderSampler\n",
    "from sklearn.model_selection import StratifiedKFold, StratifiedGroupKFold\n",
    "\n",
    "import matplotlib.pyplot as plt\n",
    "import matplotlib.patches as patches\n",
    "\n",
    "import torch\n",
    "import torchvision\n",
    "from torch.utils import data\n",
    "from torch.utils.data import DataLoader, Dataset\n",
    "import torch.nn as nn\n",
    "import torch.nn.functional as F\n",
    "\n",
    "from timm.optim import Lookahead\n",
    "\n",
    "# albumentation\n",
    "import albumentations as A\n",
    "from albumentations import CropNonEmptyMaskIfExists\n",
    "from albumentations.pytorch import ToTensorV2\n",
    "\n",
    "# # 2d unet\n",
    "# import segmentation_models_pytorch as smp\n",
    "# from segmentation_models_pytorch.losses import JaccardLoss\n",
    "\n",
    "from transformers import SegformerFeatureExtractor, SegformerForSemanticSegmentation, SegformerConfig"
   ]
  },
  {
   "cell_type": "code",
   "execution_count": 1,
   "id": "c6134e38",
   "metadata": {},
   "outputs": [],
   "source": [
    "from custom_loss.dice import DiceBCELoss, DiceCELoss"
   ]
  },
  {
   "cell_type": "code",
   "execution_count": 2,
   "id": "bfdf2728",
   "metadata": {},
   "outputs": [],
   "source": [
    "from utils import rle2mask, mask2rle, predict_mask, dice_coef, compute_dice, set_seed\n",
    "from stain_aug import TrainAug, ColorHsvShift"
   ]
  },
  {
   "cell_type": "code",
   "execution_count": 3,
   "id": "cfd213e0",
   "metadata": {},
   "outputs": [],
   "source": [
    "# device\n",
    "os.environ['CUDA_VISIBLE_DEVICES'] = '1'\n",
    "device = torch.device(\"cuda\" if torch.cuda.is_available() else \"cpu\")"
   ]
  },
  {
   "cell_type": "code",
   "execution_count": 4,
   "id": "630f5c89",
   "metadata": {},
   "outputs": [],
   "source": [
    "# seed = 2022\n",
    "# torch.manual_seed(seed) # cpu\n",
    "# np.random.seed(seed) #numpy\n",
    "# random.seed(seed) #random and transforms\n",
    "\n",
    "# if torch.cuda.is_available():\n",
    "#     torch.cuda.manual_seed(seed) #gpu\n",
    "#     torch.backends.cudnn.deterministic=True # cudnn\n",
    "set_seed(2022)"
   ]
  },
  {
   "cell_type": "markdown",
   "id": "761dafd4",
   "metadata": {},
   "source": [
    "### Data"
   ]
  },
  {
   "cell_type": "code",
   "execution_count": 4,
   "id": "8c760d4d",
   "metadata": {},
   "outputs": [],
   "source": [
    "root = '/data2/share/hubmap_organ_segmentation'"
   ]
  },
  {
   "cell_type": "code",
   "execution_count": 5,
   "id": "54cb3fdd",
   "metadata": {},
   "outputs": [],
   "source": [
    "remove_lung = False\n",
    "# organ = 'spleen'\n",
    "organ = 'largeintestine'\n",
    "# organ = 'prostate'\n",
    "# organ = 'lung'\n",
    "# organ = 'kidney'\n",
    "# organ = None\n",
    "mode = 'binary'\n",
    "fold_id = 0\n",
    "# model_path_val = os.path.join(\"./models\", \"segformer_b2_fold4_768_la_stain\")\n",
    "# model_path_val = os.path.join(\"./models\", \"segformer_b2_fold1_1024\")\n",
    "# model_path_val = os.path.join(\"./models\", \"segformer_b2_fold2_1024_prostate\")\n",
    "# model_path_val = os.path.join(\"./models\", \"segformer_b2_fold1_768_spleen\")\n",
    "# model_path_val = os.path.join(\"./models\", \"segformer_b2_fold1_1024_largeintestine\")\n",
    "# model_path_val = os.path.join(\"./models\", \"segformer_b2_fold1_1024_kidney\")\n",
    "\n",
    "# segformerb5\n",
    "# model_path_val = os.path.join(\"./models\", \"segformer_b5_fold1_768_spleen\")\n",
    "# model_path_val = os.path.join(\"./models\", \"segformer_b5_fold1_768_spleen_v2\")\n",
    "# model_path_val = os.path.join(\"./models\", \"segformer_b5_fold1_768_prostate_v4\")\n",
    "model_path_val = os.path.join(\"./models\", \"segformer_b5_fold1_768_largeintestine_v3\")\n",
    "# model_path_val = os.path.join(\"./models\", \"segformer_b5_fold1_768_kidney\")\n",
    "# model_path_val = os.path.join(\"./models\", \"segformer_b5_fold1_768_kidney_v2\")\n",
    "# model_path_val = os.path.join(\"./models\", \"segformer_b5_fold1_768_lung\")"
   ]
  },
  {
   "cell_type": "code",
   "execution_count": 6,
   "id": "357d3792",
   "metadata": {},
   "outputs": [],
   "source": [
    "# batch_size = 8\n",
    "batch_size = 4\n",
    "# batch_size = 5\n",
    "# h, w = 512, 512\n",
    "h, w = 768, 768\n",
    "# h, w = 1024, 1024"
   ]
  },
  {
   "cell_type": "markdown",
   "id": "8ce34269",
   "metadata": {},
   "source": [
    "#### without patch"
   ]
  },
  {
   "cell_type": "code",
   "execution_count": 13,
   "id": "5a0176af",
   "metadata": {},
   "outputs": [
    {
     "data": {
      "text/html": [
       "<div>\n",
       "<style scoped>\n",
       "    .dataframe tbody tr th:only-of-type {\n",
       "        vertical-align: middle;\n",
       "    }\n",
       "\n",
       "    .dataframe tbody tr th {\n",
       "        vertical-align: top;\n",
       "    }\n",
       "\n",
       "    .dataframe thead th {\n",
       "        text-align: right;\n",
       "    }\n",
       "</style>\n",
       "<table border=\"1\" class=\"dataframe\">\n",
       "  <thead>\n",
       "    <tr style=\"text-align: right;\">\n",
       "      <th></th>\n",
       "      <th>id</th>\n",
       "      <th>organ</th>\n",
       "      <th>data_source</th>\n",
       "      <th>img_height</th>\n",
       "      <th>img_width</th>\n",
       "      <th>pixel_size</th>\n",
       "      <th>tissue_thickness</th>\n",
       "      <th>rle</th>\n",
       "      <th>age</th>\n",
       "      <th>sex</th>\n",
       "    </tr>\n",
       "  </thead>\n",
       "  <tbody>\n",
       "    <tr>\n",
       "      <th>0</th>\n",
       "      <td>10044</td>\n",
       "      <td>prostate</td>\n",
       "      <td>HPA</td>\n",
       "      <td>3000</td>\n",
       "      <td>3000</td>\n",
       "      <td>0.4</td>\n",
       "      <td>4</td>\n",
       "      <td>1459676 77 1462675 82 1465674 87 1468673 92 14...</td>\n",
       "      <td>37.0</td>\n",
       "      <td>Male</td>\n",
       "    </tr>\n",
       "    <tr>\n",
       "      <th>1</th>\n",
       "      <td>10274</td>\n",
       "      <td>prostate</td>\n",
       "      <td>HPA</td>\n",
       "      <td>3000</td>\n",
       "      <td>3000</td>\n",
       "      <td>0.4</td>\n",
       "      <td>4</td>\n",
       "      <td>715707 2 718705 8 721703 11 724701 18 727692 3...</td>\n",
       "      <td>76.0</td>\n",
       "      <td>Male</td>\n",
       "    </tr>\n",
       "    <tr>\n",
       "      <th>2</th>\n",
       "      <td>10392</td>\n",
       "      <td>spleen</td>\n",
       "      <td>HPA</td>\n",
       "      <td>3000</td>\n",
       "      <td>3000</td>\n",
       "      <td>0.4</td>\n",
       "      <td>4</td>\n",
       "      <td>1228631 20 1231629 24 1234624 40 1237623 47 12...</td>\n",
       "      <td>82.0</td>\n",
       "      <td>Male</td>\n",
       "    </tr>\n",
       "  </tbody>\n",
       "</table>\n",
       "</div>"
      ],
      "text/plain": [
       "      id     organ data_source  img_height  img_width  pixel_size  \\\n",
       "0  10044  prostate         HPA        3000       3000         0.4   \n",
       "1  10274  prostate         HPA        3000       3000         0.4   \n",
       "2  10392    spleen         HPA        3000       3000         0.4   \n",
       "\n",
       "   tissue_thickness                                                rle   age  \\\n",
       "0                 4  1459676 77 1462675 82 1465674 87 1468673 92 14...  37.0   \n",
       "1                 4  715707 2 718705 8 721703 11 724701 18 727692 3...  76.0   \n",
       "2                 4  1228631 20 1231629 24 1234624 40 1237623 47 12...  82.0   \n",
       "\n",
       "    sex  \n",
       "0  Male  \n",
       "1  Male  \n",
       "2  Male  "
      ]
     },
     "execution_count": 13,
     "metadata": {},
     "output_type": "execute_result"
    }
   ],
   "source": [
    "df = pd.read_csv(os.path.join(root, 'train.csv'))\n",
    "df.head(3)"
   ]
  },
  {
   "cell_type": "code",
   "execution_count": 9,
   "id": "1c6257c0",
   "metadata": {},
   "outputs": [],
   "source": [
    "def split_data(x, y, fold_id = 0):\n",
    "    skf = StratifiedKFold(n_splits=5)\n",
    "    folds = list(skf.split(x, y))\n",
    "\n",
    "    train_idx, valid_idx = folds[fold_id]\n",
    "    return train_idx, valid_idx"
   ]
  },
  {
   "cell_type": "code",
   "execution_count": 10,
   "id": "4b1d8b56",
   "metadata": {},
   "outputs": [],
   "source": [
    "train_idx, valid_idx = split_data(df['rle'], df['organ'], fold_id=fold_id)\n",
    "\n",
    "train_df = df.iloc[train_idx, :].reset_index(drop=True)\n",
    "valid_df = df.iloc[valid_idx, :].reset_index(drop=True)\n",
    "\n",
    "if remove_lung:\n",
    "    # remove lung\n",
    "    train_df = train_df[train_df['organ'] != 'lung']\n",
    "    valid_df = valid_df[valid_df['organ'] != 'lung']\n",
    "    \n",
    "if organ:\n",
    "    train_df = train_df[train_df['organ'] == organ]\n",
    "    valid_df = valid_df[valid_df['organ'] == organ]"
   ]
  },
  {
   "cell_type": "code",
   "execution_count": 11,
   "id": "d76615b8",
   "metadata": {},
   "outputs": [
    {
     "name": "stdout",
     "output_type": "stream",
     "text": [
      "train:  (46, 10)\n",
      "valid:  (12, 10)\n"
     ]
    }
   ],
   "source": [
    "print('train: ', train_df.shape)\n",
    "print('valid: ', valid_df.shape)"
   ]
  },
  {
   "cell_type": "markdown",
   "id": "1e74c735",
   "metadata": {},
   "source": [
    "### Dataset"
   ]
  },
  {
   "cell_type": "code",
   "execution_count": 12,
   "id": "525484e7",
   "metadata": {},
   "outputs": [],
   "source": [
    "# prostate\n",
    "# spleen\n",
    "# lung\n",
    "# kidney\n",
    "# largeintestine"
   ]
  },
  {
   "cell_type": "code",
   "execution_count": 13,
   "id": "48eaccc4",
   "metadata": {},
   "outputs": [],
   "source": [
    "class OrganDataset(Dataset):\n",
    "    def __init__(\n",
    "        self,\n",
    "        img_path: List[str],\n",
    "        mask_rle: List[str],\n",
    "        transform=None,\n",
    "        train: bool = True,\n",
    "        organs: List[str] = None,\n",
    "    ):\n",
    "        self.img_path = img_path\n",
    "        self.mask_rle = mask_rle\n",
    "        self.transform = transform\n",
    "        self.train = train\n",
    "        self.organ = organs\n",
    "\n",
    "    def __len__(self):\n",
    "        return len(self.img_path)\n",
    "\n",
    "    def __getitem__(self, idx):\n",
    "        organ = self.organ[idx]\n",
    "        image = cv2.imread(self.img_path[idx])\n",
    "        image = cv2.cvtColor(image, cv2.COLOR_BGR2RGB)\n",
    "#         image = cv2.cvtColor(image, cv2.COLOR_BGR2GRAY)\n",
    "#         image = np.stack([image]*3, axis=2)\n",
    "        \n",
    "        # mask\n",
    "        if self.train:\n",
    "            h, w, _ = image.shape\n",
    "            mask = rle2mask(rle=self.mask_rle[idx], w=w, h=h, transpose=True)\n",
    "            mask = np.expand_dims(mask, axis=2)\n",
    "        \n",
    "            # transform\n",
    "            if self.transform:\n",
    "                if isinstance(self.transform, dict):\n",
    "                    transform = self.transform[organ]\n",
    "                else:\n",
    "                    transform = self.transform\n",
    "                \n",
    "                image = image.astype(np.uint8)\n",
    "                aug = transform(image=image, mask=mask)\n",
    "                image = aug['image']  # (3, h, w)\n",
    "                mask = aug['mask']  # (1, h, w)\n",
    "            mask = mask.permute(2, 0, 1)\n",
    "            return image, mask, organ\n",
    "        else:\n",
    "            if self.transform:\n",
    "                image = image.astype(np.uint8)\n",
    "                aug = self.transform(image=image)\n",
    "                image = aug['image']  # (3, h, w)\n",
    "            return image, organ"
   ]
  },
  {
   "cell_type": "code",
   "execution_count": 14,
   "id": "f5cb3fba",
   "metadata": {},
   "outputs": [],
   "source": [
    "# multiclass dataset\n",
    "class OrganMulticlassDataset(Dataset):\n",
    "    _organ_encode = {\n",
    "        'prostate': 1,\n",
    "        'spleen': 2,\n",
    "        'kidney': 3,\n",
    "        'largeintestine': 4,\n",
    "        'lung': 5,\n",
    "    }\n",
    "        \n",
    "    def __init__(\n",
    "        self,\n",
    "        img_path: List[str],\n",
    "        mask_rle: List[str],\n",
    "        transform=None,\n",
    "        train: bool = True,\n",
    "        organ: List[str] = None,\n",
    "    ):\n",
    "        self.img_path = img_path\n",
    "        self.mask_rle = mask_rle\n",
    "        self.transform = transform\n",
    "        self.train = train\n",
    "        self.organ = organ\n",
    "\n",
    "    def __len__(self):\n",
    "        return len(self.img_path)\n",
    "\n",
    "    def __getitem__(self, idx):\n",
    "        organ = self.organ[idx]\n",
    "        image = cv2.imread(self.img_path[idx])\n",
    "        image = cv2.cvtColor(image, cv2.COLOR_BGR2RGB)\n",
    "        \n",
    "        # mask\n",
    "        if self.train:\n",
    "            h, w, _ = image.shape\n",
    "            mask = np.zeros((h, w, 6))\n",
    "            _mask = rle2mask(rle=self.mask_rle[idx], w=w, h=h, transpose=True)\n",
    "            mask[:, :, self._organ_encode[organ]] = _mask\n",
    "            mask[:, :, 0] = 1 - _mask\n",
    "        \n",
    "            # transform\n",
    "            if self.transform:\n",
    "                # shift hsv\n",
    "                # color_hsv_shift(img_rgb, thres_s=10, thres_v=230, hblue=135, hpink=165, hbr=20, ds=85, dv=40)\n",
    "                \n",
    "                image = image.astype(np.uint8)\n",
    "                aug = self.transform(image=image, mask=mask)\n",
    "                image = aug['image']  # (3, h, w)\n",
    "                mask = aug['mask']  # (1, h, w)\n",
    "                mask = mask.permute(2, 0, 1)\n",
    "            return image, mask\n",
    "        else:\n",
    "            if self.transform:\n",
    "                image = image.astype(np.uint8)\n",
    "                aug = self.transform(image=image)\n",
    "                image = aug['image']  # (3, h, w)\n",
    "            return image"
   ]
  },
  {
   "cell_type": "code",
   "execution_count": 15,
   "id": "b0f16682",
   "metadata": {},
   "outputs": [],
   "source": [
    "# # train transform v2\n",
    "# train_transform = A.OneOf([\n",
    "#     A.Compose([\n",
    "#         A.OneOf([\n",
    "#             A.Compose([\n",
    "#                 A.CropNonEmptyMaskIfExists(height=1536, width=1536, p=1),\n",
    "#                 A.Resize(height=h, width=w, interpolation=cv2.INTER_LINEAR, p=1),\n",
    "#             ], p=0.2),\n",
    "#             A.Compose([\n",
    "#                 A.CropNonEmptyMaskIfExists(height=1024, width=1024, p=1),\n",
    "#                 A.Resize(height=h, width=w, interpolation=cv2.INTER_LINEAR, p=1),\n",
    "#             ], p=0.2),\n",
    "#             A.Compose([\n",
    "#                 A.CropNonEmptyMaskIfExists(height=768, width=768, p=1),\n",
    "#                 A.Resize(height=h, width=w, interpolation=cv2.INTER_LINEAR, p=1),\n",
    "#             ], p=0.2),\n",
    "#             A.Compose([\n",
    "#                 A.CropNonEmptyMaskIfExists(height=512, width=512, p=1),\n",
    "#                 A.Resize(height=h, width=w, interpolation=cv2.INTER_LINEAR, p=1),\n",
    "#             ], p=0.1),\n",
    "#             A.Resize(height=h, width=w, interpolation=cv2.INTER_LINEAR, p=0.3),\n",
    "#         ], p=1),\n",
    "#         A.GaussianBlur(blur_limit=(3, 5), sigma_limit=(0, 2), p=0.3),\n",
    "#         A.OneOf([\n",
    "#             A.VerticalFlip(p=0.5),\n",
    "#             A.HorizontalFlip(p=0.5),\n",
    "#         ], p=0.5),\n",
    "#         A.OneOf([\n",
    "#             A.Rotate(limit=(-60, 60), border_mode=cv2.BORDER_DEFAULT, mask_value=0, p=0.5),\n",
    "#             A.RandomRotate90(p=0.5),\n",
    "#         ], p=0.5),\n",
    "#         A.OneOf([\n",
    "#             A.OpticalDistortion(p=0.3),\n",
    "#             A.GridDistortion(p=.1),\n",
    "#         ], p=0.3),\n",
    "#     #     A.OneOf([\n",
    "#     #         A.ChannelShuffle(p=0.1),\n",
    "#     #         A.HueSaturationValue(hue_shift_limit=40, sat_shift_limit=25, val_shift_limit=0, p=0.4),\n",
    "#     #         A.RandomBrightnessContrast(brightness_limit=(-0.6, -0.3), contrast_limit=(0.6, 1.1), brightness_by_max=True, p=0.4),\n",
    "#     #         A.CLAHE(clip_limit=3, p=0.1),\n",
    "#     #     ], p=0.5),\n",
    "#         A.HueSaturationValue(hue_shift_limit=25, sat_shift_limit=[-15, 35], val_shift_limit=[-20, 15], p=0.5),\n",
    "#         A.RandomBrightnessContrast(brightness_limit=(-0.6, -0.4), contrast_limit=(0.7, 1), brightness_by_max=True, p=0.5),\n",
    "#         A.CLAHE(clip_limit=3, p=0.4),\n",
    "#         A.Normalize(mean=(0.485, 0.456, 0.406), std=(0.229, 0.224, 0.225), max_pixel_value=255.0, p=1.0),\n",
    "#         ToTensorV2(),\n",
    "#     ], p=0.95),\n",
    "#     A.Compose([\n",
    "#         A.Resize(height=h, width=w, interpolation=cv2.INTER_LINEAR, p=1),\n",
    "#         A.Normalize(mean=(0.485, 0.456, 0.406), std=(0.229, 0.224, 0.225), max_pixel_value=255.0, p=1.0),\n",
    "#         ToTensorV2(),\n",
    "#     ], p=0.05)\n",
    "# ], p=1)"
   ]
  },
  {
   "cell_type": "code",
   "execution_count": 16,
   "id": "792d6af6",
   "metadata": {},
   "outputs": [],
   "source": [
    "def invert_color(image, **kwargs):\n",
    "    image = image.astype(np.uint8)\n",
    "    return ~image"
   ]
  },
  {
   "cell_type": "code",
   "execution_count": 17,
   "id": "c9e0a430",
   "metadata": {},
   "outputs": [],
   "source": [
    "# train_transform = A.Compose([\n",
    "#         A.Compose([\n",
    "#             A.OneOf([\n",
    "#                 A.CropNonEmptyMaskIfExists(height=1024, width=1024, p=0.5),\n",
    "# #                 A.CropNonEmptyMaskIfExists(height=512, width=512, p=0.3),\n",
    "# #                 A.CropNonEmptyMaskIfExists(height=256, width=256, p=0.2),\n",
    "#             ], p=0.2),\n",
    "#             A.Resize(height=h, width=w, interpolation=cv2.INTER_LINEAR, p=1),\n",
    "#         ], p=1),\n",
    "#         A.GaussianBlur(blur_limit=(3, 5), sigma_limit=(0, 3), p=0.3),\n",
    "#         A.Rotate(limit=(-90, 90), border_mode=cv2.BORDER_DEFAULT, mask_value=0, p=0.5),\n",
    "#         A.OneOf([\n",
    "#             A.VerticalFlip(p=0.5),\n",
    "#             A.HorizontalFlip(p=0.5),\n",
    "#         ], p=0.5),\n",
    "#         A.CLAHE(clip_limit=(1,4), p=0.5),\n",
    "# #         A.Lambda(name=\"invert_color\", image=invert_color, p=0.5),\n",
    "# #         A.HueSaturationValue(hue_shift_limit=40, sat_shift_limit=25, val_shift_limit=5, p=0.5),\n",
    "# #         A.RandomBrightnessContrast(brightness_limit=(-0.6, -0.4), contrast_limit=(0.7, 1), brightness_by_max=True, p=0.5),\n",
    "#         A.Normalize(mean=(0.485, 0.456, 0.406), std=(0.229, 0.224, 0.225), max_pixel_value=255.0, p=1.0),\n",
    "#         ToTensorV2(),\n",
    "#     ], p=1)"
   ]
  },
  {
   "cell_type": "code",
   "execution_count": 18,
   "id": "5710876b",
   "metadata": {},
   "outputs": [],
   "source": [
    "# train_transform = A.Compose([\n",
    "#         A.Compose([\n",
    "#             A.OneOf([\n",
    "#                 A.CropNonEmptyMaskIfExists(height=1024, width=1024, p=0.5),\n",
    "# #                 A.CropNonEmptyMaskIfExists(height=512, width=512, p=0.3),\n",
    "# #                 A.CropNonEmptyMaskIfExists(height=256, width=256, p=0.2),\n",
    "#             ], p=0.2),\n",
    "# #             A.CropNonEmptyMaskIfExists(height=1024, width=1024, p=0.2),\n",
    "# #             A.RandomScale(scale_limit=(-0.94, 0.4), p=0.3),\n",
    "#             A.Resize(height=h, width=w, interpolation=cv2.INTER_LINEAR, p=1),\n",
    "#         ], p=1),\n",
    "#         A.GaussianBlur(blur_limit=(3, 5), sigma_limit=(0, 3), p=0.3),\n",
    "#         A.Rotate(limit=(-90, 90), border_mode=cv2.BORDER_DEFAULT, mask_value=0, p=0.5),\n",
    "#         A.OneOf([\n",
    "#             A.VerticalFlip(p=0.5),\n",
    "#             A.HorizontalFlip(p=0.5),\n",
    "#         ], p=0.5),\n",
    "# #         A.Lambda(name=\"invert_color\", image=invert_color, p=0.5),\n",
    "#         A.HueSaturationValue(hue_shift_limit=40, sat_shift_limit=25, val_shift_limit=5, p=0.5),\n",
    "# #         A.RandomBrightnessContrast(brightness_limit=(-0.6, -0.4), contrast_limit=(0.7, 1), brightness_by_max=True, p=0.5),\n",
    "#         A.Normalize(mean=(0.485, 0.456, 0.406), std=(0.229, 0.224, 0.225), max_pixel_value=255.0, p=1.0),\n",
    "#         ToTensorV2(),\n",
    "#     ], p=1)"
   ]
  },
  {
   "cell_type": "code",
   "execution_count": 19,
   "id": "306aab3e",
   "metadata": {},
   "outputs": [],
   "source": [
    "# validate transform\n",
    "valid_transform = A.Compose([\n",
    "    A.Resize(height=h, width=w, interpolation=cv2.INTER_LINEAR),\n",
    "    A.Normalize(mean=(0.485, 0.456, 0.406), std=(0.229, 0.224, 0.225), max_pixel_value=255.0, p=1.0),\n",
    "    ToTensorV2(),\n",
    "])"
   ]
  },
  {
   "cell_type": "code",
   "execution_count": 20,
   "id": "0290a310",
   "metadata": {},
   "outputs": [],
   "source": [
    "train_transforms = {\n",
    "    'kidney': TrainAug(h, w).aug(organ='kidney'),\n",
    "    'largeintestine': TrainAug(h, w).aug(organ='largeintestine'),\n",
    "    'lung': TrainAug(h, w).aug(organ=None),\n",
    "    'spleen': TrainAug(h, w).aug(organ='spleen'),\n",
    "    'prostate': TrainAug(h, w).aug(organ='prostate'),\n",
    "}\n",
    "\n",
    "# train_transforms = {\n",
    "#     'kidney': train_transform,\n",
    "#     'largeintestine': train_transform,\n",
    "#     'lung': train_transform,\n",
    "#     'spleen': train_transform,\n",
    "#     'prostate': train_transform,\n",
    "# }"
   ]
  },
  {
   "cell_type": "code",
   "execution_count": 21,
   "id": "d50546b2",
   "metadata": {},
   "outputs": [],
   "source": [
    "# train data\n",
    "train_img_fnames = [os.path.join(root, 'train_images', '%s.tiff'%(_id,)) for _id in train_df['id']]\n",
    "train_mask_rle = train_df['rle'].tolist()\n",
    "\n",
    "if mode == 'binary':\n",
    "    train_data = OrganDataset(\n",
    "        img_path=train_img_fnames,\n",
    "        mask_rle=train_mask_rle,\n",
    "        transform=train_transforms,\n",
    "        train=True,\n",
    "        organs=train_df['organ'].tolist(),\n",
    "    )\n",
    "elif mode == 'multiclass':\n",
    "    train_data = OrganMulticlassDataset(\n",
    "        img_path=train_img_fnames,\n",
    "        mask_rle=train_mask_rle,\n",
    "        transform=train_transform,\n",
    "        train=True,\n",
    "        organ=train_df['organ'].tolist(),\n",
    "    )\n",
    "else:\n",
    "    raise ValueError('Invalid mode')\n",
    "    \n",
    "train_dataloader = DataLoader(train_data, batch_size=batch_size, shuffle=False, drop_last=True, num_workers=8)"
   ]
  },
  {
   "cell_type": "code",
   "execution_count": 22,
   "id": "85df32f7",
   "metadata": {},
   "outputs": [],
   "source": [
    "# val data\n",
    "valid_img_fnames = [os.path.join(root, 'train_images', '%s.tiff'%(_id,)) for _id in valid_df['id']]\n",
    "valid_mask_rle = valid_df['rle'].tolist()\n",
    "\n",
    "if mode == 'binary':\n",
    "    valid_data = OrganDataset(\n",
    "        img_path=valid_img_fnames,\n",
    "        mask_rle=valid_mask_rle,\n",
    "        transform=valid_transform,\n",
    "        train=True,\n",
    "        organs=train_df['organ'].tolist(),\n",
    "    )\n",
    "elif mode == 'multiclass':\n",
    "    valid_data = OrganMulticlassDataset(\n",
    "        img_path=valid_img_fnames,\n",
    "        mask_rle=valid_mask_rle,\n",
    "        transform=valid_transform,\n",
    "        train=True,\n",
    "        organ=valid_df['organ'].tolist(),\n",
    "    )\n",
    "else:\n",
    "    raise ValueError('Invalid mode')\n",
    "    \n",
    "valid_dataloader = DataLoader(valid_data, batch_size=batch_size, shuffle=False, num_workers=8)"
   ]
  },
  {
   "cell_type": "code",
   "execution_count": 23,
   "id": "f11cfa2b",
   "metadata": {},
   "outputs": [],
   "source": [
    "# image\n",
    "def check_input_data(idx):\n",
    "    data1, mask1, _ = train_data[idx]\n",
    "\n",
    "    fig, ax = plt.subplots(1, 2, figsize=(10, 5))\n",
    "    ax[0].imshow(data1.permute(1, 2, 0), cmap='gray')\n",
    "    ax[1].imshow(mask1.permute(1, 2, 0), cmap='gray')\n",
    "    plt.show()"
   ]
  },
  {
   "cell_type": "code",
   "execution_count": 24,
   "id": "d816c584",
   "metadata": {},
   "outputs": [],
   "source": [
    "# check_input_data(25)"
   ]
  },
  {
   "cell_type": "code",
   "execution_count": 25,
   "id": "425fa34e",
   "metadata": {},
   "outputs": [],
   "source": [
    "# check_input_data(0)"
   ]
  },
  {
   "cell_type": "markdown",
   "id": "726a86b9",
   "metadata": {},
   "source": [
    "### Model"
   ]
  },
  {
   "cell_type": "code",
   "execution_count": 26,
   "id": "3b6d98bf",
   "metadata": {},
   "outputs": [],
   "source": [
    "class SegFormer(nn.Module):\n",
    "    def __init__(self, num_classes: int = 1, pretrained: str = None):\n",
    "        super(SegFormer, self).__init__()\n",
    "        if pretrained is None:\n",
    "            config = SegformerConfig(\n",
    "                num_channels=3,\n",
    "                num_labels=num_classes,\n",
    "            )\n",
    "            self.segformer = SegformerForSemanticSegmentation(config)\n",
    "        else:\n",
    "            self.segformer = SegformerForSemanticSegmentation.from_pretrained(\n",
    "                pretrained,\n",
    "                num_channels=3,\n",
    "                num_labels=num_classes,\n",
    "                ignore_mismatched_sizes=True,\n",
    "            )\n",
    "            \n",
    "    def forward(self, inputs):\n",
    "        *_, h, w = inputs.shape\n",
    "        output = self.segformer(inputs).logits  # shape(h/4, w/4, cls)\n",
    "        \n",
    "        upsampled_output = nn.functional.interpolate(\n",
    "            output, \n",
    "            size=None,\n",
    "            scale_factor=4,\n",
    "            mode=\"bilinear\", \n",
    "            align_corners=False\n",
    "        )\n",
    "        return upsampled_output"
   ]
  },
  {
   "cell_type": "code",
   "execution_count": 27,
   "id": "f07ff600",
   "metadata": {},
   "outputs": [
    {
     "name": "stderr",
     "output_type": "stream",
     "text": [
      "Some weights of SegformerForSemanticSegmentation were not initialized from the model checkpoint at nvidia/segformer-b5-finetuned-ade-640-640 and are newly initialized because the shapes did not match:\n",
      "- decode_head.classifier.weight: found shape torch.Size([150, 768, 1, 1]) in the checkpoint and torch.Size([1, 768, 1, 1]) in the model instantiated\n",
      "- decode_head.classifier.bias: found shape torch.Size([150]) in the checkpoint and torch.Size([1]) in the model instantiated\n",
      "You should probably TRAIN this model on a down-stream task to be able to use it for predictions and inference.\n"
     ]
    }
   ],
   "source": [
    "if mode == 'binary':\n",
    "    num_classes = 1\n",
    "elif mode == 'multiclass':\n",
    "    num_classes = 6\n",
    "\n",
    "model = SegFormer(\n",
    "    num_classes=num_classes,\n",
    "#     pretrained=\"nvidia/mit-b5\"\n",
    "#     pretrained=\"nvidia/segformer-b2-finetuned-cityscapes-1024-1024\",\n",
    "    pretrained=\"nvidia/segformer-b5-finetuned-ade-640-640\",\n",
    "#     pretrained=\"nvidia/segformer-b2-finetuned-ade-512-512\",\n",
    "#     pretrained='./models/segformer_b2_fold3_768_la'\n",
    "#     pretrained='nvidia/segformer-b4-finetuned-ade-512-512',\n",
    ")\n",
    "\n",
    "model = model.to(device)"
   ]
  },
  {
   "cell_type": "code",
   "execution_count": 28,
   "id": "234440f0",
   "metadata": {},
   "outputs": [],
   "source": [
    "# # unet b3\n",
    "# model = smp.DeepLabV3Plus(\n",
    "#     encoder_name=\"timm-efficientnet-b3\",\n",
    "#     encoder_depth=5,\n",
    "#     encoder_weights=\"imagenet\",\n",
    "#     encoder_output_stride=16,\n",
    "#     decoder_channels=256,\n",
    "#     decoder_atrous_rates=(12, 24, 36),\n",
    "#     in_channels=3,\n",
    "#     classes=1,\n",
    "# )\n",
    "\n",
    "# model = model.to(device)"
   ]
  },
  {
   "cell_type": "markdown",
   "id": "c2233cd5",
   "metadata": {},
   "source": [
    "### unit function"
   ]
  },
  {
   "cell_type": "code",
   "execution_count": 29,
   "id": "28b977b4",
   "metadata": {},
   "outputs": [],
   "source": [
    "# BCE-Dice loss with class weight\n",
    "class DiceBCELoss(nn.Module):\n",
    "    def __init__(self,\n",
    "            class_weight: list = None,\n",
    "            weight=None,\n",
    "            logit: bool = True,\n",
    "            reduction='mean'\n",
    "        ):\n",
    "        super(DiceBCELoss, self).__init__()\n",
    "        self.class_weight = class_weight \n",
    "        self.bce_loss = nn.BCELoss(weight, reduction=reduction)\n",
    "        self.logit = logit\n",
    "\n",
    "    def forward(self, inputs, targets, smooth=1):\n",
    "        device = inputs.device\n",
    "        b, c, *_ = inputs.size()\n",
    "        \n",
    "        if self.class_weight is None:\n",
    "            self.class_weight = [1]*c\n",
    "        self.class_weight = torch.tensor(self.class_weight, device=device)\n",
    "        \n",
    "        # bce loss\n",
    "        if self.logit:\n",
    "            inputs = torch.sigmoid(inputs)\n",
    "            \n",
    "        bce = 0\n",
    "        for i, _weight in enumerate(self.class_weight):\n",
    "            _inputs = inputs.view(-1)\n",
    "            _targets = targets[:, i, :, :].contiguous().view(-1)\n",
    "            _bce = self.bce_loss(_inputs, _targets)*_weight\n",
    "            bce += _bce\n",
    "        \n",
    "        # dice loss\n",
    "        #flatten label and prediction tensors\n",
    "        dice_score = 0\n",
    "        _inputs = inputs.view(b, c, -1)\n",
    "        _targets = targets.view(b, c, -1)\n",
    "\n",
    "        intersection = torch.sum(_inputs * _targets, dim=2)\n",
    "        denominator = torch.sum(_inputs + _targets, dim=2)\n",
    "        _dice_score = (2.*intersection + smooth)/(denominator + smooth)  # shape: (B, C)\n",
    "        dice_score = torch.mean(_dice_score, dim=0)\n",
    "        dice_loss = 1 - torch.mean(dice_score*self.class_weight)\n",
    "        \n",
    "        # dice bce loss\n",
    "        return bce + dice_loss"
   ]
  },
  {
   "cell_type": "code",
   "execution_count": 30,
   "id": "95a5af62",
   "metadata": {},
   "outputs": [],
   "source": [
    "# CE-Dice loss with class weight\n",
    "class DiceCELoss(nn.Module):\n",
    "    def __init__(self,\n",
    "            class_weight: list = None,\n",
    "            logit: bool = True,\n",
    "            reduction='mean'\n",
    "        ):\n",
    "        super(DiceCELoss, self).__init__()\n",
    "        self.class_weight = class_weight \n",
    "        # log softmax + nll loss\n",
    "        self.ce_loss = nn.CrossEntropyLoss(class_weight, reduction=reduction)\n",
    "        self.logit = logit\n",
    "\n",
    "    def forward(self, inputs, targets, smooth=1):\n",
    "        device = inputs.device\n",
    "        b, c, *_ = inputs.size()\n",
    "        \n",
    "        if self.class_weight is None:\n",
    "            self.class_weight = [1]*c\n",
    "        self.class_weight = torch.tensor(self.class_weight, device=device)\n",
    "        \n",
    "        # ce loss\n",
    "        ce_targets = torch.argmax(targets, dim=1)\n",
    "        ce = self.ce_loss(inputs, ce_targets)\n",
    "        \n",
    "        # dice loss\n",
    "        #flatten label and prediction tensors\n",
    "        dice_score = 0\n",
    "        _inputs = inputs.view(b, c, -1)\n",
    "        _targets = targets.view(b, c, -1)\n",
    "\n",
    "        intersection = torch.sum(_inputs * _targets, dim=2)\n",
    "        denominator = torch.sum(_inputs + _targets, dim=2)\n",
    "        _dice_score = (2.*intersection + smooth)/(denominator + smooth)  # shape: (B, C)\n",
    "        dice_score = torch.mean(_dice_score, dim=0)\n",
    "        dice_loss = 1 - torch.mean(dice_score*self.class_weight)\n",
    "        \n",
    "        # dice bce loss\n",
    "        return ce + dice_loss"
   ]
  },
  {
   "cell_type": "markdown",
   "id": "4483d57d",
   "metadata": {},
   "source": [
    "### training"
   ]
  },
  {
   "cell_type": "markdown",
   "id": "35f9da98",
   "metadata": {},
   "source": [
    "#### hyperparameter"
   ]
  },
  {
   "cell_type": "code",
   "execution_count": 31,
   "id": "55c22452",
   "metadata": {},
   "outputs": [],
   "source": [
    "# from sam import SAM, disable_running_stats, enable_running_stats"
   ]
  },
  {
   "cell_type": "code",
   "execution_count": 32,
   "id": "d28aa3e9",
   "metadata": {},
   "outputs": [],
   "source": [
    "# class_weight = torch.Tensor([0.13, 0.32, 0.55]).to(device)  # corresponding to liver and tumor\n",
    "\n",
    "learning_rate = 8e-5\n",
    "\n",
    "if mode == 'binary':\n",
    "    loss_fn = DiceBCELoss(class_weight=None)\n",
    "else:\n",
    "    loss_fn = DiceCELoss(class_weight=None)\n",
    "# optimizer = torch.optim.AdamW(model.parameters(), lr=learning_rate, betas=(0.9, 0.999), weight_decay=5e-4)\n",
    "\n",
    "# lookahead\n",
    "base_optimizer = torch.optim.AdamW(model.parameters(), lr=learning_rate, betas=(0.9, 0.999), weight_decay=0.01)\n",
    "optimizer = Lookahead(base_optimizer, alpha=0.5, k=5)\n",
    "\n",
    "# sam\n",
    "# base_optimizer = torch.optim.AdamW\n",
    "# optimizer = SAM(model.parameters(), base_optimizer, lr=learning_rate, betas=(0.9, 0.999), weight_decay=0.01)\n",
    "\n",
    "epochs = 80\n",
    "# epochs = 50\n",
    "# scheduler = torch.optim.lr_scheduler.StepLR(optimizer, , gamma=0.5, last_epoch=-1)\n",
    "# scheduler = torch.optim.lr_scheduler.OneCycleLR(\n",
    "#     optimizer,\n",
    "#     max_lr=learning_rate,\n",
    "#     total_steps=epochs,\n",
    "#     pct_start=0.3,\n",
    "#     div_factor=25,\n",
    "#     verbose=False,\n",
    "# )\n",
    "# scheduler = torch.optim.lr_scheduler.CosineAnnealingLR(optimizer, T_max=epochs, eta_min=1e-8)\n",
    "scheduler = torch.optim.lr_scheduler.CosineAnnealingLR(optimizer, T_max=epochs)\n",
    "\n",
    "\n",
    "# learning_rate = 1e-4/2\n",
    "# cycle = 30\n",
    "# scheduler = torch.optim.lr_scheduler.LambdaLR(optimizer, lambda x: (np.cos(x*2*np.pi/cycle-np.pi)+1)*(0.7**(x//cycle)), last_epoch=-1)"
   ]
  },
  {
   "cell_type": "code",
   "execution_count": 33,
   "id": "092e2e3c",
   "metadata": {},
   "outputs": [],
   "source": [
    "# # swa\n",
    "# learning_rate = 5e-5\n",
    "\n",
    "# loss_fn = DiceBCELoss(class_weight=None)\n",
    "\n",
    "# swa_start = 45\n",
    "# swa_model = torch.optim.swa_utils.AveragedModel(model)\n",
    "# optimizer = torch.optim.AdamW(model.parameters(), lr=learning_rate, betas=(0.9, 0.999), weight_decay=5e-4)\n",
    "\n",
    "# epochs = 100\n",
    "# scheduler = torch.optim.lr_scheduler.CosineAnnealingLR(optimizer, T_max=epochs)\n",
    "\n",
    "# swa_scheduler = torch.optim.swa_utils.SWALR(optimizer, swa_lr=0.05)"
   ]
  },
  {
   "cell_type": "markdown",
   "id": "313c9b89",
   "metadata": {},
   "source": [
    "#### pipeline"
   ]
  },
  {
   "cell_type": "code",
   "execution_count": 34,
   "id": "46df3df0",
   "metadata": {},
   "outputs": [],
   "source": [
    "# pipeline function\n",
    "class RunningAverage():\n",
    "    def __init__(self):\n",
    "        self.steps = 0\n",
    "        self.total = 0\n",
    "        \n",
    "    def update(self, val):\n",
    "        self.total += val\n",
    "        self.steps += 1\n",
    "        \n",
    "    def __call__(self):\n",
    "        return self.total / self.steps\n",
    "\n",
    "\n",
    "def run_train(dataloader, model, loss_fn, optimizer, device):\n",
    "    loss_avg = RunningAverage()\n",
    "    dicecoef = 0.0\n",
    "    \n",
    "    model.train()\n",
    "    for images, labels, _ in tqdm(dataloader):\n",
    "        images = images.type(torch.FloatTensor)\n",
    "        labels = labels.type(torch.FloatTensor)\n",
    "        images, labels = images.to(device), labels.to(device)\n",
    "        output = model(images)\n",
    "        loss = loss_fn(output, labels)\n",
    "        loss_avg.update(loss.item())\n",
    "\n",
    "        optimizer.zero_grad()\n",
    "        loss.backward()\n",
    "        optimizer.step()\n",
    "        \n",
    "#         enable_running_stats(model)\n",
    "#         output = model(images)\n",
    "#         loss = loss_fn(output, labels)\n",
    "#         loss_avg.update(loss.item())\n",
    "#         loss.backward()\n",
    "#         optimizer.first_step(zero_grad=True)\n",
    "        \n",
    "#         disable_running_stats(model)  # <- this is the important line\n",
    "#         loss_fn(model(images), labels).backward()\n",
    "#         optimizer.second_step(zero_grad=True)\n",
    "\n",
    "        labels = labels.detach().cpu().numpy()\n",
    "        output = output.detach().cpu().numpy()\n",
    "        output_mask = predict_mask(output)\n",
    "        if mode == 'binary':\n",
    "            dice = compute_dice(labels, output_mask)\n",
    "        else:\n",
    "            dice = compute_dice(labels[:, 1:, :, :], output_mask[:, 1:, :, :])\n",
    "        dicecoef += dice\n",
    "    \n",
    "    return loss_avg(), dicecoef / len(dataloader)\n",
    "\n",
    "\n",
    "@torch.no_grad()\n",
    "def run_valid(dataloader, model, loss_fn, device):\n",
    "    loss_avg = RunningAverage()\n",
    "    dicecoef = 0.0\n",
    "    \n",
    "    model.eval()\n",
    "    for images, labels, _ in tqdm(dataloader):\n",
    "        images = images.type(torch.FloatTensor)\n",
    "        labels = labels.type(torch.FloatTensor)\n",
    "        images, labels = images.to(device), labels.to(device)\n",
    "        output = model(images)\n",
    "        loss = loss_fn(output, labels)\n",
    "        loss_avg.update(loss.item())\n",
    "\n",
    "        labels = labels.detach().cpu().numpy()\n",
    "        output = output.detach().cpu().numpy()\n",
    "        output_mask = predict_mask(output)\n",
    "        if mode == 'binary':\n",
    "            dice = compute_dice(labels, output_mask)\n",
    "        else:\n",
    "            dice = compute_dice(labels[:, 1:, :, :], output_mask[:, 1:, :, :])\n",
    "        dicecoef += dice\n",
    "    return loss_avg(), dicecoef / len(dataloader)"
   ]
  },
  {
   "cell_type": "markdown",
   "id": "eddff7ea",
   "metadata": {},
   "source": [
    "#### run"
   ]
  },
  {
   "cell_type": "code",
   "execution_count": 35,
   "id": "adcef863",
   "metadata": {
    "scrolled": true
   },
   "outputs": [
    {
     "name": "stdout",
     "output_type": "stream",
     "text": [
      "epoch 1/160\n"
     ]
    },
    {
     "data": {
      "application/vnd.jupyter.widget-view+json": {
       "model_id": "3c08c9298643452cba187894263c19fc",
       "version_major": 2,
       "version_minor": 0
      },
      "text/plain": [
       "  0%|          | 0/11 [00:00<?, ?it/s]"
      ]
     },
     "metadata": {},
     "output_type": "display_data"
    },
    {
     "name": "stderr",
     "output_type": "stream",
     "text": [
      "/tmp/ipykernel_45089/2873041410.py:20: UserWarning: To copy construct from a tensor, it is recommended to use sourceTensor.clone().detach() or sourceTensor.clone().detach().requires_grad_(True), rather than torch.tensor(sourceTensor).\n",
      "  self.class_weight = torch.tensor(self.class_weight, device=device)\n",
      "/home/doriskao/anaconda3/envs/torch19/lib/python3.8/site-packages/timm/optim/lookahead.py:38: UserWarning: This overload of add_ is deprecated:\n",
      "\tadd_(Number alpha, Tensor other)\n",
      "Consider using one of the following signatures instead:\n",
      "\tadd_(Tensor other, *, Number alpha) (Triggered internally at  /pytorch/torch/csrc/utils/python_arg_parser.cpp:1025.)\n",
      "  slow.add_(group['lookahead_alpha'], fast_p.data - slow)\n"
     ]
    },
    {
     "data": {
      "application/vnd.jupyter.widget-view+json": {
       "model_id": "369d569d4ce846169dc2195c86c19672",
       "version_major": 2,
       "version_minor": 0
      },
      "text/plain": [
       "  0%|          | 0/3 [00:00<?, ?it/s]"
      ]
     },
     "metadata": {},
     "output_type": "display_data"
    },
    {
     "name": "stdout",
     "output_type": "stream",
     "text": [
      "saving model...\n",
      "train loss: 1.206 valid loss: 1.068 lr: 0.0000800 train dice: 0.4006 valid dice: 0.6974\n",
      "epoch 2/160\n"
     ]
    },
    {
     "data": {
      "application/vnd.jupyter.widget-view+json": {
       "model_id": "6a4d8a30d32748f9903f251d265472dc",
       "version_major": 2,
       "version_minor": 0
      },
      "text/plain": [
       "  0%|          | 0/11 [00:00<?, ?it/s]"
      ]
     },
     "metadata": {},
     "output_type": "display_data"
    },
    {
     "data": {
      "application/vnd.jupyter.widget-view+json": {
       "model_id": "c6bbffdb60b24bbe91a1b74313c0b3c3",
       "version_major": 2,
       "version_minor": 0
      },
      "text/plain": [
       "  0%|          | 0/3 [00:00<?, ?it/s]"
      ]
     },
     "metadata": {},
     "output_type": "display_data"
    },
    {
     "name": "stdout",
     "output_type": "stream",
     "text": [
      "saving model...\n",
      "train loss: 1.018 valid loss: 0.947 lr: 0.0000800 train dice: 0.6939 valid dice: 0.7521\n",
      "epoch 3/160\n"
     ]
    },
    {
     "data": {
      "application/vnd.jupyter.widget-view+json": {
       "model_id": "88b823df58104336870b6e8045ef4cb0",
       "version_major": 2,
       "version_minor": 0
      },
      "text/plain": [
       "  0%|          | 0/11 [00:00<?, ?it/s]"
      ]
     },
     "metadata": {},
     "output_type": "display_data"
    },
    {
     "data": {
      "application/vnd.jupyter.widget-view+json": {
       "model_id": "f9a3847c7ada416080de9f82cc06a0cf",
       "version_major": 2,
       "version_minor": 0
      },
      "text/plain": [
       "  0%|          | 0/3 [00:00<?, ?it/s]"
      ]
     },
     "metadata": {},
     "output_type": "display_data"
    },
    {
     "name": "stdout",
     "output_type": "stream",
     "text": [
      "saving model...\n",
      "train loss: 0.943 valid loss: 0.879 lr: 0.0000799 train dice: 0.7311 valid dice: 0.7638\n",
      "epoch 4/160\n"
     ]
    },
    {
     "data": {
      "application/vnd.jupyter.widget-view+json": {
       "model_id": "000f01b7c0c24bd0adf4154866c53b2b",
       "version_major": 2,
       "version_minor": 0
      },
      "text/plain": [
       "  0%|          | 0/11 [00:00<?, ?it/s]"
      ]
     },
     "metadata": {},
     "output_type": "display_data"
    },
    {
     "data": {
      "application/vnd.jupyter.widget-view+json": {
       "model_id": "b917c9a8160b4a3ba618b78d184d840a",
       "version_major": 2,
       "version_minor": 0
      },
      "text/plain": [
       "  0%|          | 0/3 [00:00<?, ?it/s]"
      ]
     },
     "metadata": {},
     "output_type": "display_data"
    },
    {
     "name": "stdout",
     "output_type": "stream",
     "text": [
      "saving model...\n",
      "train loss: 0.881 valid loss: 0.827 lr: 0.0000797 train dice: 0.7560 valid dice: 0.7748\n",
      "epoch 5/160\n"
     ]
    },
    {
     "data": {
      "application/vnd.jupyter.widget-view+json": {
       "model_id": "7f4797b0b7f94a0b8a7c3129c9676420",
       "version_major": 2,
       "version_minor": 0
      },
      "text/plain": [
       "  0%|          | 0/11 [00:00<?, ?it/s]"
      ]
     },
     "metadata": {},
     "output_type": "display_data"
    },
    {
     "data": {
      "application/vnd.jupyter.widget-view+json": {
       "model_id": "37af9aea08354902ae4b8dc62cd323e0",
       "version_major": 2,
       "version_minor": 0
      },
      "text/plain": [
       "  0%|          | 0/3 [00:00<?, ?it/s]"
      ]
     },
     "metadata": {},
     "output_type": "display_data"
    },
    {
     "name": "stdout",
     "output_type": "stream",
     "text": [
      "saving model...\n",
      "train loss: 0.835 valid loss: 0.769 lr: 0.0000795 train dice: 0.7587 valid dice: 0.7996\n",
      "epoch 6/160\n"
     ]
    },
    {
     "data": {
      "application/vnd.jupyter.widget-view+json": {
       "model_id": "633fe0e1a7164549a12c53c26a217eb2",
       "version_major": 2,
       "version_minor": 0
      },
      "text/plain": [
       "  0%|          | 0/11 [00:00<?, ?it/s]"
      ]
     },
     "metadata": {},
     "output_type": "display_data"
    },
    {
     "data": {
      "application/vnd.jupyter.widget-view+json": {
       "model_id": "2997761e1b77477c88bcd0338971e1e5",
       "version_major": 2,
       "version_minor": 0
      },
      "text/plain": [
       "  0%|          | 0/3 [00:00<?, ?it/s]"
      ]
     },
     "metadata": {},
     "output_type": "display_data"
    },
    {
     "name": "stdout",
     "output_type": "stream",
     "text": [
      "saving model...\n",
      "train loss: 0.774 valid loss: 0.701 lr: 0.0000792 train dice: 0.7883 valid dice: 0.8158\n",
      "epoch 7/160\n"
     ]
    },
    {
     "data": {
      "application/vnd.jupyter.widget-view+json": {
       "model_id": "6fbe0c7e55244205a760d54577f4ff51",
       "version_major": 2,
       "version_minor": 0
      },
      "text/plain": [
       "  0%|          | 0/11 [00:00<?, ?it/s]"
      ]
     },
     "metadata": {},
     "output_type": "display_data"
    },
    {
     "data": {
      "application/vnd.jupyter.widget-view+json": {
       "model_id": "7dc4d83ab43d44f9bb31f869da9406a8",
       "version_major": 2,
       "version_minor": 0
      },
      "text/plain": [
       "  0%|          | 0/3 [00:00<?, ?it/s]"
      ]
     },
     "metadata": {},
     "output_type": "display_data"
    },
    {
     "name": "stdout",
     "output_type": "stream",
     "text": [
      "saving model...\n",
      "train loss: 0.744 valid loss: 0.677 lr: 0.0000789 train dice: 0.8032 valid dice: 0.8350\n",
      "epoch 8/160\n"
     ]
    },
    {
     "data": {
      "application/vnd.jupyter.widget-view+json": {
       "model_id": "133af5445a3049e08fcf74bce6599f8e",
       "version_major": 2,
       "version_minor": 0
      },
      "text/plain": [
       "  0%|          | 0/11 [00:00<?, ?it/s]"
      ]
     },
     "metadata": {},
     "output_type": "display_data"
    },
    {
     "data": {
      "application/vnd.jupyter.widget-view+json": {
       "model_id": "15fe9e097cdf4abfaf0c9aa11e16562b",
       "version_major": 2,
       "version_minor": 0
      },
      "text/plain": [
       "  0%|          | 0/3 [00:00<?, ?it/s]"
      ]
     },
     "metadata": {},
     "output_type": "display_data"
    },
    {
     "name": "stdout",
     "output_type": "stream",
     "text": [
      "saving model...\n",
      "train loss: 0.728 valid loss: 0.657 lr: 0.0000785 train dice: 0.7979 valid dice: 0.8414\n",
      "epoch 9/160\n"
     ]
    },
    {
     "data": {
      "application/vnd.jupyter.widget-view+json": {
       "model_id": "9f1b497c984e4ff3ae351facf9e7ad53",
       "version_major": 2,
       "version_minor": 0
      },
      "text/plain": [
       "  0%|          | 0/11 [00:00<?, ?it/s]"
      ]
     },
     "metadata": {},
     "output_type": "display_data"
    },
    {
     "data": {
      "application/vnd.jupyter.widget-view+json": {
       "model_id": "b0c0d45a4b804b1fa065a7fd1a8f084a",
       "version_major": 2,
       "version_minor": 0
      },
      "text/plain": [
       "  0%|          | 0/3 [00:00<?, ?it/s]"
      ]
     },
     "metadata": {},
     "output_type": "display_data"
    },
    {
     "name": "stdout",
     "output_type": "stream",
     "text": [
      "saving model...\n",
      "train loss: 0.722 valid loss: 0.626 lr: 0.0000780 train dice: 0.7918 valid dice: 0.8532\n",
      "epoch 10/160\n"
     ]
    },
    {
     "data": {
      "application/vnd.jupyter.widget-view+json": {
       "model_id": "f061dff9b9514401aeeb960916805e02",
       "version_major": 2,
       "version_minor": 0
      },
      "text/plain": [
       "  0%|          | 0/11 [00:00<?, ?it/s]"
      ]
     },
     "metadata": {},
     "output_type": "display_data"
    },
    {
     "data": {
      "application/vnd.jupyter.widget-view+json": {
       "model_id": "274a5c16a3604be6bd63f13594eb4e2c",
       "version_major": 2,
       "version_minor": 0
      },
      "text/plain": [
       "  0%|          | 0/3 [00:00<?, ?it/s]"
      ]
     },
     "metadata": {},
     "output_type": "display_data"
    },
    {
     "name": "stdout",
     "output_type": "stream",
     "text": [
      "saving model...\n",
      "train loss: 0.677 valid loss: 0.616 lr: 0.0000775 train dice: 0.8147 valid dice: 0.8563\n",
      "epoch 11/160\n"
     ]
    },
    {
     "data": {
      "application/vnd.jupyter.widget-view+json": {
       "model_id": "202621c030264a1fbfa8a862935b11fe",
       "version_major": 2,
       "version_minor": 0
      },
      "text/plain": [
       "  0%|          | 0/11 [00:00<?, ?it/s]"
      ]
     },
     "metadata": {},
     "output_type": "display_data"
    },
    {
     "data": {
      "application/vnd.jupyter.widget-view+json": {
       "model_id": "a56aad6297804d0088397a2bef74ea64",
       "version_major": 2,
       "version_minor": 0
      },
      "text/plain": [
       "  0%|          | 0/3 [00:00<?, ?it/s]"
      ]
     },
     "metadata": {},
     "output_type": "display_data"
    },
    {
     "name": "stdout",
     "output_type": "stream",
     "text": [
      "saving model...\n",
      "train loss: 0.670 valid loss: 0.593 lr: 0.0000770 train dice: 0.8183 valid dice: 0.8570\n",
      "epoch 12/160\n"
     ]
    },
    {
     "data": {
      "application/vnd.jupyter.widget-view+json": {
       "model_id": "6650aac61a18460f901332401723665d",
       "version_major": 2,
       "version_minor": 0
      },
      "text/plain": [
       "  0%|          | 0/11 [00:00<?, ?it/s]"
      ]
     },
     "metadata": {},
     "output_type": "display_data"
    },
    {
     "data": {
      "application/vnd.jupyter.widget-view+json": {
       "model_id": "a4bf3382a41f4800830e398ef58edfcd",
       "version_major": 2,
       "version_minor": 0
      },
      "text/plain": [
       "  0%|          | 0/3 [00:00<?, ?it/s]"
      ]
     },
     "metadata": {},
     "output_type": "display_data"
    },
    {
     "name": "stdout",
     "output_type": "stream",
     "text": [
      "saving model...\n",
      "train loss: 0.645 valid loss: 0.562 lr: 0.0000763 train dice: 0.8115 valid dice: 0.8623\n",
      "epoch 13/160\n"
     ]
    },
    {
     "data": {
      "application/vnd.jupyter.widget-view+json": {
       "model_id": "1a0ba51235ed46159cf8eec06e6dcd59",
       "version_major": 2,
       "version_minor": 0
      },
      "text/plain": [
       "  0%|          | 0/11 [00:00<?, ?it/s]"
      ]
     },
     "metadata": {},
     "output_type": "display_data"
    },
    {
     "data": {
      "application/vnd.jupyter.widget-view+json": {
       "model_id": "2012a192728f456bb592f3fb1d70267f",
       "version_major": 2,
       "version_minor": 0
      },
      "text/plain": [
       "  0%|          | 0/3 [00:00<?, ?it/s]"
      ]
     },
     "metadata": {},
     "output_type": "display_data"
    },
    {
     "name": "stdout",
     "output_type": "stream",
     "text": [
      "train loss: 0.604 valid loss: 0.549 lr: 0.0000756 train dice: 0.8292 valid dice: 0.8609\n",
      "epoch 14/160\n"
     ]
    },
    {
     "data": {
      "application/vnd.jupyter.widget-view+json": {
       "model_id": "793ae276ac6f42928f3418d0b47146e2",
       "version_major": 2,
       "version_minor": 0
      },
      "text/plain": [
       "  0%|          | 0/11 [00:00<?, ?it/s]"
      ]
     },
     "metadata": {},
     "output_type": "display_data"
    },
    {
     "data": {
      "application/vnd.jupyter.widget-view+json": {
       "model_id": "e62c3696ed5f47c3923eff0a7e9fd9f3",
       "version_major": 2,
       "version_minor": 0
      },
      "text/plain": [
       "  0%|          | 0/3 [00:00<?, ?it/s]"
      ]
     },
     "metadata": {},
     "output_type": "display_data"
    },
    {
     "name": "stdout",
     "output_type": "stream",
     "text": [
      "train loss: 0.629 valid loss: 0.529 lr: 0.0000749 train dice: 0.8298 valid dice: 0.8529\n",
      "epoch 15/160\n"
     ]
    },
    {
     "data": {
      "application/vnd.jupyter.widget-view+json": {
       "model_id": "ab2f2b4160ad4f55a126815f6c85b372",
       "version_major": 2,
       "version_minor": 0
      },
      "text/plain": [
       "  0%|          | 0/11 [00:00<?, ?it/s]"
      ]
     },
     "metadata": {},
     "output_type": "display_data"
    },
    {
     "data": {
      "application/vnd.jupyter.widget-view+json": {
       "model_id": "5e6ad8feaf854c19929e8395339e4f00",
       "version_major": 2,
       "version_minor": 0
      },
      "text/plain": [
       "  0%|          | 0/3 [00:00<?, ?it/s]"
      ]
     },
     "metadata": {},
     "output_type": "display_data"
    },
    {
     "name": "stdout",
     "output_type": "stream",
     "text": [
      "saving model...\n",
      "train loss: 0.587 valid loss: 0.500 lr: 0.0000741 train dice: 0.8341 valid dice: 0.8720\n",
      "epoch 16/160\n"
     ]
    },
    {
     "data": {
      "application/vnd.jupyter.widget-view+json": {
       "model_id": "a72e8af1367f4e76b74df1b6026f1d38",
       "version_major": 2,
       "version_minor": 0
      },
      "text/plain": [
       "  0%|          | 0/11 [00:00<?, ?it/s]"
      ]
     },
     "metadata": {},
     "output_type": "display_data"
    },
    {
     "data": {
      "application/vnd.jupyter.widget-view+json": {
       "model_id": "d94ab66866e94c6eb99ef7a305317571",
       "version_major": 2,
       "version_minor": 0
      },
      "text/plain": [
       "  0%|          | 0/3 [00:00<?, ?it/s]"
      ]
     },
     "metadata": {},
     "output_type": "display_data"
    },
    {
     "name": "stdout",
     "output_type": "stream",
     "text": [
      "saving model...\n",
      "train loss: 0.549 valid loss: 0.476 lr: 0.0000733 train dice: 0.8379 valid dice: 0.8740\n",
      "epoch 17/160\n"
     ]
    },
    {
     "data": {
      "application/vnd.jupyter.widget-view+json": {
       "model_id": "101c07e1d5c84c1aad03c98ad7bc2433",
       "version_major": 2,
       "version_minor": 0
      },
      "text/plain": [
       "  0%|          | 0/11 [00:00<?, ?it/s]"
      ]
     },
     "metadata": {},
     "output_type": "display_data"
    },
    {
     "data": {
      "application/vnd.jupyter.widget-view+json": {
       "model_id": "444a9d7927d341a792bfdc589a26e1a4",
       "version_major": 2,
       "version_minor": 0
      },
      "text/plain": [
       "  0%|          | 0/3 [00:00<?, ?it/s]"
      ]
     },
     "metadata": {},
     "output_type": "display_data"
    },
    {
     "name": "stdout",
     "output_type": "stream",
     "text": [
      "train loss: 0.551 valid loss: 0.459 lr: 0.0000724 train dice: 0.8409 valid dice: 0.8715\n",
      "epoch 18/160\n"
     ]
    },
    {
     "data": {
      "application/vnd.jupyter.widget-view+json": {
       "model_id": "505d084d03bf41e9a4980cead21ff6fa",
       "version_major": 2,
       "version_minor": 0
      },
      "text/plain": [
       "  0%|          | 0/11 [00:00<?, ?it/s]"
      ]
     },
     "metadata": {},
     "output_type": "display_data"
    },
    {
     "data": {
      "application/vnd.jupyter.widget-view+json": {
       "model_id": "4962ed6782434da389eb37e7768b03aa",
       "version_major": 2,
       "version_minor": 0
      },
      "text/plain": [
       "  0%|          | 0/3 [00:00<?, ?it/s]"
      ]
     },
     "metadata": {},
     "output_type": "display_data"
    },
    {
     "name": "stdout",
     "output_type": "stream",
     "text": [
      "train loss: 0.553 valid loss: 0.456 lr: 0.0000714 train dice: 0.8438 valid dice: 0.8615\n",
      "epoch 19/160\n"
     ]
    },
    {
     "data": {
      "application/vnd.jupyter.widget-view+json": {
       "model_id": "711f39695e264bb0b9ae6e31a05a6ad8",
       "version_major": 2,
       "version_minor": 0
      },
      "text/plain": [
       "  0%|          | 0/11 [00:00<?, ?it/s]"
      ]
     },
     "metadata": {},
     "output_type": "display_data"
    },
    {
     "data": {
      "application/vnd.jupyter.widget-view+json": {
       "model_id": "c315aef984c042f3bacb4f611dec4b9a",
       "version_major": 2,
       "version_minor": 0
      },
      "text/plain": [
       "  0%|          | 0/3 [00:00<?, ?it/s]"
      ]
     },
     "metadata": {},
     "output_type": "display_data"
    },
    {
     "name": "stdout",
     "output_type": "stream",
     "text": [
      "train loss: 0.509 valid loss: 0.448 lr: 0.0000704 train dice: 0.8483 valid dice: 0.8736\n",
      "epoch 20/160\n"
     ]
    },
    {
     "data": {
      "application/vnd.jupyter.widget-view+json": {
       "model_id": "80bcf5e0cd9b4cbca1970bbc1cdffa3c",
       "version_major": 2,
       "version_minor": 0
      },
      "text/plain": [
       "  0%|          | 0/11 [00:00<?, ?it/s]"
      ]
     },
     "metadata": {},
     "output_type": "display_data"
    },
    {
     "data": {
      "application/vnd.jupyter.widget-view+json": {
       "model_id": "4f65854c26ec466db8cc8cbe0f48d097",
       "version_major": 2,
       "version_minor": 0
      },
      "text/plain": [
       "  0%|          | 0/3 [00:00<?, ?it/s]"
      ]
     },
     "metadata": {},
     "output_type": "display_data"
    },
    {
     "name": "stdout",
     "output_type": "stream",
     "text": [
      "saving model...\n",
      "train loss: 0.484 valid loss: 0.451 lr: 0.0000694 train dice: 0.8659 valid dice: 0.8766\n",
      "epoch 21/160\n"
     ]
    },
    {
     "data": {
      "application/vnd.jupyter.widget-view+json": {
       "model_id": "5d74ec94d111491c80923b6926a50d5a",
       "version_major": 2,
       "version_minor": 0
      },
      "text/plain": [
       "  0%|          | 0/11 [00:00<?, ?it/s]"
      ]
     },
     "metadata": {},
     "output_type": "display_data"
    },
    {
     "data": {
      "application/vnd.jupyter.widget-view+json": {
       "model_id": "d1553e2ed4704497989248f7ca5b2fcd",
       "version_major": 2,
       "version_minor": 0
      },
      "text/plain": [
       "  0%|          | 0/3 [00:00<?, ?it/s]"
      ]
     },
     "metadata": {},
     "output_type": "display_data"
    },
    {
     "name": "stdout",
     "output_type": "stream",
     "text": [
      "train loss: 0.540 valid loss: 0.445 lr: 0.0000683 train dice: 0.8404 valid dice: 0.8763\n",
      "epoch 22/160\n"
     ]
    },
    {
     "data": {
      "application/vnd.jupyter.widget-view+json": {
       "model_id": "4257299494d5407da25080dac2fd83f5",
       "version_major": 2,
       "version_minor": 0
      },
      "text/plain": [
       "  0%|          | 0/11 [00:00<?, ?it/s]"
      ]
     },
     "metadata": {},
     "output_type": "display_data"
    },
    {
     "data": {
      "application/vnd.jupyter.widget-view+json": {
       "model_id": "22d65e18cb8c474b8ac08e9e99f08d35",
       "version_major": 2,
       "version_minor": 0
      },
      "text/plain": [
       "  0%|          | 0/3 [00:00<?, ?it/s]"
      ]
     },
     "metadata": {},
     "output_type": "display_data"
    },
    {
     "name": "stdout",
     "output_type": "stream",
     "text": [
      "train loss: 0.481 valid loss: 0.414 lr: 0.0000672 train dice: 0.8646 valid dice: 0.8745\n",
      "epoch 23/160\n"
     ]
    },
    {
     "data": {
      "application/vnd.jupyter.widget-view+json": {
       "model_id": "279396db1e714241a771f88301acf09f",
       "version_major": 2,
       "version_minor": 0
      },
      "text/plain": [
       "  0%|          | 0/11 [00:00<?, ?it/s]"
      ]
     },
     "metadata": {},
     "output_type": "display_data"
    },
    {
     "data": {
      "application/vnd.jupyter.widget-view+json": {
       "model_id": "5a140d4982494977bf228437d236e6d7",
       "version_major": 2,
       "version_minor": 0
      },
      "text/plain": [
       "  0%|          | 0/3 [00:00<?, ?it/s]"
      ]
     },
     "metadata": {},
     "output_type": "display_data"
    },
    {
     "name": "stdout",
     "output_type": "stream",
     "text": [
      "train loss: 0.523 valid loss: 0.472 lr: 0.0000660 train dice: 0.8339 valid dice: 0.8729\n",
      "epoch 24/160\n"
     ]
    },
    {
     "data": {
      "application/vnd.jupyter.widget-view+json": {
       "model_id": "4c9133986cbc40a3bfb0c1170af47cb2",
       "version_major": 2,
       "version_minor": 0
      },
      "text/plain": [
       "  0%|          | 0/11 [00:00<?, ?it/s]"
      ]
     },
     "metadata": {},
     "output_type": "display_data"
    },
    {
     "data": {
      "application/vnd.jupyter.widget-view+json": {
       "model_id": "c2d4d6f4b5b64bc59aed57faddd942bf",
       "version_major": 2,
       "version_minor": 0
      },
      "text/plain": [
       "  0%|          | 0/3 [00:00<?, ?it/s]"
      ]
     },
     "metadata": {},
     "output_type": "display_data"
    },
    {
     "name": "stdout",
     "output_type": "stream",
     "text": [
      "saving model...\n",
      "train loss: 0.509 valid loss: 0.435 lr: 0.0000648 train dice: 0.8501 valid dice: 0.8825\n",
      "epoch 25/160\n"
     ]
    },
    {
     "data": {
      "application/vnd.jupyter.widget-view+json": {
       "model_id": "77039ca116eb4c7bafce920968f92a76",
       "version_major": 2,
       "version_minor": 0
      },
      "text/plain": [
       "  0%|          | 0/11 [00:00<?, ?it/s]"
      ]
     },
     "metadata": {},
     "output_type": "display_data"
    },
    {
     "data": {
      "application/vnd.jupyter.widget-view+json": {
       "model_id": "ec58917d0fd14a819d508dedddfd5290",
       "version_major": 2,
       "version_minor": 0
      },
      "text/plain": [
       "  0%|          | 0/3 [00:00<?, ?it/s]"
      ]
     },
     "metadata": {},
     "output_type": "display_data"
    },
    {
     "name": "stdout",
     "output_type": "stream",
     "text": [
      "saving model...\n",
      "train loss: 0.478 valid loss: 0.409 lr: 0.0000635 train dice: 0.8514 valid dice: 0.8843\n",
      "epoch 26/160\n"
     ]
    },
    {
     "data": {
      "application/vnd.jupyter.widget-view+json": {
       "model_id": "b7081526c02b4b70b9235c3e2e5ce2c2",
       "version_major": 2,
       "version_minor": 0
      },
      "text/plain": [
       "  0%|          | 0/11 [00:00<?, ?it/s]"
      ]
     },
     "metadata": {},
     "output_type": "display_data"
    },
    {
     "data": {
      "application/vnd.jupyter.widget-view+json": {
       "model_id": "14668b58aa374baab7344ed3a508d719",
       "version_major": 2,
       "version_minor": 0
      },
      "text/plain": [
       "  0%|          | 0/3 [00:00<?, ?it/s]"
      ]
     },
     "metadata": {},
     "output_type": "display_data"
    },
    {
     "name": "stdout",
     "output_type": "stream",
     "text": [
      "train loss: 0.504 valid loss: 0.420 lr: 0.0000622 train dice: 0.8335 valid dice: 0.8810\n",
      "epoch 27/160\n"
     ]
    },
    {
     "data": {
      "application/vnd.jupyter.widget-view+json": {
       "model_id": "bb0f9e068c6846408adbdbfce78646a7",
       "version_major": 2,
       "version_minor": 0
      },
      "text/plain": [
       "  0%|          | 0/11 [00:00<?, ?it/s]"
      ]
     },
     "metadata": {},
     "output_type": "display_data"
    },
    {
     "data": {
      "application/vnd.jupyter.widget-view+json": {
       "model_id": "4c3b5e32840445fcb6597273fb03abd3",
       "version_major": 2,
       "version_minor": 0
      },
      "text/plain": [
       "  0%|          | 0/3 [00:00<?, ?it/s]"
      ]
     },
     "metadata": {},
     "output_type": "display_data"
    },
    {
     "name": "stdout",
     "output_type": "stream",
     "text": [
      "train loss: 0.489 valid loss: 0.375 lr: 0.0000609 train dice: 0.8439 valid dice: 0.8765\n",
      "epoch 28/160\n"
     ]
    },
    {
     "data": {
      "application/vnd.jupyter.widget-view+json": {
       "model_id": "76197b7c25f2472c9910ad7b4c2ba5ee",
       "version_major": 2,
       "version_minor": 0
      },
      "text/plain": [
       "  0%|          | 0/11 [00:00<?, ?it/s]"
      ]
     },
     "metadata": {},
     "output_type": "display_data"
    },
    {
     "data": {
      "application/vnd.jupyter.widget-view+json": {
       "model_id": "2e921624bddd4efd99301a41262b62b0",
       "version_major": 2,
       "version_minor": 0
      },
      "text/plain": [
       "  0%|          | 0/3 [00:00<?, ?it/s]"
      ]
     },
     "metadata": {},
     "output_type": "display_data"
    },
    {
     "name": "stdout",
     "output_type": "stream",
     "text": [
      "train loss: 0.455 valid loss: 0.386 lr: 0.0000595 train dice: 0.8515 valid dice: 0.8829\n",
      "epoch 29/160\n"
     ]
    },
    {
     "data": {
      "application/vnd.jupyter.widget-view+json": {
       "model_id": "3a4be72747ed4cf987093475010ced69",
       "version_major": 2,
       "version_minor": 0
      },
      "text/plain": [
       "  0%|          | 0/11 [00:00<?, ?it/s]"
      ]
     },
     "metadata": {},
     "output_type": "display_data"
    },
    {
     "data": {
      "application/vnd.jupyter.widget-view+json": {
       "model_id": "859bd6ba481a49bcbdc9435204f56ea0",
       "version_major": 2,
       "version_minor": 0
      },
      "text/plain": [
       "  0%|          | 0/3 [00:00<?, ?it/s]"
      ]
     },
     "metadata": {},
     "output_type": "display_data"
    },
    {
     "name": "stdout",
     "output_type": "stream",
     "text": [
      "saving model...\n",
      "train loss: 0.472 valid loss: 0.398 lr: 0.0000582 train dice: 0.8558 valid dice: 0.8848\n",
      "epoch 30/160\n"
     ]
    },
    {
     "data": {
      "application/vnd.jupyter.widget-view+json": {
       "model_id": "6b6ecb7aec974a29a4e35eb315431d0c",
       "version_major": 2,
       "version_minor": 0
      },
      "text/plain": [
       "  0%|          | 0/11 [00:00<?, ?it/s]"
      ]
     },
     "metadata": {},
     "output_type": "display_data"
    },
    {
     "data": {
      "application/vnd.jupyter.widget-view+json": {
       "model_id": "a1aea17921ba4ed98941f270edd9ed74",
       "version_major": 2,
       "version_minor": 0
      },
      "text/plain": [
       "  0%|          | 0/3 [00:00<?, ?it/s]"
      ]
     },
     "metadata": {},
     "output_type": "display_data"
    },
    {
     "name": "stdout",
     "output_type": "stream",
     "text": [
      "saving model...\n",
      "train loss: 0.449 valid loss: 0.384 lr: 0.0000567 train dice: 0.8650 valid dice: 0.8851\n",
      "epoch 31/160\n"
     ]
    },
    {
     "data": {
      "application/vnd.jupyter.widget-view+json": {
       "model_id": "d1ac5bbac4d14e0aa66b2c6d13cf3581",
       "version_major": 2,
       "version_minor": 0
      },
      "text/plain": [
       "  0%|          | 0/11 [00:00<?, ?it/s]"
      ]
     },
     "metadata": {},
     "output_type": "display_data"
    },
    {
     "data": {
      "application/vnd.jupyter.widget-view+json": {
       "model_id": "4800dd5241c142c897411718ebe6d9db",
       "version_major": 2,
       "version_minor": 0
      },
      "text/plain": [
       "  0%|          | 0/3 [00:00<?, ?it/s]"
      ]
     },
     "metadata": {},
     "output_type": "display_data"
    },
    {
     "name": "stdout",
     "output_type": "stream",
     "text": [
      "saving model...\n",
      "train loss: 0.422 valid loss: 0.366 lr: 0.0000553 train dice: 0.8696 valid dice: 0.8871\n",
      "epoch 32/160\n"
     ]
    },
    {
     "data": {
      "application/vnd.jupyter.widget-view+json": {
       "model_id": "ab051eb876754d209b9728eb4b2d34d3",
       "version_major": 2,
       "version_minor": 0
      },
      "text/plain": [
       "  0%|          | 0/11 [00:00<?, ?it/s]"
      ]
     },
     "metadata": {},
     "output_type": "display_data"
    },
    {
     "data": {
      "application/vnd.jupyter.widget-view+json": {
       "model_id": "1310fa92777046eb8c8e3d2fb4750498",
       "version_major": 2,
       "version_minor": 0
      },
      "text/plain": [
       "  0%|          | 0/3 [00:00<?, ?it/s]"
      ]
     },
     "metadata": {},
     "output_type": "display_data"
    },
    {
     "name": "stdout",
     "output_type": "stream",
     "text": [
      "saving model...\n",
      "train loss: 0.421 valid loss: 0.364 lr: 0.0000538 train dice: 0.8579 valid dice: 0.8873\n",
      "epoch 33/160\n"
     ]
    },
    {
     "data": {
      "application/vnd.jupyter.widget-view+json": {
       "model_id": "92240de48b8f4c40ac76cfb8a70384cd",
       "version_major": 2,
       "version_minor": 0
      },
      "text/plain": [
       "  0%|          | 0/11 [00:00<?, ?it/s]"
      ]
     },
     "metadata": {},
     "output_type": "display_data"
    },
    {
     "data": {
      "application/vnd.jupyter.widget-view+json": {
       "model_id": "ee9a28f2409541a1b70177458323acec",
       "version_major": 2,
       "version_minor": 0
      },
      "text/plain": [
       "  0%|          | 0/3 [00:00<?, ?it/s]"
      ]
     },
     "metadata": {},
     "output_type": "display_data"
    },
    {
     "name": "stdout",
     "output_type": "stream",
     "text": [
      "train loss: 0.405 valid loss: 0.356 lr: 0.0000524 train dice: 0.8630 valid dice: 0.8867\n",
      "epoch 34/160\n"
     ]
    },
    {
     "data": {
      "application/vnd.jupyter.widget-view+json": {
       "model_id": "9f242ae383a14f7a86121bf25bf8ca18",
       "version_major": 2,
       "version_minor": 0
      },
      "text/plain": [
       "  0%|          | 0/11 [00:00<?, ?it/s]"
      ]
     },
     "metadata": {},
     "output_type": "display_data"
    },
    {
     "data": {
      "application/vnd.jupyter.widget-view+json": {
       "model_id": "bc0bf62d18b14761a2dc2a02bd6c5e38",
       "version_major": 2,
       "version_minor": 0
      },
      "text/plain": [
       "  0%|          | 0/3 [00:00<?, ?it/s]"
      ]
     },
     "metadata": {},
     "output_type": "display_data"
    },
    {
     "name": "stdout",
     "output_type": "stream",
     "text": [
      "train loss: 0.418 valid loss: 0.368 lr: 0.0000509 train dice: 0.8658 valid dice: 0.8863\n",
      "epoch 35/160\n"
     ]
    },
    {
     "data": {
      "application/vnd.jupyter.widget-view+json": {
       "model_id": "d452717d9ce84100a5418a2c04bba56f",
       "version_major": 2,
       "version_minor": 0
      },
      "text/plain": [
       "  0%|          | 0/11 [00:00<?, ?it/s]"
      ]
     },
     "metadata": {},
     "output_type": "display_data"
    },
    {
     "data": {
      "application/vnd.jupyter.widget-view+json": {
       "model_id": "22fdd4f17f2e48ac98bb2f58a083a29d",
       "version_major": 2,
       "version_minor": 0
      },
      "text/plain": [
       "  0%|          | 0/3 [00:00<?, ?it/s]"
      ]
     },
     "metadata": {},
     "output_type": "display_data"
    },
    {
     "name": "stdout",
     "output_type": "stream",
     "text": [
      "saving model...\n",
      "train loss: 0.402 valid loss: 0.355 lr: 0.0000493 train dice: 0.8707 valid dice: 0.8887\n",
      "epoch 36/160\n"
     ]
    },
    {
     "data": {
      "application/vnd.jupyter.widget-view+json": {
       "model_id": "02b4a839490345c2a41c205cd5d9b52e",
       "version_major": 2,
       "version_minor": 0
      },
      "text/plain": [
       "  0%|          | 0/11 [00:00<?, ?it/s]"
      ]
     },
     "metadata": {},
     "output_type": "display_data"
    },
    {
     "data": {
      "application/vnd.jupyter.widget-view+json": {
       "model_id": "df659b8fa2834a1ca4c36cba1a71d02c",
       "version_major": 2,
       "version_minor": 0
      },
      "text/plain": [
       "  0%|          | 0/3 [00:00<?, ?it/s]"
      ]
     },
     "metadata": {},
     "output_type": "display_data"
    },
    {
     "name": "stdout",
     "output_type": "stream",
     "text": [
      "saving model...\n",
      "train loss: 0.404 valid loss: 0.340 lr: 0.0000478 train dice: 0.8670 valid dice: 0.8889\n",
      "epoch 37/160\n"
     ]
    },
    {
     "data": {
      "application/vnd.jupyter.widget-view+json": {
       "model_id": "2112b87456924aecbc56f543e5e3ec89",
       "version_major": 2,
       "version_minor": 0
      },
      "text/plain": [
       "  0%|          | 0/11 [00:00<?, ?it/s]"
      ]
     },
     "metadata": {},
     "output_type": "display_data"
    },
    {
     "data": {
      "application/vnd.jupyter.widget-view+json": {
       "model_id": "774983055c024144a5353987f63a304d",
       "version_major": 2,
       "version_minor": 0
      },
      "text/plain": [
       "  0%|          | 0/3 [00:00<?, ?it/s]"
      ]
     },
     "metadata": {},
     "output_type": "display_data"
    },
    {
     "name": "stdout",
     "output_type": "stream",
     "text": [
      "train loss: 0.389 valid loss: 0.332 lr: 0.0000463 train dice: 0.8712 valid dice: 0.8887\n",
      "epoch 38/160\n"
     ]
    },
    {
     "data": {
      "application/vnd.jupyter.widget-view+json": {
       "model_id": "ad886243a457461294d728f03e3b0847",
       "version_major": 2,
       "version_minor": 0
      },
      "text/plain": [
       "  0%|          | 0/11 [00:00<?, ?it/s]"
      ]
     },
     "metadata": {},
     "output_type": "display_data"
    },
    {
     "data": {
      "application/vnd.jupyter.widget-view+json": {
       "model_id": "0185a57bd6c4496ab115f18fddb9e437",
       "version_major": 2,
       "version_minor": 0
      },
      "text/plain": [
       "  0%|          | 0/3 [00:00<?, ?it/s]"
      ]
     },
     "metadata": {},
     "output_type": "display_data"
    },
    {
     "name": "stdout",
     "output_type": "stream",
     "text": [
      "train loss: 0.393 valid loss: 0.336 lr: 0.0000447 train dice: 0.8793 valid dice: 0.8827\n",
      "epoch 39/160\n"
     ]
    },
    {
     "data": {
      "application/vnd.jupyter.widget-view+json": {
       "model_id": "11343892bc8e42898bb9ca7f11d467d7",
       "version_major": 2,
       "version_minor": 0
      },
      "text/plain": [
       "  0%|          | 0/11 [00:00<?, ?it/s]"
      ]
     },
     "metadata": {},
     "output_type": "display_data"
    },
    {
     "data": {
      "application/vnd.jupyter.widget-view+json": {
       "model_id": "ff86b1f58fc9496bb87a8f6264645ca3",
       "version_major": 2,
       "version_minor": 0
      },
      "text/plain": [
       "  0%|          | 0/3 [00:00<?, ?it/s]"
      ]
     },
     "metadata": {},
     "output_type": "display_data"
    },
    {
     "name": "stdout",
     "output_type": "stream",
     "text": [
      "saving model...\n",
      "train loss: 0.413 valid loss: 0.334 lr: 0.0000431 train dice: 0.8607 valid dice: 0.8897\n",
      "epoch 40/160\n"
     ]
    },
    {
     "data": {
      "application/vnd.jupyter.widget-view+json": {
       "model_id": "d9db957f1f024950b66c9fc1784b4e99",
       "version_major": 2,
       "version_minor": 0
      },
      "text/plain": [
       "  0%|          | 0/11 [00:00<?, ?it/s]"
      ]
     },
     "metadata": {},
     "output_type": "display_data"
    },
    {
     "data": {
      "application/vnd.jupyter.widget-view+json": {
       "model_id": "f10d6410168a4847a39292802739f4cf",
       "version_major": 2,
       "version_minor": 0
      },
      "text/plain": [
       "  0%|          | 0/3 [00:00<?, ?it/s]"
      ]
     },
     "metadata": {},
     "output_type": "display_data"
    },
    {
     "name": "stdout",
     "output_type": "stream",
     "text": [
      "train loss: 0.376 valid loss: 0.321 lr: 0.0000416 train dice: 0.8805 valid dice: 0.8891\n",
      "epoch 41/160\n"
     ]
    },
    {
     "data": {
      "application/vnd.jupyter.widget-view+json": {
       "model_id": "7741edc7ac0648b98d9d0bba128bd24c",
       "version_major": 2,
       "version_minor": 0
      },
      "text/plain": [
       "  0%|          | 0/11 [00:00<?, ?it/s]"
      ]
     },
     "metadata": {},
     "output_type": "display_data"
    },
    {
     "data": {
      "application/vnd.jupyter.widget-view+json": {
       "model_id": "106f8a21450249e7bfe851113cc011d4",
       "version_major": 2,
       "version_minor": 0
      },
      "text/plain": [
       "  0%|          | 0/3 [00:00<?, ?it/s]"
      ]
     },
     "metadata": {},
     "output_type": "display_data"
    },
    {
     "name": "stdout",
     "output_type": "stream",
     "text": [
      "saving model...\n",
      "train loss: 0.390 valid loss: 0.319 lr: 0.0000400 train dice: 0.8738 valid dice: 0.8900\n",
      "epoch 42/160\n"
     ]
    },
    {
     "data": {
      "application/vnd.jupyter.widget-view+json": {
       "model_id": "8badf5cbeb8143c1a6f1353a09b8dfe8",
       "version_major": 2,
       "version_minor": 0
      },
      "text/plain": [
       "  0%|          | 0/11 [00:00<?, ?it/s]"
      ]
     },
     "metadata": {},
     "output_type": "display_data"
    },
    {
     "data": {
      "application/vnd.jupyter.widget-view+json": {
       "model_id": "8666a0a7b74742c9bcf382ff7f875ce4",
       "version_major": 2,
       "version_minor": 0
      },
      "text/plain": [
       "  0%|          | 0/3 [00:00<?, ?it/s]"
      ]
     },
     "metadata": {},
     "output_type": "display_data"
    },
    {
     "name": "stdout",
     "output_type": "stream",
     "text": [
      "saving model...\n",
      "train loss: 0.403 valid loss: 0.336 lr: 0.0000384 train dice: 0.8658 valid dice: 0.8924\n",
      "epoch 43/160\n"
     ]
    },
    {
     "data": {
      "application/vnd.jupyter.widget-view+json": {
       "model_id": "e4b30e0e5e2645e0816e8279914be027",
       "version_major": 2,
       "version_minor": 0
      },
      "text/plain": [
       "  0%|          | 0/11 [00:00<?, ?it/s]"
      ]
     },
     "metadata": {},
     "output_type": "display_data"
    },
    {
     "data": {
      "application/vnd.jupyter.widget-view+json": {
       "model_id": "08dd29ad481649e985b7e6ec6faa41f6",
       "version_major": 2,
       "version_minor": 0
      },
      "text/plain": [
       "  0%|          | 0/3 [00:00<?, ?it/s]"
      ]
     },
     "metadata": {},
     "output_type": "display_data"
    },
    {
     "name": "stdout",
     "output_type": "stream",
     "text": [
      "train loss: 0.392 valid loss: 0.326 lr: 0.0000369 train dice: 0.8664 valid dice: 0.8923\n",
      "epoch 44/160\n"
     ]
    },
    {
     "data": {
      "application/vnd.jupyter.widget-view+json": {
       "model_id": "2589d14ca81b4ca482f0ec6ba39fc4ac",
       "version_major": 2,
       "version_minor": 0
      },
      "text/plain": [
       "  0%|          | 0/11 [00:00<?, ?it/s]"
      ]
     },
     "metadata": {},
     "output_type": "display_data"
    },
    {
     "data": {
      "application/vnd.jupyter.widget-view+json": {
       "model_id": "7922b1626dff429c9cd60756a0e6d049",
       "version_major": 2,
       "version_minor": 0
      },
      "text/plain": [
       "  0%|          | 0/3 [00:00<?, ?it/s]"
      ]
     },
     "metadata": {},
     "output_type": "display_data"
    },
    {
     "name": "stdout",
     "output_type": "stream",
     "text": [
      "train loss: 0.379 valid loss: 0.327 lr: 0.0000353 train dice: 0.8645 valid dice: 0.8902\n",
      "epoch 45/160\n"
     ]
    },
    {
     "data": {
      "application/vnd.jupyter.widget-view+json": {
       "model_id": "43bbf50eb3fa4d018dc8a99f9e3190c5",
       "version_major": 2,
       "version_minor": 0
      },
      "text/plain": [
       "  0%|          | 0/11 [00:00<?, ?it/s]"
      ]
     },
     "metadata": {},
     "output_type": "display_data"
    },
    {
     "data": {
      "application/vnd.jupyter.widget-view+json": {
       "model_id": "f5697bacba874d828e13063979652cb9",
       "version_major": 2,
       "version_minor": 0
      },
      "text/plain": [
       "  0%|          | 0/3 [00:00<?, ?it/s]"
      ]
     },
     "metadata": {},
     "output_type": "display_data"
    },
    {
     "name": "stdout",
     "output_type": "stream",
     "text": [
      "train loss: 0.385 valid loss: 0.324 lr: 0.0000337 train dice: 0.8719 valid dice: 0.8905\n",
      "epoch 46/160\n"
     ]
    },
    {
     "data": {
      "application/vnd.jupyter.widget-view+json": {
       "model_id": "ac10c31120a342a98e28aa4307ed4f51",
       "version_major": 2,
       "version_minor": 0
      },
      "text/plain": [
       "  0%|          | 0/11 [00:00<?, ?it/s]"
      ]
     },
     "metadata": {},
     "output_type": "display_data"
    },
    {
     "data": {
      "application/vnd.jupyter.widget-view+json": {
       "model_id": "4419a0fd1475456abe04eca3330a51fe",
       "version_major": 2,
       "version_minor": 0
      },
      "text/plain": [
       "  0%|          | 0/3 [00:00<?, ?it/s]"
      ]
     },
     "metadata": {},
     "output_type": "display_data"
    },
    {
     "name": "stdout",
     "output_type": "stream",
     "text": [
      "saving model...\n",
      "train loss: 0.384 valid loss: 0.319 lr: 0.0000322 train dice: 0.8659 valid dice: 0.8929\n",
      "epoch 47/160\n"
     ]
    },
    {
     "data": {
      "application/vnd.jupyter.widget-view+json": {
       "model_id": "981606f1f0c34e7fb423fbcd8697fa11",
       "version_major": 2,
       "version_minor": 0
      },
      "text/plain": [
       "  0%|          | 0/11 [00:00<?, ?it/s]"
      ]
     },
     "metadata": {},
     "output_type": "display_data"
    },
    {
     "data": {
      "application/vnd.jupyter.widget-view+json": {
       "model_id": "4a9fd4eb478c4f8685c532fbc7cc7c6a",
       "version_major": 2,
       "version_minor": 0
      },
      "text/plain": [
       "  0%|          | 0/3 [00:00<?, ?it/s]"
      ]
     },
     "metadata": {},
     "output_type": "display_data"
    },
    {
     "name": "stdout",
     "output_type": "stream",
     "text": [
      "saving model...\n",
      "train loss: 0.384 valid loss: 0.318 lr: 0.0000307 train dice: 0.8733 valid dice: 0.8936\n",
      "epoch 48/160\n"
     ]
    },
    {
     "data": {
      "application/vnd.jupyter.widget-view+json": {
       "model_id": "db9859f91c79440f92b378235f31535b",
       "version_major": 2,
       "version_minor": 0
      },
      "text/plain": [
       "  0%|          | 0/11 [00:00<?, ?it/s]"
      ]
     },
     "metadata": {},
     "output_type": "display_data"
    },
    {
     "data": {
      "application/vnd.jupyter.widget-view+json": {
       "model_id": "dd97b28db1e7420ca0dcc1383ccb1820",
       "version_major": 2,
       "version_minor": 0
      },
      "text/plain": [
       "  0%|          | 0/3 [00:00<?, ?it/s]"
      ]
     },
     "metadata": {},
     "output_type": "display_data"
    },
    {
     "name": "stdout",
     "output_type": "stream",
     "text": [
      "saving model...\n",
      "train loss: 0.380 valid loss: 0.327 lr: 0.0000291 train dice: 0.8744 valid dice: 0.8939\n",
      "epoch 49/160\n"
     ]
    },
    {
     "data": {
      "application/vnd.jupyter.widget-view+json": {
       "model_id": "0d4bb068a3cb413f922baa53e6b819c9",
       "version_major": 2,
       "version_minor": 0
      },
      "text/plain": [
       "  0%|          | 0/11 [00:00<?, ?it/s]"
      ]
     },
     "metadata": {},
     "output_type": "display_data"
    },
    {
     "data": {
      "application/vnd.jupyter.widget-view+json": {
       "model_id": "6dfdafcda0bf4621884ceedcf1fd7d77",
       "version_major": 2,
       "version_minor": 0
      },
      "text/plain": [
       "  0%|          | 0/3 [00:00<?, ?it/s]"
      ]
     },
     "metadata": {},
     "output_type": "display_data"
    },
    {
     "name": "stdout",
     "output_type": "stream",
     "text": [
      "train loss: 0.406 valid loss: 0.331 lr: 0.0000276 train dice: 0.8637 valid dice: 0.8915\n",
      "epoch 50/160\n"
     ]
    },
    {
     "data": {
      "application/vnd.jupyter.widget-view+json": {
       "model_id": "102d620f978c4e24bb72424129ab1b82",
       "version_major": 2,
       "version_minor": 0
      },
      "text/plain": [
       "  0%|          | 0/11 [00:00<?, ?it/s]"
      ]
     },
     "metadata": {},
     "output_type": "display_data"
    },
    {
     "data": {
      "application/vnd.jupyter.widget-view+json": {
       "model_id": "5a78ba17b4c94416b69d69142e78cdb3",
       "version_major": 2,
       "version_minor": 0
      },
      "text/plain": [
       "  0%|          | 0/3 [00:00<?, ?it/s]"
      ]
     },
     "metadata": {},
     "output_type": "display_data"
    },
    {
     "name": "stdout",
     "output_type": "stream",
     "text": [
      "saving model...\n",
      "train loss: 0.399 valid loss: 0.320 lr: 0.0000262 train dice: 0.8636 valid dice: 0.8949\n",
      "epoch 51/160\n"
     ]
    },
    {
     "data": {
      "application/vnd.jupyter.widget-view+json": {
       "model_id": "d7bb78daabd14ddfb3b1ddf6f1ef4668",
       "version_major": 2,
       "version_minor": 0
      },
      "text/plain": [
       "  0%|          | 0/11 [00:00<?, ?it/s]"
      ]
     },
     "metadata": {},
     "output_type": "display_data"
    },
    {
     "data": {
      "application/vnd.jupyter.widget-view+json": {
       "model_id": "642a916c32094166a186f85030a6e2c3",
       "version_major": 2,
       "version_minor": 0
      },
      "text/plain": [
       "  0%|          | 0/3 [00:00<?, ?it/s]"
      ]
     },
     "metadata": {},
     "output_type": "display_data"
    },
    {
     "name": "stdout",
     "output_type": "stream",
     "text": [
      "saving model...\n",
      "train loss: 0.384 valid loss: 0.319 lr: 0.0000247 train dice: 0.8684 valid dice: 0.8950\n",
      "epoch 52/160\n"
     ]
    },
    {
     "data": {
      "application/vnd.jupyter.widget-view+json": {
       "model_id": "4a49e68757774c3cafaf8c33c9a98f19",
       "version_major": 2,
       "version_minor": 0
      },
      "text/plain": [
       "  0%|          | 0/11 [00:00<?, ?it/s]"
      ]
     },
     "metadata": {},
     "output_type": "display_data"
    },
    {
     "data": {
      "application/vnd.jupyter.widget-view+json": {
       "model_id": "beb7694852dd48b4a6707dd2d2b0f1f7",
       "version_major": 2,
       "version_minor": 0
      },
      "text/plain": [
       "  0%|          | 0/3 [00:00<?, ?it/s]"
      ]
     },
     "metadata": {},
     "output_type": "display_data"
    },
    {
     "name": "stdout",
     "output_type": "stream",
     "text": [
      "train loss: 0.350 valid loss: 0.309 lr: 0.0000233 train dice: 0.8781 valid dice: 0.8948\n",
      "epoch 53/160\n"
     ]
    },
    {
     "data": {
      "application/vnd.jupyter.widget-view+json": {
       "model_id": "45b2fb59d496466489af63d4de58a4fe",
       "version_major": 2,
       "version_minor": 0
      },
      "text/plain": [
       "  0%|          | 0/11 [00:00<?, ?it/s]"
      ]
     },
     "metadata": {},
     "output_type": "display_data"
    },
    {
     "data": {
      "application/vnd.jupyter.widget-view+json": {
       "model_id": "f428ea89178b4862a658127a8f8e6e43",
       "version_major": 2,
       "version_minor": 0
      },
      "text/plain": [
       "  0%|          | 0/3 [00:00<?, ?it/s]"
      ]
     },
     "metadata": {},
     "output_type": "display_data"
    },
    {
     "name": "stdout",
     "output_type": "stream",
     "text": [
      "train loss: 0.398 valid loss: 0.312 lr: 0.0000218 train dice: 0.8501 valid dice: 0.8950\n",
      "epoch 54/160\n"
     ]
    },
    {
     "data": {
      "application/vnd.jupyter.widget-view+json": {
       "model_id": "f52b88038431448782b6820283492d0f",
       "version_major": 2,
       "version_minor": 0
      },
      "text/plain": [
       "  0%|          | 0/11 [00:00<?, ?it/s]"
      ]
     },
     "metadata": {},
     "output_type": "display_data"
    },
    {
     "data": {
      "application/vnd.jupyter.widget-view+json": {
       "model_id": "6bd85186742d47cc875906273e99a616",
       "version_major": 2,
       "version_minor": 0
      },
      "text/plain": [
       "  0%|          | 0/3 [00:00<?, ?it/s]"
      ]
     },
     "metadata": {},
     "output_type": "display_data"
    },
    {
     "name": "stdout",
     "output_type": "stream",
     "text": [
      "train loss: 0.363 valid loss: 0.330 lr: 0.0000205 train dice: 0.8784 valid dice: 0.8937\n",
      "epoch 55/160\n"
     ]
    },
    {
     "data": {
      "application/vnd.jupyter.widget-view+json": {
       "model_id": "cd6e13672aee4b75a0a6a308a3239cc7",
       "version_major": 2,
       "version_minor": 0
      },
      "text/plain": [
       "  0%|          | 0/11 [00:00<?, ?it/s]"
      ]
     },
     "metadata": {},
     "output_type": "display_data"
    },
    {
     "data": {
      "application/vnd.jupyter.widget-view+json": {
       "model_id": "67c7fa4afd5b41ef998c77852d282889",
       "version_major": 2,
       "version_minor": 0
      },
      "text/plain": [
       "  0%|          | 0/3 [00:00<?, ?it/s]"
      ]
     },
     "metadata": {},
     "output_type": "display_data"
    },
    {
     "name": "stdout",
     "output_type": "stream",
     "text": [
      "train loss: 0.400 valid loss: 0.312 lr: 0.0000191 train dice: 0.8588 valid dice: 0.8948\n",
      "epoch 56/160\n"
     ]
    },
    {
     "data": {
      "application/vnd.jupyter.widget-view+json": {
       "model_id": "36cb476350ea4622a2312d0cdde1c391",
       "version_major": 2,
       "version_minor": 0
      },
      "text/plain": [
       "  0%|          | 0/11 [00:00<?, ?it/s]"
      ]
     },
     "metadata": {},
     "output_type": "display_data"
    },
    {
     "data": {
      "application/vnd.jupyter.widget-view+json": {
       "model_id": "b75a20bf23ef4d9d84da0c1ccb839105",
       "version_major": 2,
       "version_minor": 0
      },
      "text/plain": [
       "  0%|          | 0/3 [00:00<?, ?it/s]"
      ]
     },
     "metadata": {},
     "output_type": "display_data"
    },
    {
     "name": "stdout",
     "output_type": "stream",
     "text": [
      "saving model...\n",
      "train loss: 0.363 valid loss: 0.313 lr: 0.0000178 train dice: 0.8738 valid dice: 0.8954\n",
      "epoch 57/160\n"
     ]
    },
    {
     "data": {
      "application/vnd.jupyter.widget-view+json": {
       "model_id": "d7d8e05a65494022ba184b3f512c3bcd",
       "version_major": 2,
       "version_minor": 0
      },
      "text/plain": [
       "  0%|          | 0/11 [00:00<?, ?it/s]"
      ]
     },
     "metadata": {},
     "output_type": "display_data"
    },
    {
     "data": {
      "application/vnd.jupyter.widget-view+json": {
       "model_id": "63c7acac26cf41da8ae3540abb33bb7e",
       "version_major": 2,
       "version_minor": 0
      },
      "text/plain": [
       "  0%|          | 0/3 [00:00<?, ?it/s]"
      ]
     },
     "metadata": {},
     "output_type": "display_data"
    },
    {
     "name": "stdout",
     "output_type": "stream",
     "text": [
      "train loss: 0.354 valid loss: 0.306 lr: 0.0000165 train dice: 0.8738 valid dice: 0.8950\n",
      "epoch 58/160\n"
     ]
    },
    {
     "data": {
      "application/vnd.jupyter.widget-view+json": {
       "model_id": "02bd460245be4c088a6855502e77ceb1",
       "version_major": 2,
       "version_minor": 0
      },
      "text/plain": [
       "  0%|          | 0/11 [00:00<?, ?it/s]"
      ]
     },
     "metadata": {},
     "output_type": "display_data"
    },
    {
     "data": {
      "application/vnd.jupyter.widget-view+json": {
       "model_id": "98ab5efc02864896a02f8d1ee5925b47",
       "version_major": 2,
       "version_minor": 0
      },
      "text/plain": [
       "  0%|          | 0/3 [00:00<?, ?it/s]"
      ]
     },
     "metadata": {},
     "output_type": "display_data"
    },
    {
     "name": "stdout",
     "output_type": "stream",
     "text": [
      "train loss: 0.370 valid loss: 0.304 lr: 0.0000152 train dice: 0.8727 valid dice: 0.8945\n",
      "epoch 59/160\n"
     ]
    },
    {
     "data": {
      "application/vnd.jupyter.widget-view+json": {
       "model_id": "05130e49adff4024a1cad9b226aaf66f",
       "version_major": 2,
       "version_minor": 0
      },
      "text/plain": [
       "  0%|          | 0/11 [00:00<?, ?it/s]"
      ]
     },
     "metadata": {},
     "output_type": "display_data"
    },
    {
     "data": {
      "application/vnd.jupyter.widget-view+json": {
       "model_id": "01032d3f1ab1485faf323668636a4536",
       "version_major": 2,
       "version_minor": 0
      },
      "text/plain": [
       "  0%|          | 0/3 [00:00<?, ?it/s]"
      ]
     },
     "metadata": {},
     "output_type": "display_data"
    },
    {
     "name": "stdout",
     "output_type": "stream",
     "text": [
      "train loss: 0.360 valid loss: 0.305 lr: 0.0000140 train dice: 0.8836 valid dice: 0.8953\n",
      "epoch 60/160\n"
     ]
    },
    {
     "data": {
      "application/vnd.jupyter.widget-view+json": {
       "model_id": "01cb1aef113f4ee4b6af888334d3b64b",
       "version_major": 2,
       "version_minor": 0
      },
      "text/plain": [
       "  0%|          | 0/11 [00:00<?, ?it/s]"
      ]
     },
     "metadata": {},
     "output_type": "display_data"
    },
    {
     "data": {
      "application/vnd.jupyter.widget-view+json": {
       "model_id": "769f8d43ed4447fabb0ad00b5713e0b1",
       "version_major": 2,
       "version_minor": 0
      },
      "text/plain": [
       "  0%|          | 0/3 [00:00<?, ?it/s]"
      ]
     },
     "metadata": {},
     "output_type": "display_data"
    },
    {
     "name": "stdout",
     "output_type": "stream",
     "text": [
      "train loss: 0.348 valid loss: 0.300 lr: 0.0000128 train dice: 0.8819 valid dice: 0.8951\n",
      "epoch 61/160\n"
     ]
    },
    {
     "data": {
      "application/vnd.jupyter.widget-view+json": {
       "model_id": "8aec4957c15e4700b4b3df4ed94037ba",
       "version_major": 2,
       "version_minor": 0
      },
      "text/plain": [
       "  0%|          | 0/11 [00:00<?, ?it/s]"
      ]
     },
     "metadata": {},
     "output_type": "display_data"
    },
    {
     "data": {
      "application/vnd.jupyter.widget-view+json": {
       "model_id": "fa68bebea878490f995568048d2a7188",
       "version_major": 2,
       "version_minor": 0
      },
      "text/plain": [
       "  0%|          | 0/3 [00:00<?, ?it/s]"
      ]
     },
     "metadata": {},
     "output_type": "display_data"
    },
    {
     "name": "stdout",
     "output_type": "stream",
     "text": [
      "train loss: 0.324 valid loss: 0.290 lr: 0.0000117 train dice: 0.8882 valid dice: 0.8936\n",
      "epoch 62/160\n"
     ]
    },
    {
     "data": {
      "application/vnd.jupyter.widget-view+json": {
       "model_id": "9924bc349b5f45a69852b31a73a14a7e",
       "version_major": 2,
       "version_minor": 0
      },
      "text/plain": [
       "  0%|          | 0/11 [00:00<?, ?it/s]"
      ]
     },
     "metadata": {},
     "output_type": "display_data"
    },
    {
     "data": {
      "application/vnd.jupyter.widget-view+json": {
       "model_id": "9e63a5e2475d4f36bec8bc55b4a91598",
       "version_major": 2,
       "version_minor": 0
      },
      "text/plain": [
       "  0%|          | 0/3 [00:00<?, ?it/s]"
      ]
     },
     "metadata": {},
     "output_type": "display_data"
    },
    {
     "name": "stdout",
     "output_type": "stream",
     "text": [
      "train loss: 0.349 valid loss: 0.294 lr: 0.0000106 train dice: 0.8747 valid dice: 0.8948\n",
      "epoch 63/160\n"
     ]
    },
    {
     "data": {
      "application/vnd.jupyter.widget-view+json": {
       "model_id": "01ea785c33b24c4f8000d7c244112baa",
       "version_major": 2,
       "version_minor": 0
      },
      "text/plain": [
       "  0%|          | 0/11 [00:00<?, ?it/s]"
      ]
     },
     "metadata": {},
     "output_type": "display_data"
    },
    {
     "data": {
      "application/vnd.jupyter.widget-view+json": {
       "model_id": "85910f2f367646f3a4376c4739652ab3",
       "version_major": 2,
       "version_minor": 0
      },
      "text/plain": [
       "  0%|          | 0/3 [00:00<?, ?it/s]"
      ]
     },
     "metadata": {},
     "output_type": "display_data"
    },
    {
     "name": "stdout",
     "output_type": "stream",
     "text": [
      "train loss: 0.357 valid loss: 0.297 lr: 0.0000096 train dice: 0.8768 valid dice: 0.8950\n",
      "epoch 64/160\n"
     ]
    },
    {
     "data": {
      "application/vnd.jupyter.widget-view+json": {
       "model_id": "cf94546248c14c9881524d15618247a0",
       "version_major": 2,
       "version_minor": 0
      },
      "text/plain": [
       "  0%|          | 0/11 [00:00<?, ?it/s]"
      ]
     },
     "metadata": {},
     "output_type": "display_data"
    },
    {
     "data": {
      "application/vnd.jupyter.widget-view+json": {
       "model_id": "9cf8ccef17f94d9cba430e2baf99f128",
       "version_major": 2,
       "version_minor": 0
      },
      "text/plain": [
       "  0%|          | 0/3 [00:00<?, ?it/s]"
      ]
     },
     "metadata": {},
     "output_type": "display_data"
    },
    {
     "name": "stdout",
     "output_type": "stream",
     "text": [
      "saving model...\n",
      "train loss: 0.358 valid loss: 0.303 lr: 0.0000086 train dice: 0.8790 valid dice: 0.8954\n",
      "epoch 65/160\n"
     ]
    },
    {
     "data": {
      "application/vnd.jupyter.widget-view+json": {
       "model_id": "60f89514bfb0441ab9f4f6aeeb14d8b2",
       "version_major": 2,
       "version_minor": 0
      },
      "text/plain": [
       "  0%|          | 0/11 [00:00<?, ?it/s]"
      ]
     },
     "metadata": {},
     "output_type": "display_data"
    },
    {
     "data": {
      "application/vnd.jupyter.widget-view+json": {
       "model_id": "bfb0d032496f4690abf410de847b03b2",
       "version_major": 2,
       "version_minor": 0
      },
      "text/plain": [
       "  0%|          | 0/3 [00:00<?, ?it/s]"
      ]
     },
     "metadata": {},
     "output_type": "display_data"
    },
    {
     "name": "stdout",
     "output_type": "stream",
     "text": [
      "train loss: 0.378 valid loss: 0.303 lr: 0.0000076 train dice: 0.8737 valid dice: 0.8952\n",
      "epoch 66/160\n"
     ]
    },
    {
     "data": {
      "application/vnd.jupyter.widget-view+json": {
       "model_id": "e9aa0b0e6bc84b70bf0553a79e1952d6",
       "version_major": 2,
       "version_minor": 0
      },
      "text/plain": [
       "  0%|          | 0/11 [00:00<?, ?it/s]"
      ]
     },
     "metadata": {},
     "output_type": "display_data"
    },
    {
     "data": {
      "application/vnd.jupyter.widget-view+json": {
       "model_id": "422190bc402142ec84c9f05e5e7566e2",
       "version_major": 2,
       "version_minor": 0
      },
      "text/plain": [
       "  0%|          | 0/3 [00:00<?, ?it/s]"
      ]
     },
     "metadata": {},
     "output_type": "display_data"
    },
    {
     "name": "stdout",
     "output_type": "stream",
     "text": [
      "saving model...\n",
      "train loss: 0.353 valid loss: 0.303 lr: 0.0000067 train dice: 0.8892 valid dice: 0.8960\n",
      "epoch 67/160\n"
     ]
    },
    {
     "data": {
      "application/vnd.jupyter.widget-view+json": {
       "model_id": "d328c3db4cb447d7a2045c21e4d3a579",
       "version_major": 2,
       "version_minor": 0
      },
      "text/plain": [
       "  0%|          | 0/11 [00:00<?, ?it/s]"
      ]
     },
     "metadata": {},
     "output_type": "display_data"
    },
    {
     "data": {
      "application/vnd.jupyter.widget-view+json": {
       "model_id": "1a287ca219714baab4e5d73b4df574fe",
       "version_major": 2,
       "version_minor": 0
      },
      "text/plain": [
       "  0%|          | 0/3 [00:00<?, ?it/s]"
      ]
     },
     "metadata": {},
     "output_type": "display_data"
    },
    {
     "name": "stdout",
     "output_type": "stream",
     "text": [
      "saving model...\n",
      "train loss: 0.328 valid loss: 0.303 lr: 0.0000059 train dice: 0.8932 valid dice: 0.8963\n",
      "epoch 68/160\n"
     ]
    },
    {
     "data": {
      "application/vnd.jupyter.widget-view+json": {
       "model_id": "56112500f3384e41857b61cfcf275525",
       "version_major": 2,
       "version_minor": 0
      },
      "text/plain": [
       "  0%|          | 0/11 [00:00<?, ?it/s]"
      ]
     },
     "metadata": {},
     "output_type": "display_data"
    },
    {
     "data": {
      "application/vnd.jupyter.widget-view+json": {
       "model_id": "9dc991b68d6e4d34bdcee9da0b0afdbc",
       "version_major": 2,
       "version_minor": 0
      },
      "text/plain": [
       "  0%|          | 0/3 [00:00<?, ?it/s]"
      ]
     },
     "metadata": {},
     "output_type": "display_data"
    },
    {
     "name": "stdout",
     "output_type": "stream",
     "text": [
      "saving model...\n",
      "train loss: 0.344 valid loss: 0.295 lr: 0.0000051 train dice: 0.8815 valid dice: 0.8965\n",
      "epoch 69/160\n"
     ]
    },
    {
     "data": {
      "application/vnd.jupyter.widget-view+json": {
       "model_id": "33fed8d99ae340f78f41d34a83a399d5",
       "version_major": 2,
       "version_minor": 0
      },
      "text/plain": [
       "  0%|          | 0/11 [00:00<?, ?it/s]"
      ]
     },
     "metadata": {},
     "output_type": "display_data"
    },
    {
     "data": {
      "application/vnd.jupyter.widget-view+json": {
       "model_id": "3481d8a9fa684eddaa3ddbaf4e3381b2",
       "version_major": 2,
       "version_minor": 0
      },
      "text/plain": [
       "  0%|          | 0/3 [00:00<?, ?it/s]"
      ]
     },
     "metadata": {},
     "output_type": "display_data"
    },
    {
     "name": "stdout",
     "output_type": "stream",
     "text": [
      "saving model...\n",
      "train loss: 0.353 valid loss: 0.293 lr: 0.0000044 train dice: 0.8829 valid dice: 0.8966\n",
      "epoch 70/160\n"
     ]
    },
    {
     "data": {
      "application/vnd.jupyter.widget-view+json": {
       "model_id": "12a2e5367d994932a771e11a64676e65",
       "version_major": 2,
       "version_minor": 0
      },
      "text/plain": [
       "  0%|          | 0/11 [00:00<?, ?it/s]"
      ]
     },
     "metadata": {},
     "output_type": "display_data"
    },
    {
     "data": {
      "application/vnd.jupyter.widget-view+json": {
       "model_id": "ed5a1dbcd3014006b39089b4c99ce48c",
       "version_major": 2,
       "version_minor": 0
      },
      "text/plain": [
       "  0%|          | 0/3 [00:00<?, ?it/s]"
      ]
     },
     "metadata": {},
     "output_type": "display_data"
    },
    {
     "name": "stdout",
     "output_type": "stream",
     "text": [
      "saving model...\n",
      "train loss: 0.326 valid loss: 0.300 lr: 0.0000037 train dice: 0.8905 valid dice: 0.8967\n",
      "epoch 71/160\n"
     ]
    },
    {
     "data": {
      "application/vnd.jupyter.widget-view+json": {
       "model_id": "16f675f75be1442995a5b048cfdf806a",
       "version_major": 2,
       "version_minor": 0
      },
      "text/plain": [
       "  0%|          | 0/11 [00:00<?, ?it/s]"
      ]
     },
     "metadata": {},
     "output_type": "display_data"
    },
    {
     "data": {
      "application/vnd.jupyter.widget-view+json": {
       "model_id": "295700ea01254f7fa439bce894963e24",
       "version_major": 2,
       "version_minor": 0
      },
      "text/plain": [
       "  0%|          | 0/3 [00:00<?, ?it/s]"
      ]
     },
     "metadata": {},
     "output_type": "display_data"
    },
    {
     "name": "stdout",
     "output_type": "stream",
     "text": [
      "train loss: 0.383 valid loss: 0.299 lr: 0.0000030 train dice: 0.8660 valid dice: 0.8967\n",
      "epoch 72/160\n"
     ]
    },
    {
     "data": {
      "application/vnd.jupyter.widget-view+json": {
       "model_id": "6c180b4daacb44b6854ff76bbcf71f05",
       "version_major": 2,
       "version_minor": 0
      },
      "text/plain": [
       "  0%|          | 0/11 [00:00<?, ?it/s]"
      ]
     },
     "metadata": {},
     "output_type": "display_data"
    },
    {
     "data": {
      "application/vnd.jupyter.widget-view+json": {
       "model_id": "7b4ca713e1bf452a8006be9400465574",
       "version_major": 2,
       "version_minor": 0
      },
      "text/plain": [
       "  0%|          | 0/3 [00:00<?, ?it/s]"
      ]
     },
     "metadata": {},
     "output_type": "display_data"
    },
    {
     "name": "stdout",
     "output_type": "stream",
     "text": [
      "train loss: 0.352 valid loss: 0.301 lr: 0.0000025 train dice: 0.8780 valid dice: 0.8966\n",
      "epoch 73/160\n"
     ]
    },
    {
     "data": {
      "application/vnd.jupyter.widget-view+json": {
       "model_id": "a285e42f58e14866a6f82c54870b7a65",
       "version_major": 2,
       "version_minor": 0
      },
      "text/plain": [
       "  0%|          | 0/11 [00:00<?, ?it/s]"
      ]
     },
     "metadata": {},
     "output_type": "display_data"
    },
    {
     "data": {
      "application/vnd.jupyter.widget-view+json": {
       "model_id": "4bf631efc8b9428cb7a8b0441f92ad1b",
       "version_major": 2,
       "version_minor": 0
      },
      "text/plain": [
       "  0%|          | 0/3 [00:00<?, ?it/s]"
      ]
     },
     "metadata": {},
     "output_type": "display_data"
    },
    {
     "name": "stdout",
     "output_type": "stream",
     "text": [
      "train loss: 0.374 valid loss: 0.291 lr: 0.0000020 train dice: 0.8620 valid dice: 0.8960\n",
      "epoch 74/160\n"
     ]
    },
    {
     "data": {
      "application/vnd.jupyter.widget-view+json": {
       "model_id": "0239c8f7800b4b6bbd8b918c297697f3",
       "version_major": 2,
       "version_minor": 0
      },
      "text/plain": [
       "  0%|          | 0/11 [00:00<?, ?it/s]"
      ]
     },
     "metadata": {},
     "output_type": "display_data"
    },
    {
     "data": {
      "application/vnd.jupyter.widget-view+json": {
       "model_id": "c62911b2c437454db550bea0840c01f0",
       "version_major": 2,
       "version_minor": 0
      },
      "text/plain": [
       "  0%|          | 0/3 [00:00<?, ?it/s]"
      ]
     },
     "metadata": {},
     "output_type": "display_data"
    },
    {
     "name": "stdout",
     "output_type": "stream",
     "text": [
      "train loss: 0.350 valid loss: 0.304 lr: 0.0000015 train dice: 0.8818 valid dice: 0.8966\n",
      "epoch 75/160\n"
     ]
    },
    {
     "data": {
      "application/vnd.jupyter.widget-view+json": {
       "model_id": "bce2c93b78fb47bbbd36db727869f450",
       "version_major": 2,
       "version_minor": 0
      },
      "text/plain": [
       "  0%|          | 0/11 [00:00<?, ?it/s]"
      ]
     },
     "metadata": {},
     "output_type": "display_data"
    },
    {
     "data": {
      "application/vnd.jupyter.widget-view+json": {
       "model_id": "8feb662f3411409289bff13ee9e7c4fa",
       "version_major": 2,
       "version_minor": 0
      },
      "text/plain": [
       "  0%|          | 0/3 [00:00<?, ?it/s]"
      ]
     },
     "metadata": {},
     "output_type": "display_data"
    },
    {
     "name": "stdout",
     "output_type": "stream",
     "text": [
      "train loss: 0.337 valid loss: 0.305 lr: 0.0000011 train dice: 0.8797 valid dice: 0.8966\n",
      "epoch 76/160\n"
     ]
    },
    {
     "data": {
      "application/vnd.jupyter.widget-view+json": {
       "model_id": "31ae870a22814b49b35fe21bb434d5c4",
       "version_major": 2,
       "version_minor": 0
      },
      "text/plain": [
       "  0%|          | 0/11 [00:00<?, ?it/s]"
      ]
     },
     "metadata": {},
     "output_type": "display_data"
    },
    {
     "data": {
      "application/vnd.jupyter.widget-view+json": {
       "model_id": "a10989c1d84749af9270d15af035b276",
       "version_major": 2,
       "version_minor": 0
      },
      "text/plain": [
       "  0%|          | 0/3 [00:00<?, ?it/s]"
      ]
     },
     "metadata": {},
     "output_type": "display_data"
    },
    {
     "name": "stdout",
     "output_type": "stream",
     "text": [
      "train loss: 0.370 valid loss: 0.302 lr: 0.0000008 train dice: 0.8702 valid dice: 0.8966\n",
      "epoch 77/160\n"
     ]
    },
    {
     "data": {
      "application/vnd.jupyter.widget-view+json": {
       "model_id": "eece7897e685431faf3e58b92ec31b3e",
       "version_major": 2,
       "version_minor": 0
      },
      "text/plain": [
       "  0%|          | 0/11 [00:00<?, ?it/s]"
      ]
     },
     "metadata": {},
     "output_type": "display_data"
    },
    {
     "data": {
      "application/vnd.jupyter.widget-view+json": {
       "model_id": "96712134182b415285e26205810bdf26",
       "version_major": 2,
       "version_minor": 0
      },
      "text/plain": [
       "  0%|          | 0/3 [00:00<?, ?it/s]"
      ]
     },
     "metadata": {},
     "output_type": "display_data"
    },
    {
     "name": "stdout",
     "output_type": "stream",
     "text": [
      "train loss: 0.312 valid loss: 0.298 lr: 0.0000005 train dice: 0.8942 valid dice: 0.8961\n",
      "epoch 78/160\n"
     ]
    },
    {
     "data": {
      "application/vnd.jupyter.widget-view+json": {
       "model_id": "4f6f2d68002c4ff7b3829c4db948ff20",
       "version_major": 2,
       "version_minor": 0
      },
      "text/plain": [
       "  0%|          | 0/11 [00:00<?, ?it/s]"
      ]
     },
     "metadata": {},
     "output_type": "display_data"
    },
    {
     "data": {
      "application/vnd.jupyter.widget-view+json": {
       "model_id": "5e3978288f7f4905bd0df1b55f492992",
       "version_major": 2,
       "version_minor": 0
      },
      "text/plain": [
       "  0%|          | 0/3 [00:00<?, ?it/s]"
      ]
     },
     "metadata": {},
     "output_type": "display_data"
    },
    {
     "name": "stdout",
     "output_type": "stream",
     "text": [
      "train loss: 0.348 valid loss: 0.304 lr: 0.0000003 train dice: 0.8714 valid dice: 0.8966\n",
      "epoch 79/160\n"
     ]
    },
    {
     "data": {
      "application/vnd.jupyter.widget-view+json": {
       "model_id": "1b303bf51d4047d0a861f4343c2faf0f",
       "version_major": 2,
       "version_minor": 0
      },
      "text/plain": [
       "  0%|          | 0/11 [00:00<?, ?it/s]"
      ]
     },
     "metadata": {},
     "output_type": "display_data"
    },
    {
     "data": {
      "application/vnd.jupyter.widget-view+json": {
       "model_id": "9fb344bdcf3244ffb3b46ced60fb86d7",
       "version_major": 2,
       "version_minor": 0
      },
      "text/plain": [
       "  0%|          | 0/3 [00:00<?, ?it/s]"
      ]
     },
     "metadata": {},
     "output_type": "display_data"
    },
    {
     "name": "stdout",
     "output_type": "stream",
     "text": [
      "train loss: 0.351 valid loss: 0.308 lr: 0.0000001 train dice: 0.8803 valid dice: 0.8967\n",
      "epoch 80/160\n"
     ]
    },
    {
     "data": {
      "application/vnd.jupyter.widget-view+json": {
       "model_id": "7d64eda23eec4843b61d73e397f4677e",
       "version_major": 2,
       "version_minor": 0
      },
      "text/plain": [
       "  0%|          | 0/11 [00:00<?, ?it/s]"
      ]
     },
     "metadata": {},
     "output_type": "display_data"
    },
    {
     "data": {
      "application/vnd.jupyter.widget-view+json": {
       "model_id": "c9e8d73c33f24abfa42a13c78f006acc",
       "version_major": 2,
       "version_minor": 0
      },
      "text/plain": [
       "  0%|          | 0/3 [00:00<?, ?it/s]"
      ]
     },
     "metadata": {},
     "output_type": "display_data"
    },
    {
     "name": "stdout",
     "output_type": "stream",
     "text": [
      "train loss: 0.356 valid loss: 0.295 lr: 0.0000000 train dice: 0.8781 valid dice: 0.8963\n",
      "epoch 81/160\n"
     ]
    },
    {
     "data": {
      "application/vnd.jupyter.widget-view+json": {
       "model_id": "c24d26028c9345f9957697fe911e8ac7",
       "version_major": 2,
       "version_minor": 0
      },
      "text/plain": [
       "  0%|          | 0/11 [00:00<?, ?it/s]"
      ]
     },
     "metadata": {},
     "output_type": "display_data"
    },
    {
     "data": {
      "application/vnd.jupyter.widget-view+json": {
       "model_id": "c954b73b38124b9689a22511361793d1",
       "version_major": 2,
       "version_minor": 0
      },
      "text/plain": [
       "  0%|          | 0/3 [00:00<?, ?it/s]"
      ]
     },
     "metadata": {},
     "output_type": "display_data"
    },
    {
     "name": "stdout",
     "output_type": "stream",
     "text": [
      "train loss: 0.367 valid loss: 0.303 lr: 0.0000000 train dice: 0.8752 valid dice: 0.8966\n",
      "epoch 82/160\n"
     ]
    },
    {
     "data": {
      "application/vnd.jupyter.widget-view+json": {
       "model_id": "b030cc9cfb244c028bfe5eef2121db0c",
       "version_major": 2,
       "version_minor": 0
      },
      "text/plain": [
       "  0%|          | 0/11 [00:00<?, ?it/s]"
      ]
     },
     "metadata": {},
     "output_type": "display_data"
    },
    {
     "data": {
      "application/vnd.jupyter.widget-view+json": {
       "model_id": "fcf34cce13e643f091f6b04ede1fed79",
       "version_major": 2,
       "version_minor": 0
      },
      "text/plain": [
       "  0%|          | 0/3 [00:00<?, ?it/s]"
      ]
     },
     "metadata": {},
     "output_type": "display_data"
    },
    {
     "name": "stdout",
     "output_type": "stream",
     "text": [
      "train loss: 0.377 valid loss: 0.308 lr: 0.0000000 train dice: 0.8713 valid dice: 0.8967\n",
      "epoch 83/160\n"
     ]
    },
    {
     "data": {
      "application/vnd.jupyter.widget-view+json": {
       "model_id": "374b6a1632cc49f29e8868341154e02d",
       "version_major": 2,
       "version_minor": 0
      },
      "text/plain": [
       "  0%|          | 0/11 [00:00<?, ?it/s]"
      ]
     },
     "metadata": {},
     "output_type": "display_data"
    },
    {
     "data": {
      "application/vnd.jupyter.widget-view+json": {
       "model_id": "be432a7c33b045a0aaa7a687665675f1",
       "version_major": 2,
       "version_minor": 0
      },
      "text/plain": [
       "  0%|          | 0/3 [00:00<?, ?it/s]"
      ]
     },
     "metadata": {},
     "output_type": "display_data"
    },
    {
     "name": "stdout",
     "output_type": "stream",
     "text": [
      "train loss: 0.341 valid loss: 0.304 lr: 0.0000001 train dice: 0.8844 valid dice: 0.8966\n",
      "epoch 84/160\n"
     ]
    },
    {
     "data": {
      "application/vnd.jupyter.widget-view+json": {
       "model_id": "fb93940642e04f6588fb0e0c1ac097c1",
       "version_major": 2,
       "version_minor": 0
      },
      "text/plain": [
       "  0%|          | 0/11 [00:00<?, ?it/s]"
      ]
     },
     "metadata": {},
     "output_type": "display_data"
    },
    {
     "data": {
      "application/vnd.jupyter.widget-view+json": {
       "model_id": "cd106b5ad64c4773a4cbaf951eba9649",
       "version_major": 2,
       "version_minor": 0
      },
      "text/plain": [
       "  0%|          | 0/3 [00:00<?, ?it/s]"
      ]
     },
     "metadata": {},
     "output_type": "display_data"
    },
    {
     "name": "stdout",
     "output_type": "stream",
     "text": [
      "train loss: 0.366 valid loss: 0.298 lr: 0.0000003 train dice: 0.8763 valid dice: 0.8965\n",
      "epoch 85/160\n"
     ]
    },
    {
     "data": {
      "application/vnd.jupyter.widget-view+json": {
       "model_id": "bdc16bc5bf08486da14fcc507039dfcc",
       "version_major": 2,
       "version_minor": 0
      },
      "text/plain": [
       "  0%|          | 0/11 [00:00<?, ?it/s]"
      ]
     },
     "metadata": {},
     "output_type": "display_data"
    },
    {
     "data": {
      "application/vnd.jupyter.widget-view+json": {
       "model_id": "1e764f12420a43ef9a26efcfdfbf3b0e",
       "version_major": 2,
       "version_minor": 0
      },
      "text/plain": [
       "  0%|          | 0/3 [00:00<?, ?it/s]"
      ]
     },
     "metadata": {},
     "output_type": "display_data"
    },
    {
     "name": "stdout",
     "output_type": "stream",
     "text": [
      "train loss: 0.318 valid loss: 0.291 lr: 0.0000005 train dice: 0.8926 valid dice: 0.8961\n",
      "epoch 86/160\n"
     ]
    },
    {
     "data": {
      "application/vnd.jupyter.widget-view+json": {
       "model_id": "76dc60bb228b40009db2ab752275f0aa",
       "version_major": 2,
       "version_minor": 0
      },
      "text/plain": [
       "  0%|          | 0/11 [00:00<?, ?it/s]"
      ]
     },
     "metadata": {},
     "output_type": "display_data"
    },
    {
     "data": {
      "application/vnd.jupyter.widget-view+json": {
       "model_id": "213831c9748440b6af0c790c523ff3ad",
       "version_major": 2,
       "version_minor": 0
      },
      "text/plain": [
       "  0%|          | 0/3 [00:00<?, ?it/s]"
      ]
     },
     "metadata": {},
     "output_type": "display_data"
    },
    {
     "name": "stdout",
     "output_type": "stream",
     "text": [
      "train loss: 0.356 valid loss: 0.299 lr: 0.0000008 train dice: 0.8800 valid dice: 0.8964\n",
      "epoch 87/160\n"
     ]
    },
    {
     "data": {
      "application/vnd.jupyter.widget-view+json": {
       "model_id": "4e52a71e33774614a02a27e134822c23",
       "version_major": 2,
       "version_minor": 0
      },
      "text/plain": [
       "  0%|          | 0/11 [00:00<?, ?it/s]"
      ]
     },
     "metadata": {},
     "output_type": "display_data"
    },
    {
     "data": {
      "application/vnd.jupyter.widget-view+json": {
       "model_id": "56510c6752054727871d7404be009f78",
       "version_major": 2,
       "version_minor": 0
      },
      "text/plain": [
       "  0%|          | 0/3 [00:00<?, ?it/s]"
      ]
     },
     "metadata": {},
     "output_type": "display_data"
    },
    {
     "name": "stdout",
     "output_type": "stream",
     "text": [
      "saving model...\n",
      "train loss: 0.346 valid loss: 0.312 lr: 0.0000011 train dice: 0.8826 valid dice: 0.8969\n",
      "epoch 88/160\n"
     ]
    },
    {
     "data": {
      "application/vnd.jupyter.widget-view+json": {
       "model_id": "51c09e02eddc44d598077cf28c8d1308",
       "version_major": 2,
       "version_minor": 0
      },
      "text/plain": [
       "  0%|          | 0/11 [00:00<?, ?it/s]"
      ]
     },
     "metadata": {},
     "output_type": "display_data"
    },
    {
     "data": {
      "application/vnd.jupyter.widget-view+json": {
       "model_id": "225e2ce595a14966897dc414a67579d2",
       "version_major": 2,
       "version_minor": 0
      },
      "text/plain": [
       "  0%|          | 0/3 [00:00<?, ?it/s]"
      ]
     },
     "metadata": {},
     "output_type": "display_data"
    },
    {
     "name": "stdout",
     "output_type": "stream",
     "text": [
      "train loss: 0.339 valid loss: 0.301 lr: 0.0000015 train dice: 0.8844 valid dice: 0.8967\n",
      "epoch 89/160\n"
     ]
    },
    {
     "data": {
      "application/vnd.jupyter.widget-view+json": {
       "model_id": "7b0b5db9ba99457abf9ee189a3a4e734",
       "version_major": 2,
       "version_minor": 0
      },
      "text/plain": [
       "  0%|          | 0/11 [00:00<?, ?it/s]"
      ]
     },
     "metadata": {},
     "output_type": "display_data"
    },
    {
     "data": {
      "application/vnd.jupyter.widget-view+json": {
       "model_id": "69ff08825266418c99138468e6903886",
       "version_major": 2,
       "version_minor": 0
      },
      "text/plain": [
       "  0%|          | 0/3 [00:00<?, ?it/s]"
      ]
     },
     "metadata": {},
     "output_type": "display_data"
    },
    {
     "name": "stdout",
     "output_type": "stream",
     "text": [
      "train loss: 0.368 valid loss: 0.300 lr: 0.0000020 train dice: 0.8769 valid dice: 0.8966\n",
      "epoch 90/160\n"
     ]
    },
    {
     "data": {
      "application/vnd.jupyter.widget-view+json": {
       "model_id": "7174b81846c348e0991798bfd59f1d21",
       "version_major": 2,
       "version_minor": 0
      },
      "text/plain": [
       "  0%|          | 0/11 [00:00<?, ?it/s]"
      ]
     },
     "metadata": {},
     "output_type": "display_data"
    },
    {
     "data": {
      "application/vnd.jupyter.widget-view+json": {
       "model_id": "9d55aa3908034965ada1706c44e6ed42",
       "version_major": 2,
       "version_minor": 0
      },
      "text/plain": [
       "  0%|          | 0/3 [00:00<?, ?it/s]"
      ]
     },
     "metadata": {},
     "output_type": "display_data"
    },
    {
     "name": "stdout",
     "output_type": "stream",
     "text": [
      "train loss: 0.329 valid loss: 0.291 lr: 0.0000025 train dice: 0.8836 valid dice: 0.8959\n",
      "epoch 91/160\n"
     ]
    },
    {
     "data": {
      "application/vnd.jupyter.widget-view+json": {
       "model_id": "5657a497fb5b48f4a8b028394be425be",
       "version_major": 2,
       "version_minor": 0
      },
      "text/plain": [
       "  0%|          | 0/11 [00:00<?, ?it/s]"
      ]
     },
     "metadata": {},
     "output_type": "display_data"
    },
    {
     "data": {
      "application/vnd.jupyter.widget-view+json": {
       "model_id": "dde27a4d533242e892a9229694a55b31",
       "version_major": 2,
       "version_minor": 0
      },
      "text/plain": [
       "  0%|          | 0/3 [00:00<?, ?it/s]"
      ]
     },
     "metadata": {},
     "output_type": "display_data"
    },
    {
     "name": "stdout",
     "output_type": "stream",
     "text": [
      "train loss: 0.377 valid loss: 0.283 lr: 0.0000030 train dice: 0.8592 valid dice: 0.8957\n",
      "epoch 92/160\n"
     ]
    },
    {
     "data": {
      "application/vnd.jupyter.widget-view+json": {
       "model_id": "ea37621d4164413f83eb8d379118dcf3",
       "version_major": 2,
       "version_minor": 0
      },
      "text/plain": [
       "  0%|          | 0/11 [00:00<?, ?it/s]"
      ]
     },
     "metadata": {},
     "output_type": "display_data"
    },
    {
     "data": {
      "application/vnd.jupyter.widget-view+json": {
       "model_id": "27f99d15d2b046e9822d80ad8f491e6f",
       "version_major": 2,
       "version_minor": 0
      },
      "text/plain": [
       "  0%|          | 0/3 [00:00<?, ?it/s]"
      ]
     },
     "metadata": {},
     "output_type": "display_data"
    },
    {
     "name": "stdout",
     "output_type": "stream",
     "text": [
      "train loss: 0.352 valid loss: 0.289 lr: 0.0000037 train dice: 0.8774 valid dice: 0.8961\n",
      "epoch 93/160\n"
     ]
    },
    {
     "data": {
      "application/vnd.jupyter.widget-view+json": {
       "model_id": "4f7371abb64c422c9d2c9b95660754da",
       "version_major": 2,
       "version_minor": 0
      },
      "text/plain": [
       "  0%|          | 0/11 [00:00<?, ?it/s]"
      ]
     },
     "metadata": {},
     "output_type": "display_data"
    },
    {
     "data": {
      "application/vnd.jupyter.widget-view+json": {
       "model_id": "21a84c15a1434acb97198269aaab8bf5",
       "version_major": 2,
       "version_minor": 0
      },
      "text/plain": [
       "  0%|          | 0/3 [00:00<?, ?it/s]"
      ]
     },
     "metadata": {},
     "output_type": "display_data"
    },
    {
     "name": "stdout",
     "output_type": "stream",
     "text": [
      "train loss: 0.372 valid loss: 0.295 lr: 0.0000044 train dice: 0.8739 valid dice: 0.8966\n",
      "epoch 94/160\n"
     ]
    },
    {
     "data": {
      "application/vnd.jupyter.widget-view+json": {
       "model_id": "f1c362fb2c934d5c946d15bd18538f83",
       "version_major": 2,
       "version_minor": 0
      },
      "text/plain": [
       "  0%|          | 0/11 [00:00<?, ?it/s]"
      ]
     },
     "metadata": {},
     "output_type": "display_data"
    },
    {
     "data": {
      "application/vnd.jupyter.widget-view+json": {
       "model_id": "679dc49d2c6341868eca4e432a178581",
       "version_major": 2,
       "version_minor": 0
      },
      "text/plain": [
       "  0%|          | 0/3 [00:00<?, ?it/s]"
      ]
     },
     "metadata": {},
     "output_type": "display_data"
    },
    {
     "name": "stdout",
     "output_type": "stream",
     "text": [
      "train loss: 0.359 valid loss: 0.277 lr: 0.0000051 train dice: 0.8838 valid dice: 0.8946\n",
      "epoch 95/160\n"
     ]
    },
    {
     "data": {
      "application/vnd.jupyter.widget-view+json": {
       "model_id": "ce697400072c44628f6f33323fecc22d",
       "version_major": 2,
       "version_minor": 0
      },
      "text/plain": [
       "  0%|          | 0/11 [00:00<?, ?it/s]"
      ]
     },
     "metadata": {},
     "output_type": "display_data"
    },
    {
     "data": {
      "application/vnd.jupyter.widget-view+json": {
       "model_id": "69dd17de2e1543efa6a542855de903cd",
       "version_major": 2,
       "version_minor": 0
      },
      "text/plain": [
       "  0%|          | 0/3 [00:00<?, ?it/s]"
      ]
     },
     "metadata": {},
     "output_type": "display_data"
    },
    {
     "name": "stdout",
     "output_type": "stream",
     "text": [
      "train loss: 0.355 valid loss: 0.282 lr: 0.0000059 train dice: 0.8731 valid dice: 0.8963\n",
      "epoch 96/160\n"
     ]
    },
    {
     "data": {
      "application/vnd.jupyter.widget-view+json": {
       "model_id": "3236c435a51e4e359173122478ff9b3c",
       "version_major": 2,
       "version_minor": 0
      },
      "text/plain": [
       "  0%|          | 0/11 [00:00<?, ?it/s]"
      ]
     },
     "metadata": {},
     "output_type": "display_data"
    },
    {
     "data": {
      "application/vnd.jupyter.widget-view+json": {
       "model_id": "b6ba2b3412aa425d90918d40d6ab261e",
       "version_major": 2,
       "version_minor": 0
      },
      "text/plain": [
       "  0%|          | 0/3 [00:00<?, ?it/s]"
      ]
     },
     "metadata": {},
     "output_type": "display_data"
    },
    {
     "name": "stdout",
     "output_type": "stream",
     "text": [
      "train loss: 0.335 valid loss: 0.290 lr: 0.0000067 train dice: 0.8896 valid dice: 0.8968\n",
      "epoch 97/160\n"
     ]
    },
    {
     "data": {
      "application/vnd.jupyter.widget-view+json": {
       "model_id": "813367ff75b9426ba838390224dccc56",
       "version_major": 2,
       "version_minor": 0
      },
      "text/plain": [
       "  0%|          | 0/11 [00:00<?, ?it/s]"
      ]
     },
     "metadata": {},
     "output_type": "display_data"
    },
    {
     "data": {
      "application/vnd.jupyter.widget-view+json": {
       "model_id": "0d917a6d1ef547aebc77b6cfffb6d207",
       "version_major": 2,
       "version_minor": 0
      },
      "text/plain": [
       "  0%|          | 0/3 [00:00<?, ?it/s]"
      ]
     },
     "metadata": {},
     "output_type": "display_data"
    },
    {
     "name": "stdout",
     "output_type": "stream",
     "text": [
      "saving model...\n",
      "train loss: 0.332 valid loss: 0.291 lr: 0.0000076 train dice: 0.8864 valid dice: 0.8971\n",
      "epoch 98/160\n"
     ]
    },
    {
     "data": {
      "application/vnd.jupyter.widget-view+json": {
       "model_id": "adb991bc27534b2593a9f2908282c051",
       "version_major": 2,
       "version_minor": 0
      },
      "text/plain": [
       "  0%|          | 0/11 [00:00<?, ?it/s]"
      ]
     },
     "metadata": {},
     "output_type": "display_data"
    },
    {
     "data": {
      "application/vnd.jupyter.widget-view+json": {
       "model_id": "8bcec2ae2abc4c95b0812eb317f2a306",
       "version_major": 2,
       "version_minor": 0
      },
      "text/plain": [
       "  0%|          | 0/3 [00:00<?, ?it/s]"
      ]
     },
     "metadata": {},
     "output_type": "display_data"
    },
    {
     "name": "stdout",
     "output_type": "stream",
     "text": [
      "saving model...\n",
      "train loss: 0.359 valid loss: 0.287 lr: 0.0000086 train dice: 0.8791 valid dice: 0.8972\n",
      "epoch 99/160\n"
     ]
    },
    {
     "data": {
      "application/vnd.jupyter.widget-view+json": {
       "model_id": "ef422f851dbb4d35b34caa4a367a3c65",
       "version_major": 2,
       "version_minor": 0
      },
      "text/plain": [
       "  0%|          | 0/11 [00:00<?, ?it/s]"
      ]
     },
     "metadata": {},
     "output_type": "display_data"
    },
    {
     "data": {
      "application/vnd.jupyter.widget-view+json": {
       "model_id": "470813cb2ea84210b70db12cd381a84f",
       "version_major": 2,
       "version_minor": 0
      },
      "text/plain": [
       "  0%|          | 0/3 [00:00<?, ?it/s]"
      ]
     },
     "metadata": {},
     "output_type": "display_data"
    },
    {
     "name": "stdout",
     "output_type": "stream",
     "text": [
      "saving model...\n",
      "train loss: 0.371 valid loss: 0.290 lr: 0.0000096 train dice: 0.8711 valid dice: 0.8979\n",
      "epoch 100/160\n"
     ]
    },
    {
     "data": {
      "application/vnd.jupyter.widget-view+json": {
       "model_id": "b503f661297547ffa304309ff4d11f24",
       "version_major": 2,
       "version_minor": 0
      },
      "text/plain": [
       "  0%|          | 0/11 [00:00<?, ?it/s]"
      ]
     },
     "metadata": {},
     "output_type": "display_data"
    },
    {
     "data": {
      "application/vnd.jupyter.widget-view+json": {
       "model_id": "2c2641bf166b41b68c228c6ab87dde65",
       "version_major": 2,
       "version_minor": 0
      },
      "text/plain": [
       "  0%|          | 0/3 [00:00<?, ?it/s]"
      ]
     },
     "metadata": {},
     "output_type": "display_data"
    },
    {
     "name": "stdout",
     "output_type": "stream",
     "text": [
      "train loss: 0.375 valid loss: 0.287 lr: 0.0000106 train dice: 0.8672 valid dice: 0.8979\n",
      "epoch 101/160\n"
     ]
    },
    {
     "data": {
      "application/vnd.jupyter.widget-view+json": {
       "model_id": "01237febda4c45c19ade0c09e3fdfa02",
       "version_major": 2,
       "version_minor": 0
      },
      "text/plain": [
       "  0%|          | 0/11 [00:00<?, ?it/s]"
      ]
     },
     "metadata": {},
     "output_type": "display_data"
    },
    {
     "data": {
      "application/vnd.jupyter.widget-view+json": {
       "model_id": "a7b0d881d10a420ba6f75ad25218d248",
       "version_major": 2,
       "version_minor": 0
      },
      "text/plain": [
       "  0%|          | 0/3 [00:00<?, ?it/s]"
      ]
     },
     "metadata": {},
     "output_type": "display_data"
    },
    {
     "name": "stdout",
     "output_type": "stream",
     "text": [
      "saving model...\n",
      "train loss: 0.368 valid loss: 0.285 lr: 0.0000117 train dice: 0.8646 valid dice: 0.8982\n",
      "epoch 102/160\n"
     ]
    },
    {
     "data": {
      "application/vnd.jupyter.widget-view+json": {
       "model_id": "78b37a71d6964c289e91872fa031fc1d",
       "version_major": 2,
       "version_minor": 0
      },
      "text/plain": [
       "  0%|          | 0/11 [00:00<?, ?it/s]"
      ]
     },
     "metadata": {},
     "output_type": "display_data"
    },
    {
     "data": {
      "application/vnd.jupyter.widget-view+json": {
       "model_id": "6d245ecbc1b74128a68e25c86eb0b973",
       "version_major": 2,
       "version_minor": 0
      },
      "text/plain": [
       "  0%|          | 0/3 [00:00<?, ?it/s]"
      ]
     },
     "metadata": {},
     "output_type": "display_data"
    },
    {
     "name": "stdout",
     "output_type": "stream",
     "text": [
      "train loss: 0.351 valid loss: 0.279 lr: 0.0000128 train dice: 0.8777 valid dice: 0.8981\n",
      "epoch 103/160\n"
     ]
    },
    {
     "data": {
      "application/vnd.jupyter.widget-view+json": {
       "model_id": "6a96f08877ae49e0b8d9c63e53afc9fc",
       "version_major": 2,
       "version_minor": 0
      },
      "text/plain": [
       "  0%|          | 0/11 [00:00<?, ?it/s]"
      ]
     },
     "metadata": {},
     "output_type": "display_data"
    },
    {
     "data": {
      "application/vnd.jupyter.widget-view+json": {
       "model_id": "9f11c2266eb040e98956a241d0c4a316",
       "version_major": 2,
       "version_minor": 0
      },
      "text/plain": [
       "  0%|          | 0/3 [00:00<?, ?it/s]"
      ]
     },
     "metadata": {},
     "output_type": "display_data"
    },
    {
     "name": "stdout",
     "output_type": "stream",
     "text": [
      "train loss: 0.322 valid loss: 0.277 lr: 0.0000140 train dice: 0.8888 valid dice: 0.8978\n",
      "epoch 104/160\n"
     ]
    },
    {
     "data": {
      "application/vnd.jupyter.widget-view+json": {
       "model_id": "121b7543890647159696b5b17d41b4ea",
       "version_major": 2,
       "version_minor": 0
      },
      "text/plain": [
       "  0%|          | 0/11 [00:00<?, ?it/s]"
      ]
     },
     "metadata": {},
     "output_type": "display_data"
    },
    {
     "data": {
      "application/vnd.jupyter.widget-view+json": {
       "model_id": "13b38eb32687421fa1d9c1bc250dbe4a",
       "version_major": 2,
       "version_minor": 0
      },
      "text/plain": [
       "  0%|          | 0/3 [00:00<?, ?it/s]"
      ]
     },
     "metadata": {},
     "output_type": "display_data"
    },
    {
     "name": "stdout",
     "output_type": "stream",
     "text": [
      "train loss: 0.338 valid loss: 0.273 lr: 0.0000152 train dice: 0.8928 valid dice: 0.8975\n",
      "epoch 105/160\n"
     ]
    },
    {
     "data": {
      "application/vnd.jupyter.widget-view+json": {
       "model_id": "9261bfd977a3468494819ffe8b58583c",
       "version_major": 2,
       "version_minor": 0
      },
      "text/plain": [
       "  0%|          | 0/11 [00:00<?, ?it/s]"
      ]
     },
     "metadata": {},
     "output_type": "display_data"
    },
    {
     "data": {
      "application/vnd.jupyter.widget-view+json": {
       "model_id": "9f40896706fc43b792ff565dd7b11e5c",
       "version_major": 2,
       "version_minor": 0
      },
      "text/plain": [
       "  0%|          | 0/3 [00:00<?, ?it/s]"
      ]
     },
     "metadata": {},
     "output_type": "display_data"
    },
    {
     "name": "stdout",
     "output_type": "stream",
     "text": [
      "train loss: 0.336 valid loss: 0.280 lr: 0.0000165 train dice: 0.8861 valid dice: 0.8981\n",
      "epoch 106/160\n"
     ]
    },
    {
     "data": {
      "application/vnd.jupyter.widget-view+json": {
       "model_id": "2fafde35c25747ad8fb5932ac31079f0",
       "version_major": 2,
       "version_minor": 0
      },
      "text/plain": [
       "  0%|          | 0/11 [00:00<?, ?it/s]"
      ]
     },
     "metadata": {},
     "output_type": "display_data"
    },
    {
     "data": {
      "application/vnd.jupyter.widget-view+json": {
       "model_id": "f6f6613a5d3c4e0fa3b079df7f4ff07e",
       "version_major": 2,
       "version_minor": 0
      },
      "text/plain": [
       "  0%|          | 0/3 [00:00<?, ?it/s]"
      ]
     },
     "metadata": {},
     "output_type": "display_data"
    },
    {
     "name": "stdout",
     "output_type": "stream",
     "text": [
      "train loss: 0.372 valid loss: 0.283 lr: 0.0000178 train dice: 0.8670 valid dice: 0.8982\n",
      "epoch 107/160\n"
     ]
    },
    {
     "data": {
      "application/vnd.jupyter.widget-view+json": {
       "model_id": "64923d237a554e3e9cd12023222e6152",
       "version_major": 2,
       "version_minor": 0
      },
      "text/plain": [
       "  0%|          | 0/11 [00:00<?, ?it/s]"
      ]
     },
     "metadata": {},
     "output_type": "display_data"
    },
    {
     "data": {
      "application/vnd.jupyter.widget-view+json": {
       "model_id": "9acb3d96f685495d86cd024f5eaccb06",
       "version_major": 2,
       "version_minor": 0
      },
      "text/plain": [
       "  0%|          | 0/3 [00:00<?, ?it/s]"
      ]
     },
     "metadata": {},
     "output_type": "display_data"
    },
    {
     "name": "stdout",
     "output_type": "stream",
     "text": [
      "train loss: 0.332 valid loss: 0.281 lr: 0.0000191 train dice: 0.8855 valid dice: 0.8979\n",
      "epoch 108/160\n"
     ]
    },
    {
     "data": {
      "application/vnd.jupyter.widget-view+json": {
       "model_id": "dc8c6f7c496a4881a1802eda8193aef2",
       "version_major": 2,
       "version_minor": 0
      },
      "text/plain": [
       "  0%|          | 0/11 [00:00<?, ?it/s]"
      ]
     },
     "metadata": {},
     "output_type": "display_data"
    },
    {
     "data": {
      "application/vnd.jupyter.widget-view+json": {
       "model_id": "73d84d2658524ca2bf6e735fc3b360a5",
       "version_major": 2,
       "version_minor": 0
      },
      "text/plain": [
       "  0%|          | 0/3 [00:00<?, ?it/s]"
      ]
     },
     "metadata": {},
     "output_type": "display_data"
    },
    {
     "name": "stdout",
     "output_type": "stream",
     "text": [
      "saving model...\n",
      "train loss: 0.343 valid loss: 0.290 lr: 0.0000205 train dice: 0.8806 valid dice: 0.8988\n",
      "epoch 109/160\n"
     ]
    },
    {
     "data": {
      "application/vnd.jupyter.widget-view+json": {
       "model_id": "037c1e5de4b94ed4a394f9d87af76a12",
       "version_major": 2,
       "version_minor": 0
      },
      "text/plain": [
       "  0%|          | 0/11 [00:00<?, ?it/s]"
      ]
     },
     "metadata": {},
     "output_type": "display_data"
    },
    {
     "data": {
      "application/vnd.jupyter.widget-view+json": {
       "model_id": "19bc9ffcef2a425591551414ffc4a4f8",
       "version_major": 2,
       "version_minor": 0
      },
      "text/plain": [
       "  0%|          | 0/3 [00:00<?, ?it/s]"
      ]
     },
     "metadata": {},
     "output_type": "display_data"
    },
    {
     "name": "stdout",
     "output_type": "stream",
     "text": [
      "train loss: 0.310 valid loss: 0.278 lr: 0.0000218 train dice: 0.8915 valid dice: 0.8973\n",
      "epoch 110/160\n"
     ]
    },
    {
     "data": {
      "application/vnd.jupyter.widget-view+json": {
       "model_id": "c6645aad49b9475e89009145ed0dd9f2",
       "version_major": 2,
       "version_minor": 0
      },
      "text/plain": [
       "  0%|          | 0/11 [00:00<?, ?it/s]"
      ]
     },
     "metadata": {},
     "output_type": "display_data"
    },
    {
     "data": {
      "application/vnd.jupyter.widget-view+json": {
       "model_id": "8735d22a2020446bb17b283bf1067c44",
       "version_major": 2,
       "version_minor": 0
      },
      "text/plain": [
       "  0%|          | 0/3 [00:00<?, ?it/s]"
      ]
     },
     "metadata": {},
     "output_type": "display_data"
    },
    {
     "name": "stdout",
     "output_type": "stream",
     "text": [
      "train loss: 0.354 valid loss: 0.286 lr: 0.0000233 train dice: 0.8731 valid dice: 0.8985\n",
      "epoch 111/160\n"
     ]
    },
    {
     "data": {
      "application/vnd.jupyter.widget-view+json": {
       "model_id": "031c25f3ba7f43ab9f052150ea942c31",
       "version_major": 2,
       "version_minor": 0
      },
      "text/plain": [
       "  0%|          | 0/11 [00:00<?, ?it/s]"
      ]
     },
     "metadata": {},
     "output_type": "display_data"
    },
    {
     "data": {
      "application/vnd.jupyter.widget-view+json": {
       "model_id": "3deb9c380a0d4204a87d625bcbefef93",
       "version_major": 2,
       "version_minor": 0
      },
      "text/plain": [
       "  0%|          | 0/3 [00:00<?, ?it/s]"
      ]
     },
     "metadata": {},
     "output_type": "display_data"
    },
    {
     "name": "stdout",
     "output_type": "stream",
     "text": [
      "train loss: 0.325 valid loss: 0.279 lr: 0.0000247 train dice: 0.8876 valid dice: 0.8984\n",
      "epoch 112/160\n"
     ]
    },
    {
     "data": {
      "application/vnd.jupyter.widget-view+json": {
       "model_id": "005b11bc3d47406892fc1da44bc3143c",
       "version_major": 2,
       "version_minor": 0
      },
      "text/plain": [
       "  0%|          | 0/11 [00:00<?, ?it/s]"
      ]
     },
     "metadata": {},
     "output_type": "display_data"
    },
    {
     "data": {
      "application/vnd.jupyter.widget-view+json": {
       "model_id": "115ec2b37b014a0f8ac7de4d734052b0",
       "version_major": 2,
       "version_minor": 0
      },
      "text/plain": [
       "  0%|          | 0/3 [00:00<?, ?it/s]"
      ]
     },
     "metadata": {},
     "output_type": "display_data"
    },
    {
     "name": "stdout",
     "output_type": "stream",
     "text": [
      "train loss: 0.326 valid loss: 0.280 lr: 0.0000262 train dice: 0.8921 valid dice: 0.8982\n",
      "epoch 113/160\n"
     ]
    },
    {
     "data": {
      "application/vnd.jupyter.widget-view+json": {
       "model_id": "e78a8ede0c8f4e6b865042f6f6e25698",
       "version_major": 2,
       "version_minor": 0
      },
      "text/plain": [
       "  0%|          | 0/11 [00:00<?, ?it/s]"
      ]
     },
     "metadata": {},
     "output_type": "display_data"
    },
    {
     "data": {
      "application/vnd.jupyter.widget-view+json": {
       "model_id": "5800f297c2e14544afcfefc44a768640",
       "version_major": 2,
       "version_minor": 0
      },
      "text/plain": [
       "  0%|          | 0/3 [00:00<?, ?it/s]"
      ]
     },
     "metadata": {},
     "output_type": "display_data"
    },
    {
     "name": "stdout",
     "output_type": "stream",
     "text": [
      "train loss: 0.308 valid loss: 0.293 lr: 0.0000276 train dice: 0.8935 valid dice: 0.8958\n",
      "epoch 114/160\n"
     ]
    },
    {
     "data": {
      "application/vnd.jupyter.widget-view+json": {
       "model_id": "700916460f834ecda3b8b79a883743e4",
       "version_major": 2,
       "version_minor": 0
      },
      "text/plain": [
       "  0%|          | 0/11 [00:00<?, ?it/s]"
      ]
     },
     "metadata": {},
     "output_type": "display_data"
    },
    {
     "data": {
      "application/vnd.jupyter.widget-view+json": {
       "model_id": "0075f09e53ea41009b54418e96e42861",
       "version_major": 2,
       "version_minor": 0
      },
      "text/plain": [
       "  0%|          | 0/3 [00:00<?, ?it/s]"
      ]
     },
     "metadata": {},
     "output_type": "display_data"
    },
    {
     "name": "stdout",
     "output_type": "stream",
     "text": [
      "train loss: 0.371 valid loss: 0.282 lr: 0.0000291 train dice: 0.8678 valid dice: 0.8937\n",
      "epoch 115/160\n"
     ]
    },
    {
     "data": {
      "application/vnd.jupyter.widget-view+json": {
       "model_id": "716316b5e35247a2a00180c9e2bc9283",
       "version_major": 2,
       "version_minor": 0
      },
      "text/plain": [
       "  0%|          | 0/11 [00:00<?, ?it/s]"
      ]
     },
     "metadata": {},
     "output_type": "display_data"
    },
    {
     "data": {
      "application/vnd.jupyter.widget-view+json": {
       "model_id": "2bdc97f98112401481727db5a4773205",
       "version_major": 2,
       "version_minor": 0
      },
      "text/plain": [
       "  0%|          | 0/3 [00:00<?, ?it/s]"
      ]
     },
     "metadata": {},
     "output_type": "display_data"
    },
    {
     "name": "stdout",
     "output_type": "stream",
     "text": [
      "saving model...\n",
      "train loss: 0.355 valid loss: 0.288 lr: 0.0000307 train dice: 0.8617 valid dice: 0.8998\n",
      "epoch 116/160\n"
     ]
    },
    {
     "data": {
      "application/vnd.jupyter.widget-view+json": {
       "model_id": "c0fd76f3a14047f98d55b92c82155e22",
       "version_major": 2,
       "version_minor": 0
      },
      "text/plain": [
       "  0%|          | 0/11 [00:00<?, ?it/s]"
      ]
     },
     "metadata": {},
     "output_type": "display_data"
    },
    {
     "data": {
      "application/vnd.jupyter.widget-view+json": {
       "model_id": "75eda4c21e3648f4967019cb2e6dc92f",
       "version_major": 2,
       "version_minor": 0
      },
      "text/plain": [
       "  0%|          | 0/3 [00:00<?, ?it/s]"
      ]
     },
     "metadata": {},
     "output_type": "display_data"
    },
    {
     "name": "stdout",
     "output_type": "stream",
     "text": [
      "saving model...\n",
      "train loss: 0.342 valid loss: 0.288 lr: 0.0000322 train dice: 0.8742 valid dice: 0.9012\n",
      "epoch 117/160\n"
     ]
    },
    {
     "data": {
      "application/vnd.jupyter.widget-view+json": {
       "model_id": "192d6a6d981f499391267c8f8e3cfc84",
       "version_major": 2,
       "version_minor": 0
      },
      "text/plain": [
       "  0%|          | 0/11 [00:00<?, ?it/s]"
      ]
     },
     "metadata": {},
     "output_type": "display_data"
    },
    {
     "data": {
      "application/vnd.jupyter.widget-view+json": {
       "model_id": "6d747414bf8a4d73ab0025b9adc77e43",
       "version_major": 2,
       "version_minor": 0
      },
      "text/plain": [
       "  0%|          | 0/3 [00:00<?, ?it/s]"
      ]
     },
     "metadata": {},
     "output_type": "display_data"
    },
    {
     "name": "stdout",
     "output_type": "stream",
     "text": [
      "train loss: 0.316 valid loss: 0.279 lr: 0.0000337 train dice: 0.8877 valid dice: 0.8999\n",
      "epoch 118/160\n"
     ]
    },
    {
     "data": {
      "application/vnd.jupyter.widget-view+json": {
       "model_id": "806868257ca84f2abfefe0b757a88b88",
       "version_major": 2,
       "version_minor": 0
      },
      "text/plain": [
       "  0%|          | 0/11 [00:00<?, ?it/s]"
      ]
     },
     "metadata": {},
     "output_type": "display_data"
    },
    {
     "data": {
      "application/vnd.jupyter.widget-view+json": {
       "model_id": "599873666b4e4491a1379b2b22f2f7d1",
       "version_major": 2,
       "version_minor": 0
      },
      "text/plain": [
       "  0%|          | 0/3 [00:00<?, ?it/s]"
      ]
     },
     "metadata": {},
     "output_type": "display_data"
    },
    {
     "name": "stdout",
     "output_type": "stream",
     "text": [
      "train loss: 0.324 valid loss: 0.277 lr: 0.0000353 train dice: 0.8829 valid dice: 0.8989\n",
      "epoch 119/160\n"
     ]
    },
    {
     "data": {
      "application/vnd.jupyter.widget-view+json": {
       "model_id": "d2e94683fee34e15b167d60df6b82690",
       "version_major": 2,
       "version_minor": 0
      },
      "text/plain": [
       "  0%|          | 0/11 [00:00<?, ?it/s]"
      ]
     },
     "metadata": {},
     "output_type": "display_data"
    },
    {
     "data": {
      "application/vnd.jupyter.widget-view+json": {
       "model_id": "8b906d8b4ac64df6a4d20bf926210e5c",
       "version_major": 2,
       "version_minor": 0
      },
      "text/plain": [
       "  0%|          | 0/3 [00:00<?, ?it/s]"
      ]
     },
     "metadata": {},
     "output_type": "display_data"
    },
    {
     "name": "stdout",
     "output_type": "stream",
     "text": [
      "train loss: 0.345 valid loss: 0.269 lr: 0.0000369 train dice: 0.8838 valid dice: 0.8974\n",
      "epoch 120/160\n"
     ]
    },
    {
     "data": {
      "application/vnd.jupyter.widget-view+json": {
       "model_id": "6476ac257d494c229ccc263b5ef7e29b",
       "version_major": 2,
       "version_minor": 0
      },
      "text/plain": [
       "  0%|          | 0/11 [00:00<?, ?it/s]"
      ]
     },
     "metadata": {},
     "output_type": "display_data"
    },
    {
     "data": {
      "application/vnd.jupyter.widget-view+json": {
       "model_id": "5cd15dfa57ed4f29b504436751cd980d",
       "version_major": 2,
       "version_minor": 0
      },
      "text/plain": [
       "  0%|          | 0/3 [00:00<?, ?it/s]"
      ]
     },
     "metadata": {},
     "output_type": "display_data"
    },
    {
     "name": "stdout",
     "output_type": "stream",
     "text": [
      "train loss: 0.326 valid loss: 0.273 lr: 0.0000384 train dice: 0.8835 valid dice: 0.9009\n",
      "epoch 121/160\n"
     ]
    },
    {
     "data": {
      "application/vnd.jupyter.widget-view+json": {
       "model_id": "c2d1b666bc2b4ce8938851dcc9e8b898",
       "version_major": 2,
       "version_minor": 0
      },
      "text/plain": [
       "  0%|          | 0/11 [00:00<?, ?it/s]"
      ]
     },
     "metadata": {},
     "output_type": "display_data"
    },
    {
     "data": {
      "application/vnd.jupyter.widget-view+json": {
       "model_id": "5cbf05a8e0694495a422216754b95c27",
       "version_major": 2,
       "version_minor": 0
      },
      "text/plain": [
       "  0%|          | 0/3 [00:00<?, ?it/s]"
      ]
     },
     "metadata": {},
     "output_type": "display_data"
    },
    {
     "name": "stdout",
     "output_type": "stream",
     "text": [
      "saving model...\n",
      "train loss: 0.361 valid loss: 0.270 lr: 0.0000400 train dice: 0.8687 valid dice: 0.9017\n",
      "epoch 122/160\n"
     ]
    },
    {
     "data": {
      "application/vnd.jupyter.widget-view+json": {
       "model_id": "d5e04da5c47b4333b7a4457b45384c7e",
       "version_major": 2,
       "version_minor": 0
      },
      "text/plain": [
       "  0%|          | 0/11 [00:00<?, ?it/s]"
      ]
     },
     "metadata": {},
     "output_type": "display_data"
    },
    {
     "data": {
      "application/vnd.jupyter.widget-view+json": {
       "model_id": "0152dba56e124d62b7c55753f5b604d8",
       "version_major": 2,
       "version_minor": 0
      },
      "text/plain": [
       "  0%|          | 0/3 [00:00<?, ?it/s]"
      ]
     },
     "metadata": {},
     "output_type": "display_data"
    },
    {
     "name": "stdout",
     "output_type": "stream",
     "text": [
      "train loss: 0.345 valid loss: 0.262 lr: 0.0000416 train dice: 0.8705 valid dice: 0.9016\n",
      "epoch 123/160\n"
     ]
    },
    {
     "data": {
      "application/vnd.jupyter.widget-view+json": {
       "model_id": "5db45df566c84775865c10c2163a8a43",
       "version_major": 2,
       "version_minor": 0
      },
      "text/plain": [
       "  0%|          | 0/11 [00:00<?, ?it/s]"
      ]
     },
     "metadata": {},
     "output_type": "display_data"
    },
    {
     "data": {
      "application/vnd.jupyter.widget-view+json": {
       "model_id": "703e1bb6a59c414ca046b622dcb9aac2",
       "version_major": 2,
       "version_minor": 0
      },
      "text/plain": [
       "  0%|          | 0/3 [00:00<?, ?it/s]"
      ]
     },
     "metadata": {},
     "output_type": "display_data"
    },
    {
     "name": "stdout",
     "output_type": "stream",
     "text": [
      "train loss: 0.329 valid loss: 0.269 lr: 0.0000431 train dice: 0.8806 valid dice: 0.8959\n",
      "epoch 124/160\n"
     ]
    },
    {
     "data": {
      "application/vnd.jupyter.widget-view+json": {
       "model_id": "0e50858630d14f2fbc4b383c6b83bdd2",
       "version_major": 2,
       "version_minor": 0
      },
      "text/plain": [
       "  0%|          | 0/11 [00:00<?, ?it/s]"
      ]
     },
     "metadata": {},
     "output_type": "display_data"
    },
    {
     "data": {
      "application/vnd.jupyter.widget-view+json": {
       "model_id": "81813ce1e69a43229fcf068c7a8d1570",
       "version_major": 2,
       "version_minor": 0
      },
      "text/plain": [
       "  0%|          | 0/3 [00:00<?, ?it/s]"
      ]
     },
     "metadata": {},
     "output_type": "display_data"
    },
    {
     "name": "stdout",
     "output_type": "stream",
     "text": [
      "train loss: 0.379 valid loss: 0.270 lr: 0.0000447 train dice: 0.8405 valid dice: 0.8958\n",
      "epoch 125/160\n"
     ]
    },
    {
     "data": {
      "application/vnd.jupyter.widget-view+json": {
       "model_id": "b2199d142b6b4be6bf5875fa76ace5df",
       "version_major": 2,
       "version_minor": 0
      },
      "text/plain": [
       "  0%|          | 0/11 [00:00<?, ?it/s]"
      ]
     },
     "metadata": {},
     "output_type": "display_data"
    },
    {
     "data": {
      "application/vnd.jupyter.widget-view+json": {
       "model_id": "dbf2e31959c241d9881ae34eb245757e",
       "version_major": 2,
       "version_minor": 0
      },
      "text/plain": [
       "  0%|          | 0/3 [00:00<?, ?it/s]"
      ]
     },
     "metadata": {},
     "output_type": "display_data"
    },
    {
     "name": "stdout",
     "output_type": "stream",
     "text": [
      "saving model...\n",
      "train loss: 0.302 valid loss: 0.269 lr: 0.0000463 train dice: 0.8891 valid dice: 0.9021\n",
      "epoch 126/160\n"
     ]
    },
    {
     "data": {
      "application/vnd.jupyter.widget-view+json": {
       "model_id": "08a4a44b8f6649a6ac2add0c52b1b630",
       "version_major": 2,
       "version_minor": 0
      },
      "text/plain": [
       "  0%|          | 0/11 [00:00<?, ?it/s]"
      ]
     },
     "metadata": {},
     "output_type": "display_data"
    },
    {
     "data": {
      "application/vnd.jupyter.widget-view+json": {
       "model_id": "dc29a86b24754680b1b1dc608fa2c6fa",
       "version_major": 2,
       "version_minor": 0
      },
      "text/plain": [
       "  0%|          | 0/3 [00:00<?, ?it/s]"
      ]
     },
     "metadata": {},
     "output_type": "display_data"
    },
    {
     "name": "stdout",
     "output_type": "stream",
     "text": [
      "saving model...\n",
      "train loss: 0.362 valid loss: 0.262 lr: 0.0000478 train dice: 0.8707 valid dice: 0.9022\n",
      "epoch 127/160\n"
     ]
    },
    {
     "data": {
      "application/vnd.jupyter.widget-view+json": {
       "model_id": "3c8743c6cbd9484aa5412c77a6cd8c36",
       "version_major": 2,
       "version_minor": 0
      },
      "text/plain": [
       "  0%|          | 0/11 [00:00<?, ?it/s]"
      ]
     },
     "metadata": {},
     "output_type": "display_data"
    },
    {
     "data": {
      "application/vnd.jupyter.widget-view+json": {
       "model_id": "d961d72a054448e09935f55af1312a64",
       "version_major": 2,
       "version_minor": 0
      },
      "text/plain": [
       "  0%|          | 0/3 [00:00<?, ?it/s]"
      ]
     },
     "metadata": {},
     "output_type": "display_data"
    },
    {
     "name": "stdout",
     "output_type": "stream",
     "text": [
      "saving model...\n",
      "train loss: 0.298 valid loss: 0.255 lr: 0.0000493 train dice: 0.8943 valid dice: 0.9026\n",
      "epoch 128/160\n"
     ]
    },
    {
     "data": {
      "application/vnd.jupyter.widget-view+json": {
       "model_id": "cf3535e346f44e92867a5cae9c06f9aa",
       "version_major": 2,
       "version_minor": 0
      },
      "text/plain": [
       "  0%|          | 0/11 [00:00<?, ?it/s]"
      ]
     },
     "metadata": {},
     "output_type": "display_data"
    },
    {
     "data": {
      "application/vnd.jupyter.widget-view+json": {
       "model_id": "8da2117a7379481788805b44cf4b8727",
       "version_major": 2,
       "version_minor": 0
      },
      "text/plain": [
       "  0%|          | 0/3 [00:00<?, ?it/s]"
      ]
     },
     "metadata": {},
     "output_type": "display_data"
    },
    {
     "name": "stdout",
     "output_type": "stream",
     "text": [
      "train loss: 0.311 valid loss: 0.249 lr: 0.0000509 train dice: 0.8831 valid dice: 0.9021\n",
      "epoch 129/160\n"
     ]
    },
    {
     "data": {
      "application/vnd.jupyter.widget-view+json": {
       "model_id": "cdd57327e56747c7a7740563b3eb99e2",
       "version_major": 2,
       "version_minor": 0
      },
      "text/plain": [
       "  0%|          | 0/11 [00:00<?, ?it/s]"
      ]
     },
     "metadata": {},
     "output_type": "display_data"
    },
    {
     "data": {
      "application/vnd.jupyter.widget-view+json": {
       "model_id": "e869721191854789b1ccd153bbb80233",
       "version_major": 2,
       "version_minor": 0
      },
      "text/plain": [
       "  0%|          | 0/3 [00:00<?, ?it/s]"
      ]
     },
     "metadata": {},
     "output_type": "display_data"
    },
    {
     "name": "stdout",
     "output_type": "stream",
     "text": [
      "train loss: 0.304 valid loss: 0.256 lr: 0.0000524 train dice: 0.8898 valid dice: 0.9023\n",
      "epoch 130/160\n"
     ]
    },
    {
     "data": {
      "application/vnd.jupyter.widget-view+json": {
       "model_id": "011e3f41130a47218097668c1147008f",
       "version_major": 2,
       "version_minor": 0
      },
      "text/plain": [
       "  0%|          | 0/11 [00:00<?, ?it/s]"
      ]
     },
     "metadata": {},
     "output_type": "display_data"
    },
    {
     "data": {
      "application/vnd.jupyter.widget-view+json": {
       "model_id": "e5213d23b61a497bb396d79288b8754d",
       "version_major": 2,
       "version_minor": 0
      },
      "text/plain": [
       "  0%|          | 0/3 [00:00<?, ?it/s]"
      ]
     },
     "metadata": {},
     "output_type": "display_data"
    },
    {
     "name": "stdout",
     "output_type": "stream",
     "text": [
      "saving model...\n",
      "train loss: 0.294 valid loss: 0.255 lr: 0.0000538 train dice: 0.8945 valid dice: 0.9032\n",
      "epoch 131/160\n"
     ]
    },
    {
     "data": {
      "application/vnd.jupyter.widget-view+json": {
       "model_id": "fbaee07d157444ce8e3cae5d5f1a7ba2",
       "version_major": 2,
       "version_minor": 0
      },
      "text/plain": [
       "  0%|          | 0/11 [00:00<?, ?it/s]"
      ]
     },
     "metadata": {},
     "output_type": "display_data"
    },
    {
     "data": {
      "application/vnd.jupyter.widget-view+json": {
       "model_id": "7e024adb63a94fac9c26cdfb62e7943c",
       "version_major": 2,
       "version_minor": 0
      },
      "text/plain": [
       "  0%|          | 0/3 [00:00<?, ?it/s]"
      ]
     },
     "metadata": {},
     "output_type": "display_data"
    },
    {
     "name": "stdout",
     "output_type": "stream",
     "text": [
      "saving model...\n",
      "train loss: 0.293 valid loss: 0.250 lr: 0.0000553 train dice: 0.8890 valid dice: 0.9038\n",
      "epoch 132/160\n"
     ]
    },
    {
     "data": {
      "application/vnd.jupyter.widget-view+json": {
       "model_id": "a105e250fec843bf86e7a919d5119f66",
       "version_major": 2,
       "version_minor": 0
      },
      "text/plain": [
       "  0%|          | 0/11 [00:00<?, ?it/s]"
      ]
     },
     "metadata": {},
     "output_type": "display_data"
    },
    {
     "data": {
      "application/vnd.jupyter.widget-view+json": {
       "model_id": "e73fe2c9f71b4b6cb34bc0c5ff2d0b8e",
       "version_major": 2,
       "version_minor": 0
      },
      "text/plain": [
       "  0%|          | 0/3 [00:00<?, ?it/s]"
      ]
     },
     "metadata": {},
     "output_type": "display_data"
    },
    {
     "name": "stdout",
     "output_type": "stream",
     "text": [
      "saving model...\n",
      "train loss: 0.301 valid loss: 0.256 lr: 0.0000567 train dice: 0.8877 valid dice: 0.9048\n",
      "epoch 133/160\n"
     ]
    },
    {
     "data": {
      "application/vnd.jupyter.widget-view+json": {
       "model_id": "5f7d0637293b468591f3e5065c62ce78",
       "version_major": 2,
       "version_minor": 0
      },
      "text/plain": [
       "  0%|          | 0/11 [00:00<?, ?it/s]"
      ]
     },
     "metadata": {},
     "output_type": "display_data"
    },
    {
     "data": {
      "application/vnd.jupyter.widget-view+json": {
       "model_id": "1c67397c5f384b19a91cfa8b04565eb9",
       "version_major": 2,
       "version_minor": 0
      },
      "text/plain": [
       "  0%|          | 0/3 [00:00<?, ?it/s]"
      ]
     },
     "metadata": {},
     "output_type": "display_data"
    },
    {
     "name": "stdout",
     "output_type": "stream",
     "text": [
      "saving model...\n",
      "train loss: 0.317 valid loss: 0.244 lr: 0.0000582 train dice: 0.8767 valid dice: 0.9058\n",
      "epoch 134/160\n"
     ]
    },
    {
     "data": {
      "application/vnd.jupyter.widget-view+json": {
       "model_id": "ec091317f96b4a0a9b2169ad7277e634",
       "version_major": 2,
       "version_minor": 0
      },
      "text/plain": [
       "  0%|          | 0/11 [00:00<?, ?it/s]"
      ]
     },
     "metadata": {},
     "output_type": "display_data"
    },
    {
     "data": {
      "application/vnd.jupyter.widget-view+json": {
       "model_id": "164ac8fa997043c4a29011b843cc5f8d",
       "version_major": 2,
       "version_minor": 0
      },
      "text/plain": [
       "  0%|          | 0/3 [00:00<?, ?it/s]"
      ]
     },
     "metadata": {},
     "output_type": "display_data"
    },
    {
     "name": "stdout",
     "output_type": "stream",
     "text": [
      "train loss: 0.309 valid loss: 0.282 lr: 0.0000595 train dice: 0.8884 valid dice: 0.8948\n",
      "epoch 135/160\n"
     ]
    },
    {
     "data": {
      "application/vnd.jupyter.widget-view+json": {
       "model_id": "a8d00a08b5974cd49e3db5e898b30831",
       "version_major": 2,
       "version_minor": 0
      },
      "text/plain": [
       "  0%|          | 0/11 [00:00<?, ?it/s]"
      ]
     },
     "metadata": {},
     "output_type": "display_data"
    },
    {
     "data": {
      "application/vnd.jupyter.widget-view+json": {
       "model_id": "15083c3f0bf24b559d4b568b414c91db",
       "version_major": 2,
       "version_minor": 0
      },
      "text/plain": [
       "  0%|          | 0/3 [00:00<?, ?it/s]"
      ]
     },
     "metadata": {},
     "output_type": "display_data"
    },
    {
     "name": "stdout",
     "output_type": "stream",
     "text": [
      "saving model...\n",
      "train loss: 0.296 valid loss: 0.249 lr: 0.0000609 train dice: 0.8913 valid dice: 0.9061\n",
      "epoch 136/160\n"
     ]
    },
    {
     "data": {
      "application/vnd.jupyter.widget-view+json": {
       "model_id": "33ea1ed9a92748788bf65bbda965618d",
       "version_major": 2,
       "version_minor": 0
      },
      "text/plain": [
       "  0%|          | 0/11 [00:00<?, ?it/s]"
      ]
     },
     "metadata": {},
     "output_type": "display_data"
    },
    {
     "data": {
      "application/vnd.jupyter.widget-view+json": {
       "model_id": "742d9bb7012a45ddae4f05efb9268638",
       "version_major": 2,
       "version_minor": 0
      },
      "text/plain": [
       "  0%|          | 0/3 [00:00<?, ?it/s]"
      ]
     },
     "metadata": {},
     "output_type": "display_data"
    },
    {
     "name": "stdout",
     "output_type": "stream",
     "text": [
      "train loss: 0.314 valid loss: 0.251 lr: 0.0000622 train dice: 0.8816 valid dice: 0.9032\n",
      "epoch 137/160\n"
     ]
    },
    {
     "data": {
      "application/vnd.jupyter.widget-view+json": {
       "model_id": "f0773a66bafd432f9826ebaf89b3600e",
       "version_major": 2,
       "version_minor": 0
      },
      "text/plain": [
       "  0%|          | 0/11 [00:00<?, ?it/s]"
      ]
     },
     "metadata": {},
     "output_type": "display_data"
    },
    {
     "data": {
      "application/vnd.jupyter.widget-view+json": {
       "model_id": "71329b0df1474f72843fae9ba82fecba",
       "version_major": 2,
       "version_minor": 0
      },
      "text/plain": [
       "  0%|          | 0/3 [00:00<?, ?it/s]"
      ]
     },
     "metadata": {},
     "output_type": "display_data"
    },
    {
     "name": "stdout",
     "output_type": "stream",
     "text": [
      "train loss: 0.295 valid loss: 0.241 lr: 0.0000635 train dice: 0.8895 valid dice: 0.9048\n",
      "epoch 138/160\n"
     ]
    },
    {
     "data": {
      "application/vnd.jupyter.widget-view+json": {
       "model_id": "2e1bd7105a064ebb8fa75acb5fd828f2",
       "version_major": 2,
       "version_minor": 0
      },
      "text/plain": [
       "  0%|          | 0/11 [00:00<?, ?it/s]"
      ]
     },
     "metadata": {},
     "output_type": "display_data"
    },
    {
     "data": {
      "application/vnd.jupyter.widget-view+json": {
       "model_id": "093ba6ed2e1949b1bf76d676b9fb6276",
       "version_major": 2,
       "version_minor": 0
      },
      "text/plain": [
       "  0%|          | 0/3 [00:00<?, ?it/s]"
      ]
     },
     "metadata": {},
     "output_type": "display_data"
    },
    {
     "name": "stdout",
     "output_type": "stream",
     "text": [
      "saving model...\n",
      "train loss: 0.356 valid loss: 0.236 lr: 0.0000648 train dice: 0.8679 valid dice: 0.9064\n",
      "epoch 139/160\n"
     ]
    },
    {
     "data": {
      "application/vnd.jupyter.widget-view+json": {
       "model_id": "b3961b2b2d244c3687e844e0bb8341dd",
       "version_major": 2,
       "version_minor": 0
      },
      "text/plain": [
       "  0%|          | 0/11 [00:00<?, ?it/s]"
      ]
     },
     "metadata": {},
     "output_type": "display_data"
    },
    {
     "data": {
      "application/vnd.jupyter.widget-view+json": {
       "model_id": "4e00b4772a1549038bc34750cca3b44e",
       "version_major": 2,
       "version_minor": 0
      },
      "text/plain": [
       "  0%|          | 0/3 [00:00<?, ?it/s]"
      ]
     },
     "metadata": {},
     "output_type": "display_data"
    },
    {
     "name": "stdout",
     "output_type": "stream",
     "text": [
      "saving model...\n",
      "train loss: 0.272 valid loss: 0.243 lr: 0.0000660 train dice: 0.8994 valid dice: 0.9068\n",
      "epoch 140/160\n"
     ]
    },
    {
     "data": {
      "application/vnd.jupyter.widget-view+json": {
       "model_id": "f548cbdcc3a14c9abe2e177a311ca029",
       "version_major": 2,
       "version_minor": 0
      },
      "text/plain": [
       "  0%|          | 0/11 [00:00<?, ?it/s]"
      ]
     },
     "metadata": {},
     "output_type": "display_data"
    },
    {
     "data": {
      "application/vnd.jupyter.widget-view+json": {
       "model_id": "2a9dc100602e4822867b0af80d14f5fb",
       "version_major": 2,
       "version_minor": 0
      },
      "text/plain": [
       "  0%|          | 0/3 [00:00<?, ?it/s]"
      ]
     },
     "metadata": {},
     "output_type": "display_data"
    },
    {
     "name": "stdout",
     "output_type": "stream",
     "text": [
      "train loss: 0.341 valid loss: 0.237 lr: 0.0000672 train dice: 0.8660 valid dice: 0.9056\n",
      "epoch 141/160\n"
     ]
    },
    {
     "data": {
      "application/vnd.jupyter.widget-view+json": {
       "model_id": "58973d7fe83d4028a4fba426fae68922",
       "version_major": 2,
       "version_minor": 0
      },
      "text/plain": [
       "  0%|          | 0/11 [00:00<?, ?it/s]"
      ]
     },
     "metadata": {},
     "output_type": "display_data"
    },
    {
     "data": {
      "application/vnd.jupyter.widget-view+json": {
       "model_id": "2da15ca96e7c4a05b66cd878c619175f",
       "version_major": 2,
       "version_minor": 0
      },
      "text/plain": [
       "  0%|          | 0/3 [00:00<?, ?it/s]"
      ]
     },
     "metadata": {},
     "output_type": "display_data"
    },
    {
     "name": "stdout",
     "output_type": "stream",
     "text": [
      "train loss: 0.310 valid loss: 0.231 lr: 0.0000683 train dice: 0.8816 valid dice: 0.9057\n",
      "epoch 142/160\n"
     ]
    },
    {
     "data": {
      "application/vnd.jupyter.widget-view+json": {
       "model_id": "1196de056f304e0fb7dfba295b6e8179",
       "version_major": 2,
       "version_minor": 0
      },
      "text/plain": [
       "  0%|          | 0/11 [00:00<?, ?it/s]"
      ]
     },
     "metadata": {},
     "output_type": "display_data"
    },
    {
     "data": {
      "application/vnd.jupyter.widget-view+json": {
       "model_id": "985c0c0bb2ee414aa6108fd004620118",
       "version_major": 2,
       "version_minor": 0
      },
      "text/plain": [
       "  0%|          | 0/3 [00:00<?, ?it/s]"
      ]
     },
     "metadata": {},
     "output_type": "display_data"
    },
    {
     "name": "stdout",
     "output_type": "stream",
     "text": [
      "train loss: 0.301 valid loss: 0.234 lr: 0.0000694 train dice: 0.8794 valid dice: 0.9065\n",
      "epoch 143/160\n"
     ]
    },
    {
     "data": {
      "application/vnd.jupyter.widget-view+json": {
       "model_id": "3e1aac27454b4c1ead253f5333836d98",
       "version_major": 2,
       "version_minor": 0
      },
      "text/plain": [
       "  0%|          | 0/11 [00:00<?, ?it/s]"
      ]
     },
     "metadata": {},
     "output_type": "display_data"
    },
    {
     "data": {
      "application/vnd.jupyter.widget-view+json": {
       "model_id": "3df3ddb405cc464b8a0ccf56d371b254",
       "version_major": 2,
       "version_minor": 0
      },
      "text/plain": [
       "  0%|          | 0/3 [00:00<?, ?it/s]"
      ]
     },
     "metadata": {},
     "output_type": "display_data"
    },
    {
     "name": "stdout",
     "output_type": "stream",
     "text": [
      "train loss: 0.266 valid loss: 0.230 lr: 0.0000704 train dice: 0.8983 valid dice: 0.9047\n",
      "epoch 144/160\n"
     ]
    },
    {
     "data": {
      "application/vnd.jupyter.widget-view+json": {
       "model_id": "4cae3891020f4eba9b57694a93c2da57",
       "version_major": 2,
       "version_minor": 0
      },
      "text/plain": [
       "  0%|          | 0/11 [00:00<?, ?it/s]"
      ]
     },
     "metadata": {},
     "output_type": "display_data"
    },
    {
     "data": {
      "application/vnd.jupyter.widget-view+json": {
       "model_id": "5585ee868171495fa9254534b88cf2dc",
       "version_major": 2,
       "version_minor": 0
      },
      "text/plain": [
       "  0%|          | 0/3 [00:00<?, ?it/s]"
      ]
     },
     "metadata": {},
     "output_type": "display_data"
    },
    {
     "name": "stdout",
     "output_type": "stream",
     "text": [
      "train loss: 0.293 valid loss: 0.227 lr: 0.0000714 train dice: 0.8833 valid dice: 0.9055\n",
      "epoch 145/160\n"
     ]
    },
    {
     "data": {
      "application/vnd.jupyter.widget-view+json": {
       "model_id": "ad5c7c8027234af1aebb1126fc1ef6ff",
       "version_major": 2,
       "version_minor": 0
      },
      "text/plain": [
       "  0%|          | 0/11 [00:00<?, ?it/s]"
      ]
     },
     "metadata": {},
     "output_type": "display_data"
    },
    {
     "data": {
      "application/vnd.jupyter.widget-view+json": {
       "model_id": "6339dd031bea48c199e91b943c006e74",
       "version_major": 2,
       "version_minor": 0
      },
      "text/plain": [
       "  0%|          | 0/3 [00:00<?, ?it/s]"
      ]
     },
     "metadata": {},
     "output_type": "display_data"
    },
    {
     "name": "stdout",
     "output_type": "stream",
     "text": [
      "train loss: 0.289 valid loss: 0.225 lr: 0.0000724 train dice: 0.8875 valid dice: 0.9054\n",
      "epoch 146/160\n"
     ]
    },
    {
     "data": {
      "application/vnd.jupyter.widget-view+json": {
       "model_id": "510a2eeb6d964e40b2d2761f18b14632",
       "version_major": 2,
       "version_minor": 0
      },
      "text/plain": [
       "  0%|          | 0/11 [00:00<?, ?it/s]"
      ]
     },
     "metadata": {},
     "output_type": "display_data"
    },
    {
     "data": {
      "application/vnd.jupyter.widget-view+json": {
       "model_id": "18de2e9121974b05bb610d4a3419a298",
       "version_major": 2,
       "version_minor": 0
      },
      "text/plain": [
       "  0%|          | 0/3 [00:00<?, ?it/s]"
      ]
     },
     "metadata": {},
     "output_type": "display_data"
    },
    {
     "name": "stdout",
     "output_type": "stream",
     "text": [
      "train loss: 0.277 valid loss: 0.227 lr: 0.0000733 train dice: 0.8902 valid dice: 0.9051\n",
      "epoch 147/160\n"
     ]
    },
    {
     "data": {
      "application/vnd.jupyter.widget-view+json": {
       "model_id": "b8f5970e91ad413195e7bc27225bb50d",
       "version_major": 2,
       "version_minor": 0
      },
      "text/plain": [
       "  0%|          | 0/11 [00:00<?, ?it/s]"
      ]
     },
     "metadata": {},
     "output_type": "display_data"
    },
    {
     "data": {
      "application/vnd.jupyter.widget-view+json": {
       "model_id": "9ea1c05adde94752a8fea5774ec5e340",
       "version_major": 2,
       "version_minor": 0
      },
      "text/plain": [
       "  0%|          | 0/3 [00:00<?, ?it/s]"
      ]
     },
     "metadata": {},
     "output_type": "display_data"
    },
    {
     "name": "stdout",
     "output_type": "stream",
     "text": [
      "saving model...\n",
      "train loss: 0.274 valid loss: 0.227 lr: 0.0000741 train dice: 0.8945 valid dice: 0.9076\n",
      "epoch 148/160\n"
     ]
    },
    {
     "data": {
      "application/vnd.jupyter.widget-view+json": {
       "model_id": "f71b9a6a4ed64ce4ad4f78ed532bd1e7",
       "version_major": 2,
       "version_minor": 0
      },
      "text/plain": [
       "  0%|          | 0/11 [00:00<?, ?it/s]"
      ]
     },
     "metadata": {},
     "output_type": "display_data"
    },
    {
     "data": {
      "application/vnd.jupyter.widget-view+json": {
       "model_id": "635f461fe508405a881bf9e68fead3dd",
       "version_major": 2,
       "version_minor": 0
      },
      "text/plain": [
       "  0%|          | 0/3 [00:00<?, ?it/s]"
      ]
     },
     "metadata": {},
     "output_type": "display_data"
    },
    {
     "name": "stdout",
     "output_type": "stream",
     "text": [
      "saving model...\n",
      "train loss: 0.289 valid loss: 0.236 lr: 0.0000749 train dice: 0.8852 valid dice: 0.9087\n",
      "epoch 149/160\n"
     ]
    },
    {
     "data": {
      "application/vnd.jupyter.widget-view+json": {
       "model_id": "4cf1d4e676124a13954d1d05618af3d3",
       "version_major": 2,
       "version_minor": 0
      },
      "text/plain": [
       "  0%|          | 0/11 [00:00<?, ?it/s]"
      ]
     },
     "metadata": {},
     "output_type": "display_data"
    },
    {
     "data": {
      "application/vnd.jupyter.widget-view+json": {
       "model_id": "a4e421dc355c492bb882670013dfbc96",
       "version_major": 2,
       "version_minor": 0
      },
      "text/plain": [
       "  0%|          | 0/3 [00:00<?, ?it/s]"
      ]
     },
     "metadata": {},
     "output_type": "display_data"
    },
    {
     "name": "stdout",
     "output_type": "stream",
     "text": [
      "train loss: 0.316 valid loss: 0.227 lr: 0.0000756 train dice: 0.8792 valid dice: 0.9029\n",
      "epoch 150/160\n"
     ]
    },
    {
     "data": {
      "application/vnd.jupyter.widget-view+json": {
       "model_id": "44bcc9b5b0d940d8acb87aa2cee2ffc7",
       "version_major": 2,
       "version_minor": 0
      },
      "text/plain": [
       "  0%|          | 0/11 [00:00<?, ?it/s]"
      ]
     },
     "metadata": {},
     "output_type": "display_data"
    },
    {
     "data": {
      "application/vnd.jupyter.widget-view+json": {
       "model_id": "9091675952f548ae92b11644d9628030",
       "version_major": 2,
       "version_minor": 0
      },
      "text/plain": [
       "  0%|          | 0/3 [00:00<?, ?it/s]"
      ]
     },
     "metadata": {},
     "output_type": "display_data"
    },
    {
     "name": "stdout",
     "output_type": "stream",
     "text": [
      "train loss: 0.284 valid loss: 0.249 lr: 0.0000763 train dice: 0.8921 valid dice: 0.9074\n",
      "epoch 151/160\n"
     ]
    },
    {
     "data": {
      "application/vnd.jupyter.widget-view+json": {
       "model_id": "b88d52676f8748e4999dc7147d785a37",
       "version_major": 2,
       "version_minor": 0
      },
      "text/plain": [
       "  0%|          | 0/11 [00:00<?, ?it/s]"
      ]
     },
     "metadata": {},
     "output_type": "display_data"
    },
    {
     "data": {
      "application/vnd.jupyter.widget-view+json": {
       "model_id": "453c6c1cf09841e8b9cd398a4b41b07b",
       "version_major": 2,
       "version_minor": 0
      },
      "text/plain": [
       "  0%|          | 0/3 [00:00<?, ?it/s]"
      ]
     },
     "metadata": {},
     "output_type": "display_data"
    },
    {
     "name": "stdout",
     "output_type": "stream",
     "text": [
      "train loss: 0.321 valid loss: 0.224 lr: 0.0000770 train dice: 0.8654 valid dice: 0.9056\n",
      "epoch 152/160\n"
     ]
    },
    {
     "data": {
      "application/vnd.jupyter.widget-view+json": {
       "model_id": "2a2cc590f15344e2a65d5ff05af66f6c",
       "version_major": 2,
       "version_minor": 0
      },
      "text/plain": [
       "  0%|          | 0/11 [00:00<?, ?it/s]"
      ]
     },
     "metadata": {},
     "output_type": "display_data"
    },
    {
     "data": {
      "application/vnd.jupyter.widget-view+json": {
       "model_id": "28fab6d4c7a143a4bcf850171b531a96",
       "version_major": 2,
       "version_minor": 0
      },
      "text/plain": [
       "  0%|          | 0/3 [00:00<?, ?it/s]"
      ]
     },
     "metadata": {},
     "output_type": "display_data"
    },
    {
     "name": "stdout",
     "output_type": "stream",
     "text": [
      "train loss: 0.289 valid loss: 0.231 lr: 0.0000775 train dice: 0.8864 valid dice: 0.9071\n",
      "epoch 153/160\n"
     ]
    },
    {
     "data": {
      "application/vnd.jupyter.widget-view+json": {
       "model_id": "d65ac7dcca5d4c9da5d86822bc5468b5",
       "version_major": 2,
       "version_minor": 0
      },
      "text/plain": [
       "  0%|          | 0/11 [00:00<?, ?it/s]"
      ]
     },
     "metadata": {},
     "output_type": "display_data"
    },
    {
     "data": {
      "application/vnd.jupyter.widget-view+json": {
       "model_id": "2c4121bcd19147cba9f7faf982fc1b0f",
       "version_major": 2,
       "version_minor": 0
      },
      "text/plain": [
       "  0%|          | 0/3 [00:00<?, ?it/s]"
      ]
     },
     "metadata": {},
     "output_type": "display_data"
    },
    {
     "name": "stdout",
     "output_type": "stream",
     "text": [
      "train loss: 0.288 valid loss: 0.239 lr: 0.0000780 train dice: 0.8884 valid dice: 0.9062\n",
      "epoch 154/160\n"
     ]
    },
    {
     "data": {
      "application/vnd.jupyter.widget-view+json": {
       "model_id": "cbbc620e42fe4c5fb1eb1d206606cc85",
       "version_major": 2,
       "version_minor": 0
      },
      "text/plain": [
       "  0%|          | 0/11 [00:00<?, ?it/s]"
      ]
     },
     "metadata": {},
     "output_type": "display_data"
    },
    {
     "data": {
      "application/vnd.jupyter.widget-view+json": {
       "model_id": "5102592ac83944de89536e3f0f5cf7d8",
       "version_major": 2,
       "version_minor": 0
      },
      "text/plain": [
       "  0%|          | 0/3 [00:00<?, ?it/s]"
      ]
     },
     "metadata": {},
     "output_type": "display_data"
    },
    {
     "name": "stdout",
     "output_type": "stream",
     "text": [
      "train loss: 0.287 valid loss: 0.228 lr: 0.0000785 train dice: 0.8821 valid dice: 0.9070\n",
      "epoch 155/160\n"
     ]
    },
    {
     "data": {
      "application/vnd.jupyter.widget-view+json": {
       "model_id": "848de57691c44834a9a9dda9c4abc0d3",
       "version_major": 2,
       "version_minor": 0
      },
      "text/plain": [
       "  0%|          | 0/11 [00:00<?, ?it/s]"
      ]
     },
     "metadata": {},
     "output_type": "display_data"
    },
    {
     "data": {
      "application/vnd.jupyter.widget-view+json": {
       "model_id": "90a82d4357b94c46b5119495b0f56a0d",
       "version_major": 2,
       "version_minor": 0
      },
      "text/plain": [
       "  0%|          | 0/3 [00:00<?, ?it/s]"
      ]
     },
     "metadata": {},
     "output_type": "display_data"
    },
    {
     "name": "stdout",
     "output_type": "stream",
     "text": [
      "train loss: 0.274 valid loss: 0.227 lr: 0.0000789 train dice: 0.8943 valid dice: 0.9080\n",
      "epoch 156/160\n"
     ]
    },
    {
     "data": {
      "application/vnd.jupyter.widget-view+json": {
       "model_id": "6e025aefeb3149988a0e39b6de5eeb9e",
       "version_major": 2,
       "version_minor": 0
      },
      "text/plain": [
       "  0%|          | 0/11 [00:00<?, ?it/s]"
      ]
     },
     "metadata": {},
     "output_type": "display_data"
    },
    {
     "data": {
      "application/vnd.jupyter.widget-view+json": {
       "model_id": "a0a9fe55c811460fa522de34fe8e0d33",
       "version_major": 2,
       "version_minor": 0
      },
      "text/plain": [
       "  0%|          | 0/3 [00:00<?, ?it/s]"
      ]
     },
     "metadata": {},
     "output_type": "display_data"
    },
    {
     "name": "stdout",
     "output_type": "stream",
     "text": [
      "train loss: 0.287 valid loss: 0.234 lr: 0.0000792 train dice: 0.8904 valid dice: 0.9069\n",
      "epoch 157/160\n"
     ]
    },
    {
     "data": {
      "application/vnd.jupyter.widget-view+json": {
       "model_id": "f583ddf2dd404e27bf3d78e8c65ec9ed",
       "version_major": 2,
       "version_minor": 0
      },
      "text/plain": [
       "  0%|          | 0/11 [00:00<?, ?it/s]"
      ]
     },
     "metadata": {},
     "output_type": "display_data"
    },
    {
     "data": {
      "application/vnd.jupyter.widget-view+json": {
       "model_id": "c96b423d19bd410ca42dd286e46d5bed",
       "version_major": 2,
       "version_minor": 0
      },
      "text/plain": [
       "  0%|          | 0/3 [00:00<?, ?it/s]"
      ]
     },
     "metadata": {},
     "output_type": "display_data"
    },
    {
     "name": "stdout",
     "output_type": "stream",
     "text": [
      "train loss: 0.294 valid loss: 0.236 lr: 0.0000795 train dice: 0.8810 valid dice: 0.9060\n",
      "epoch 158/160\n"
     ]
    },
    {
     "data": {
      "application/vnd.jupyter.widget-view+json": {
       "model_id": "ce6c6574b4474b578d486a26ca87bbdd",
       "version_major": 2,
       "version_minor": 0
      },
      "text/plain": [
       "  0%|          | 0/11 [00:00<?, ?it/s]"
      ]
     },
     "metadata": {},
     "output_type": "display_data"
    },
    {
     "data": {
      "application/vnd.jupyter.widget-view+json": {
       "model_id": "2605775658944e118b12a677ace95eff",
       "version_major": 2,
       "version_minor": 0
      },
      "text/plain": [
       "  0%|          | 0/3 [00:00<?, ?it/s]"
      ]
     },
     "metadata": {},
     "output_type": "display_data"
    },
    {
     "name": "stdout",
     "output_type": "stream",
     "text": [
      "train loss: 0.255 valid loss: 0.225 lr: 0.0000797 train dice: 0.8997 valid dice: 0.9019\n",
      "epoch 159/160\n"
     ]
    },
    {
     "data": {
      "application/vnd.jupyter.widget-view+json": {
       "model_id": "f3936693cac74ac3ba242d69927e5919",
       "version_major": 2,
       "version_minor": 0
      },
      "text/plain": [
       "  0%|          | 0/11 [00:00<?, ?it/s]"
      ]
     },
     "metadata": {},
     "output_type": "display_data"
    },
    {
     "data": {
      "application/vnd.jupyter.widget-view+json": {
       "model_id": "ecc83596ed914ea7b012c189bcf5604a",
       "version_major": 2,
       "version_minor": 0
      },
      "text/plain": [
       "  0%|          | 0/3 [00:00<?, ?it/s]"
      ]
     },
     "metadata": {},
     "output_type": "display_data"
    },
    {
     "name": "stdout",
     "output_type": "stream",
     "text": [
      "train loss: 0.255 valid loss: 0.228 lr: 0.0000799 train dice: 0.9040 valid dice: 0.9044\n",
      "epoch 160/160\n"
     ]
    },
    {
     "data": {
      "application/vnd.jupyter.widget-view+json": {
       "model_id": "65c957c4c15c427bb0d5a41a743b63ff",
       "version_major": 2,
       "version_minor": 0
      },
      "text/plain": [
       "  0%|          | 0/11 [00:00<?, ?it/s]"
      ]
     },
     "metadata": {},
     "output_type": "display_data"
    },
    {
     "data": {
      "application/vnd.jupyter.widget-view+json": {
       "model_id": "d0150e5dd04f4ae58b438c5826d8c388",
       "version_major": 2,
       "version_minor": 0
      },
      "text/plain": [
       "  0%|          | 0/3 [00:00<?, ?it/s]"
      ]
     },
     "metadata": {},
     "output_type": "display_data"
    },
    {
     "name": "stdout",
     "output_type": "stream",
     "text": [
      "train loss: 0.259 valid loss: 0.226 lr: 0.0000800 train dice: 0.8987 valid dice: 0.9083\n"
     ]
    }
   ],
   "source": [
    "best_val_dice = 0\n",
    "\n",
    "train_losses = []\n",
    "val_losses = []\n",
    "lrs = []\n",
    "# model_path_val = os.path.join(\"./models\", \"segformer_b2_fold3_768_la_no_lung\")\n",
    "\n",
    "# set_seed(0)\n",
    "epochs = 160\n",
    "for epoch in range(epochs):\n",
    "    print(f'epoch {epoch + 1}/{epochs}')\n",
    "    train_loss, train_dice = run_train(train_dataloader, model, loss_fn, optimizer, device)\n",
    "    val_loss, val_dice = run_valid(valid_dataloader, model, loss_fn, device)\n",
    "    lr = optimizer.param_groups[0][\"lr\"]\n",
    "    \n",
    "    # save model\n",
    "    if val_dice > best_val_dice:\n",
    "        print(\"saving model...\")\n",
    "#         torch.save({'model_state_dict': model.state_dict(),\n",
    "#                     'loss': val_loss,\n",
    "#                     'score': val_dice,\n",
    "#                     'epoch': epoch,\n",
    "#                    }, model_path_val)\n",
    "        model.segformer.save_pretrained(model_path_val)\n",
    "        best_val_dice = val_dice\n",
    "    \n",
    "    lrs.append(lr)\n",
    "    train_losses.append(train_loss)\n",
    "    val_losses.append(val_loss)\n",
    "    print(\"train loss: %.3f valid loss: %.3f lr: %.7f train dice: %.4f valid dice: %.4f\" \n",
    "          % (train_loss, val_loss, lr, train_dice, val_dice,)\n",
    "         )\n",
    "    \n",
    "    if (epoch + 1)%1 == 0:\n",
    "        scheduler.step()"
   ]
  }
 ],
 "metadata": {
  "kernelspec": {
   "display_name": "Python 3 (ipykernel)",
   "language": "python",
   "name": "python3"
  },
  "language_info": {
   "codemirror_mode": {
    "name": "ipython",
    "version": 3
   },
   "file_extension": ".py",
   "mimetype": "text/x-python",
   "name": "python",
   "nbconvert_exporter": "python",
   "pygments_lexer": "ipython3",
   "version": "3.8.13"
  }
 },
 "nbformat": 4,
 "nbformat_minor": 5
}
